{
 "cells": [
  {
   "cell_type": "code",
   "execution_count": 57,
   "id": "62e70312-323f-42a2-a700-62a4175edf02",
   "metadata": {
    "tags": []
   },
   "outputs": [],
   "source": [
    "import pandas as pd\n",
    "pd.set_option('display.width', None)\n",
    "import numpy as np\n",
    "import matplotlib.pyplot as plt\n",
    "import seaborn as sns"
   ]
  },
  {
   "cell_type": "code",
   "execution_count": 58,
   "id": "82170e2a-2e22-403f-8437-25d95b074d33",
   "metadata": {
    "tags": []
   },
   "outputs": [],
   "source": [
    "loldt = pd.read_csv('games.csv')"
   ]
  },
  {
   "cell_type": "code",
   "execution_count": 59,
   "id": "ec269af7",
   "metadata": {},
   "outputs": [],
   "source": [
    "# loldt = loldt.sample(n=15000, random_state = 42)"
   ]
  },
  {
   "cell_type": "code",
   "execution_count": 60,
   "id": "b50351e3-ad2e-4204-9530-9dcb166cf2b7",
   "metadata": {
    "tags": []
   },
   "outputs": [
    {
     "data": {
      "text/html": [
       "<div>\n",
       "<style scoped>\n",
       "    .dataframe tbody tr th:only-of-type {\n",
       "        vertical-align: middle;\n",
       "    }\n",
       "\n",
       "    .dataframe tbody tr th {\n",
       "        vertical-align: top;\n",
       "    }\n",
       "\n",
       "    .dataframe thead th {\n",
       "        text-align: right;\n",
       "    }\n",
       "</style>\n",
       "<table border=\"1\" class=\"dataframe\">\n",
       "  <thead>\n",
       "    <tr style=\"text-align: right;\">\n",
       "      <th></th>\n",
       "      <th>gameId</th>\n",
       "      <th>creationTime</th>\n",
       "      <th>gameDuration</th>\n",
       "      <th>seasonId</th>\n",
       "      <th>winner</th>\n",
       "      <th>firstBlood</th>\n",
       "      <th>firstTower</th>\n",
       "      <th>firstInhibitor</th>\n",
       "      <th>firstBaron</th>\n",
       "      <th>firstDragon</th>\n",
       "      <th>...</th>\n",
       "      <th>t2_towerKills</th>\n",
       "      <th>t2_inhibitorKills</th>\n",
       "      <th>t2_baronKills</th>\n",
       "      <th>t2_dragonKills</th>\n",
       "      <th>t2_riftHeraldKills</th>\n",
       "      <th>t2_ban1</th>\n",
       "      <th>t2_ban2</th>\n",
       "      <th>t2_ban3</th>\n",
       "      <th>t2_ban4</th>\n",
       "      <th>t2_ban5</th>\n",
       "    </tr>\n",
       "  </thead>\n",
       "  <tbody>\n",
       "    <tr>\n",
       "      <th>0</th>\n",
       "      <td>3326086514</td>\n",
       "      <td>1504279457970</td>\n",
       "      <td>1949</td>\n",
       "      <td>9</td>\n",
       "      <td>1</td>\n",
       "      <td>2</td>\n",
       "      <td>1</td>\n",
       "      <td>1</td>\n",
       "      <td>1</td>\n",
       "      <td>1</td>\n",
       "      <td>...</td>\n",
       "      <td>5</td>\n",
       "      <td>0</td>\n",
       "      <td>0</td>\n",
       "      <td>1</td>\n",
       "      <td>1</td>\n",
       "      <td>114</td>\n",
       "      <td>67</td>\n",
       "      <td>43</td>\n",
       "      <td>16</td>\n",
       "      <td>51</td>\n",
       "    </tr>\n",
       "    <tr>\n",
       "      <th>1</th>\n",
       "      <td>3229566029</td>\n",
       "      <td>1497848803862</td>\n",
       "      <td>1851</td>\n",
       "      <td>9</td>\n",
       "      <td>1</td>\n",
       "      <td>1</td>\n",
       "      <td>1</td>\n",
       "      <td>1</td>\n",
       "      <td>0</td>\n",
       "      <td>1</td>\n",
       "      <td>...</td>\n",
       "      <td>2</td>\n",
       "      <td>0</td>\n",
       "      <td>0</td>\n",
       "      <td>0</td>\n",
       "      <td>0</td>\n",
       "      <td>11</td>\n",
       "      <td>67</td>\n",
       "      <td>238</td>\n",
       "      <td>51</td>\n",
       "      <td>420</td>\n",
       "    </tr>\n",
       "    <tr>\n",
       "      <th>2</th>\n",
       "      <td>3327363504</td>\n",
       "      <td>1504360103310</td>\n",
       "      <td>1493</td>\n",
       "      <td>9</td>\n",
       "      <td>1</td>\n",
       "      <td>2</td>\n",
       "      <td>1</td>\n",
       "      <td>1</td>\n",
       "      <td>1</td>\n",
       "      <td>2</td>\n",
       "      <td>...</td>\n",
       "      <td>2</td>\n",
       "      <td>0</td>\n",
       "      <td>0</td>\n",
       "      <td>1</td>\n",
       "      <td>0</td>\n",
       "      <td>157</td>\n",
       "      <td>238</td>\n",
       "      <td>121</td>\n",
       "      <td>57</td>\n",
       "      <td>28</td>\n",
       "    </tr>\n",
       "    <tr>\n",
       "      <th>3</th>\n",
       "      <td>3326856598</td>\n",
       "      <td>1504348503996</td>\n",
       "      <td>1758</td>\n",
       "      <td>9</td>\n",
       "      <td>1</td>\n",
       "      <td>1</td>\n",
       "      <td>1</td>\n",
       "      <td>1</td>\n",
       "      <td>1</td>\n",
       "      <td>1</td>\n",
       "      <td>...</td>\n",
       "      <td>0</td>\n",
       "      <td>0</td>\n",
       "      <td>0</td>\n",
       "      <td>0</td>\n",
       "      <td>0</td>\n",
       "      <td>164</td>\n",
       "      <td>18</td>\n",
       "      <td>141</td>\n",
       "      <td>40</td>\n",
       "      <td>51</td>\n",
       "    </tr>\n",
       "    <tr>\n",
       "      <th>4</th>\n",
       "      <td>3330080762</td>\n",
       "      <td>1504554410899</td>\n",
       "      <td>2094</td>\n",
       "      <td>9</td>\n",
       "      <td>1</td>\n",
       "      <td>2</td>\n",
       "      <td>1</td>\n",
       "      <td>1</td>\n",
       "      <td>1</td>\n",
       "      <td>1</td>\n",
       "      <td>...</td>\n",
       "      <td>3</td>\n",
       "      <td>0</td>\n",
       "      <td>0</td>\n",
       "      <td>1</td>\n",
       "      <td>0</td>\n",
       "      <td>86</td>\n",
       "      <td>11</td>\n",
       "      <td>201</td>\n",
       "      <td>122</td>\n",
       "      <td>18</td>\n",
       "    </tr>\n",
       "  </tbody>\n",
       "</table>\n",
       "<p>5 rows × 61 columns</p>\n",
       "</div>"
      ],
      "text/plain": [
       "       gameId   creationTime  gameDuration  seasonId  winner  firstBlood  \\\n",
       "0  3326086514  1504279457970          1949         9       1           2   \n",
       "1  3229566029  1497848803862          1851         9       1           1   \n",
       "2  3327363504  1504360103310          1493         9       1           2   \n",
       "3  3326856598  1504348503996          1758         9       1           1   \n",
       "4  3330080762  1504554410899          2094         9       1           2   \n",
       "\n",
       "   firstTower  firstInhibitor  firstBaron  firstDragon  ...  t2_towerKills  \\\n",
       "0           1               1           1            1  ...              5   \n",
       "1           1               1           0            1  ...              2   \n",
       "2           1               1           1            2  ...              2   \n",
       "3           1               1           1            1  ...              0   \n",
       "4           1               1           1            1  ...              3   \n",
       "\n",
       "   t2_inhibitorKills  t2_baronKills  t2_dragonKills  t2_riftHeraldKills  \\\n",
       "0                  0              0               1                   1   \n",
       "1                  0              0               0                   0   \n",
       "2                  0              0               1                   0   \n",
       "3                  0              0               0                   0   \n",
       "4                  0              0               1                   0   \n",
       "\n",
       "   t2_ban1  t2_ban2  t2_ban3  t2_ban4  t2_ban5  \n",
       "0      114       67       43       16       51  \n",
       "1       11       67      238       51      420  \n",
       "2      157      238      121       57       28  \n",
       "3      164       18      141       40       51  \n",
       "4       86       11      201      122       18  \n",
       "\n",
       "[5 rows x 61 columns]"
      ]
     },
     "execution_count": 60,
     "metadata": {},
     "output_type": "execute_result"
    }
   ],
   "source": [
    "loldt.head()"
   ]
  },
  {
   "cell_type": "code",
   "execution_count": 61,
   "id": "a7993958-4c92-4ff4-9e0d-9a9375ebf789",
   "metadata": {
    "tags": []
   },
   "outputs": [
    {
     "data": {
      "text/plain": [
       "(51490, 61)"
      ]
     },
     "execution_count": 61,
     "metadata": {},
     "output_type": "execute_result"
    }
   ],
   "source": [
    "loldt.shape"
   ]
  },
  {
   "cell_type": "code",
   "execution_count": 62,
   "id": "bc30869c-59d6-49d1-b6e3-663971474518",
   "metadata": {
    "tags": []
   },
   "outputs": [
    {
     "data": {
      "text/html": [
       "<div>\n",
       "<style scoped>\n",
       "    .dataframe tbody tr th:only-of-type {\n",
       "        vertical-align: middle;\n",
       "    }\n",
       "\n",
       "    .dataframe tbody tr th {\n",
       "        vertical-align: top;\n",
       "    }\n",
       "\n",
       "    .dataframe thead th {\n",
       "        text-align: right;\n",
       "    }\n",
       "</style>\n",
       "<table border=\"1\" class=\"dataframe\">\n",
       "  <thead>\n",
       "    <tr style=\"text-align: right;\">\n",
       "      <th></th>\n",
       "      <th>gameId</th>\n",
       "      <th>creationTime</th>\n",
       "      <th>gameDuration</th>\n",
       "      <th>seasonId</th>\n",
       "      <th>winner</th>\n",
       "      <th>firstBlood</th>\n",
       "      <th>firstTower</th>\n",
       "      <th>firstInhibitor</th>\n",
       "      <th>firstBaron</th>\n",
       "      <th>firstDragon</th>\n",
       "      <th>...</th>\n",
       "      <th>t2_towerKills</th>\n",
       "      <th>t2_inhibitorKills</th>\n",
       "      <th>t2_baronKills</th>\n",
       "      <th>t2_dragonKills</th>\n",
       "      <th>t2_riftHeraldKills</th>\n",
       "      <th>t2_ban1</th>\n",
       "      <th>t2_ban2</th>\n",
       "      <th>t2_ban3</th>\n",
       "      <th>t2_ban4</th>\n",
       "      <th>t2_ban5</th>\n",
       "    </tr>\n",
       "  </thead>\n",
       "  <tbody>\n",
       "    <tr>\n",
       "      <th>0</th>\n",
       "      <td>3326086514</td>\n",
       "      <td>1504279457970</td>\n",
       "      <td>1949</td>\n",
       "      <td>9</td>\n",
       "      <td>1</td>\n",
       "      <td>2</td>\n",
       "      <td>1</td>\n",
       "      <td>1</td>\n",
       "      <td>1</td>\n",
       "      <td>1</td>\n",
       "      <td>...</td>\n",
       "      <td>5</td>\n",
       "      <td>0</td>\n",
       "      <td>0</td>\n",
       "      <td>1</td>\n",
       "      <td>1</td>\n",
       "      <td>114</td>\n",
       "      <td>67</td>\n",
       "      <td>43</td>\n",
       "      <td>16</td>\n",
       "      <td>51</td>\n",
       "    </tr>\n",
       "    <tr>\n",
       "      <th>1</th>\n",
       "      <td>3229566029</td>\n",
       "      <td>1497848803862</td>\n",
       "      <td>1851</td>\n",
       "      <td>9</td>\n",
       "      <td>1</td>\n",
       "      <td>1</td>\n",
       "      <td>1</td>\n",
       "      <td>1</td>\n",
       "      <td>0</td>\n",
       "      <td>1</td>\n",
       "      <td>...</td>\n",
       "      <td>2</td>\n",
       "      <td>0</td>\n",
       "      <td>0</td>\n",
       "      <td>0</td>\n",
       "      <td>0</td>\n",
       "      <td>11</td>\n",
       "      <td>67</td>\n",
       "      <td>238</td>\n",
       "      <td>51</td>\n",
       "      <td>420</td>\n",
       "    </tr>\n",
       "    <tr>\n",
       "      <th>2</th>\n",
       "      <td>3327363504</td>\n",
       "      <td>1504360103310</td>\n",
       "      <td>1493</td>\n",
       "      <td>9</td>\n",
       "      <td>1</td>\n",
       "      <td>2</td>\n",
       "      <td>1</td>\n",
       "      <td>1</td>\n",
       "      <td>1</td>\n",
       "      <td>2</td>\n",
       "      <td>...</td>\n",
       "      <td>2</td>\n",
       "      <td>0</td>\n",
       "      <td>0</td>\n",
       "      <td>1</td>\n",
       "      <td>0</td>\n",
       "      <td>157</td>\n",
       "      <td>238</td>\n",
       "      <td>121</td>\n",
       "      <td>57</td>\n",
       "      <td>28</td>\n",
       "    </tr>\n",
       "    <tr>\n",
       "      <th>3</th>\n",
       "      <td>3326856598</td>\n",
       "      <td>1504348503996</td>\n",
       "      <td>1758</td>\n",
       "      <td>9</td>\n",
       "      <td>1</td>\n",
       "      <td>1</td>\n",
       "      <td>1</td>\n",
       "      <td>1</td>\n",
       "      <td>1</td>\n",
       "      <td>1</td>\n",
       "      <td>...</td>\n",
       "      <td>0</td>\n",
       "      <td>0</td>\n",
       "      <td>0</td>\n",
       "      <td>0</td>\n",
       "      <td>0</td>\n",
       "      <td>164</td>\n",
       "      <td>18</td>\n",
       "      <td>141</td>\n",
       "      <td>40</td>\n",
       "      <td>51</td>\n",
       "    </tr>\n",
       "    <tr>\n",
       "      <th>4</th>\n",
       "      <td>3330080762</td>\n",
       "      <td>1504554410899</td>\n",
       "      <td>2094</td>\n",
       "      <td>9</td>\n",
       "      <td>1</td>\n",
       "      <td>2</td>\n",
       "      <td>1</td>\n",
       "      <td>1</td>\n",
       "      <td>1</td>\n",
       "      <td>1</td>\n",
       "      <td>...</td>\n",
       "      <td>3</td>\n",
       "      <td>0</td>\n",
       "      <td>0</td>\n",
       "      <td>1</td>\n",
       "      <td>0</td>\n",
       "      <td>86</td>\n",
       "      <td>11</td>\n",
       "      <td>201</td>\n",
       "      <td>122</td>\n",
       "      <td>18</td>\n",
       "    </tr>\n",
       "    <tr>\n",
       "      <th>5</th>\n",
       "      <td>3287435705</td>\n",
       "      <td>1501667992132</td>\n",
       "      <td>2059</td>\n",
       "      <td>9</td>\n",
       "      <td>1</td>\n",
       "      <td>2</td>\n",
       "      <td>2</td>\n",
       "      <td>1</td>\n",
       "      <td>1</td>\n",
       "      <td>2</td>\n",
       "      <td>...</td>\n",
       "      <td>6</td>\n",
       "      <td>0</td>\n",
       "      <td>0</td>\n",
       "      <td>3</td>\n",
       "      <td>0</td>\n",
       "      <td>119</td>\n",
       "      <td>134</td>\n",
       "      <td>154</td>\n",
       "      <td>63</td>\n",
       "      <td>31</td>\n",
       "    </tr>\n",
       "    <tr>\n",
       "      <th>6</th>\n",
       "      <td>3314215542</td>\n",
       "      <td>1503430065724</td>\n",
       "      <td>1993</td>\n",
       "      <td>9</td>\n",
       "      <td>1</td>\n",
       "      <td>1</td>\n",
       "      <td>2</td>\n",
       "      <td>1</td>\n",
       "      <td>1</td>\n",
       "      <td>1</td>\n",
       "      <td>...</td>\n",
       "      <td>2</td>\n",
       "      <td>0</td>\n",
       "      <td>0</td>\n",
       "      <td>0</td>\n",
       "      <td>0</td>\n",
       "      <td>75</td>\n",
       "      <td>42</td>\n",
       "      <td>31</td>\n",
       "      <td>40</td>\n",
       "      <td>429</td>\n",
       "    </tr>\n",
       "    <tr>\n",
       "      <th>7</th>\n",
       "      <td>3329224025</td>\n",
       "      <td>1504472363684</td>\n",
       "      <td>1334</td>\n",
       "      <td>9</td>\n",
       "      <td>1</td>\n",
       "      <td>1</td>\n",
       "      <td>1</td>\n",
       "      <td>0</td>\n",
       "      <td>0</td>\n",
       "      <td>2</td>\n",
       "      <td>...</td>\n",
       "      <td>0</td>\n",
       "      <td>0</td>\n",
       "      <td>0</td>\n",
       "      <td>2</td>\n",
       "      <td>0</td>\n",
       "      <td>157</td>\n",
       "      <td>38</td>\n",
       "      <td>122</td>\n",
       "      <td>40</td>\n",
       "      <td>238</td>\n",
       "    </tr>\n",
       "    <tr>\n",
       "      <th>8</th>\n",
       "      <td>3318040883</td>\n",
       "      <td>1503686577549</td>\n",
       "      <td>1387</td>\n",
       "      <td>9</td>\n",
       "      <td>2</td>\n",
       "      <td>2</td>\n",
       "      <td>2</td>\n",
       "      <td>2</td>\n",
       "      <td>0</td>\n",
       "      <td>2</td>\n",
       "      <td>...</td>\n",
       "      <td>8</td>\n",
       "      <td>1</td>\n",
       "      <td>0</td>\n",
       "      <td>2</td>\n",
       "      <td>1</td>\n",
       "      <td>28</td>\n",
       "      <td>51</td>\n",
       "      <td>53</td>\n",
       "      <td>157</td>\n",
       "      <td>40</td>\n",
       "    </tr>\n",
       "    <tr>\n",
       "      <th>9</th>\n",
       "      <td>3327786881</td>\n",
       "      <td>1504385918871</td>\n",
       "      <td>2681</td>\n",
       "      <td>9</td>\n",
       "      <td>2</td>\n",
       "      <td>2</td>\n",
       "      <td>2</td>\n",
       "      <td>2</td>\n",
       "      <td>2</td>\n",
       "      <td>2</td>\n",
       "      <td>...</td>\n",
       "      <td>8</td>\n",
       "      <td>3</td>\n",
       "      <td>1</td>\n",
       "      <td>2</td>\n",
       "      <td>0</td>\n",
       "      <td>64</td>\n",
       "      <td>141</td>\n",
       "      <td>84</td>\n",
       "      <td>67</td>\n",
       "      <td>53</td>\n",
       "    </tr>\n",
       "    <tr>\n",
       "      <th>10</th>\n",
       "      <td>3325996400</td>\n",
       "      <td>1504273919929</td>\n",
       "      <td>1391</td>\n",
       "      <td>9</td>\n",
       "      <td>2</td>\n",
       "      <td>2</td>\n",
       "      <td>2</td>\n",
       "      <td>2</td>\n",
       "      <td>2</td>\n",
       "      <td>2</td>\n",
       "      <td>...</td>\n",
       "      <td>10</td>\n",
       "      <td>2</td>\n",
       "      <td>1</td>\n",
       "      <td>1</td>\n",
       "      <td>1</td>\n",
       "      <td>19</td>\n",
       "      <td>74</td>\n",
       "      <td>122</td>\n",
       "      <td>59</td>\n",
       "      <td>412</td>\n",
       "    </tr>\n",
       "    <tr>\n",
       "      <th>11</th>\n",
       "      <td>3284613292</td>\n",
       "      <td>1501452879926</td>\n",
       "      <td>1671</td>\n",
       "      <td>9</td>\n",
       "      <td>1</td>\n",
       "      <td>1</td>\n",
       "      <td>2</td>\n",
       "      <td>1</td>\n",
       "      <td>0</td>\n",
       "      <td>2</td>\n",
       "      <td>...</td>\n",
       "      <td>2</td>\n",
       "      <td>0</td>\n",
       "      <td>0</td>\n",
       "      <td>2</td>\n",
       "      <td>0</td>\n",
       "      <td>103</td>\n",
       "      <td>154</td>\n",
       "      <td>412</td>\n",
       "      <td>6</td>\n",
       "      <td>64</td>\n",
       "    </tr>\n",
       "    <tr>\n",
       "      <th>12</th>\n",
       "      <td>3321570535</td>\n",
       "      <td>1503947039120</td>\n",
       "      <td>2071</td>\n",
       "      <td>9</td>\n",
       "      <td>1</td>\n",
       "      <td>1</td>\n",
       "      <td>1</td>\n",
       "      <td>0</td>\n",
       "      <td>1</td>\n",
       "      <td>2</td>\n",
       "      <td>...</td>\n",
       "      <td>3</td>\n",
       "      <td>0</td>\n",
       "      <td>0</td>\n",
       "      <td>1</td>\n",
       "      <td>0</td>\n",
       "      <td>143</td>\n",
       "      <td>64</td>\n",
       "      <td>254</td>\n",
       "      <td>53</td>\n",
       "      <td>122</td>\n",
       "    </tr>\n",
       "    <tr>\n",
       "      <th>13</th>\n",
       "      <td>3323144943</td>\n",
       "      <td>1504057872709</td>\n",
       "      <td>1942</td>\n",
       "      <td>9</td>\n",
       "      <td>1</td>\n",
       "      <td>2</td>\n",
       "      <td>2</td>\n",
       "      <td>1</td>\n",
       "      <td>0</td>\n",
       "      <td>1</td>\n",
       "      <td>...</td>\n",
       "      <td>3</td>\n",
       "      <td>0</td>\n",
       "      <td>0</td>\n",
       "      <td>2</td>\n",
       "      <td>0</td>\n",
       "      <td>154</td>\n",
       "      <td>498</td>\n",
       "      <td>117</td>\n",
       "      <td>141</td>\n",
       "      <td>19</td>\n",
       "    </tr>\n",
       "    <tr>\n",
       "      <th>14</th>\n",
       "      <td>3329332855</td>\n",
       "      <td>1504479222082</td>\n",
       "      <td>2374</td>\n",
       "      <td>9</td>\n",
       "      <td>2</td>\n",
       "      <td>2</td>\n",
       "      <td>2</td>\n",
       "      <td>1</td>\n",
       "      <td>1</td>\n",
       "      <td>2</td>\n",
       "      <td>...</td>\n",
       "      <td>9</td>\n",
       "      <td>2</td>\n",
       "      <td>0</td>\n",
       "      <td>2</td>\n",
       "      <td>0</td>\n",
       "      <td>31</td>\n",
       "      <td>67</td>\n",
       "      <td>202</td>\n",
       "      <td>53</td>\n",
       "      <td>119</td>\n",
       "    </tr>\n",
       "  </tbody>\n",
       "</table>\n",
       "<p>15 rows × 61 columns</p>\n",
       "</div>"
      ],
      "text/plain": [
       "        gameId   creationTime  gameDuration  seasonId  winner  firstBlood  \\\n",
       "0   3326086514  1504279457970          1949         9       1           2   \n",
       "1   3229566029  1497848803862          1851         9       1           1   \n",
       "2   3327363504  1504360103310          1493         9       1           2   \n",
       "3   3326856598  1504348503996          1758         9       1           1   \n",
       "4   3330080762  1504554410899          2094         9       1           2   \n",
       "5   3287435705  1501667992132          2059         9       1           2   \n",
       "6   3314215542  1503430065724          1993         9       1           1   \n",
       "7   3329224025  1504472363684          1334         9       1           1   \n",
       "8   3318040883  1503686577549          1387         9       2           2   \n",
       "9   3327786881  1504385918871          2681         9       2           2   \n",
       "10  3325996400  1504273919929          1391         9       2           2   \n",
       "11  3284613292  1501452879926          1671         9       1           1   \n",
       "12  3321570535  1503947039120          2071         9       1           1   \n",
       "13  3323144943  1504057872709          1942         9       1           2   \n",
       "14  3329332855  1504479222082          2374         9       2           2   \n",
       "\n",
       "    firstTower  firstInhibitor  firstBaron  firstDragon  ...  t2_towerKills  \\\n",
       "0            1               1           1            1  ...              5   \n",
       "1            1               1           0            1  ...              2   \n",
       "2            1               1           1            2  ...              2   \n",
       "3            1               1           1            1  ...              0   \n",
       "4            1               1           1            1  ...              3   \n",
       "5            2               1           1            2  ...              6   \n",
       "6            2               1           1            1  ...              2   \n",
       "7            1               0           0            2  ...              0   \n",
       "8            2               2           0            2  ...              8   \n",
       "9            2               2           2            2  ...              8   \n",
       "10           2               2           2            2  ...             10   \n",
       "11           2               1           0            2  ...              2   \n",
       "12           1               0           1            2  ...              3   \n",
       "13           2               1           0            1  ...              3   \n",
       "14           2               1           1            2  ...              9   \n",
       "\n",
       "    t2_inhibitorKills  t2_baronKills  t2_dragonKills  t2_riftHeraldKills  \\\n",
       "0                   0              0               1                   1   \n",
       "1                   0              0               0                   0   \n",
       "2                   0              0               1                   0   \n",
       "3                   0              0               0                   0   \n",
       "4                   0              0               1                   0   \n",
       "5                   0              0               3                   0   \n",
       "6                   0              0               0                   0   \n",
       "7                   0              0               2                   0   \n",
       "8                   1              0               2                   1   \n",
       "9                   3              1               2                   0   \n",
       "10                  2              1               1                   1   \n",
       "11                  0              0               2                   0   \n",
       "12                  0              0               1                   0   \n",
       "13                  0              0               2                   0   \n",
       "14                  2              0               2                   0   \n",
       "\n",
       "    t2_ban1  t2_ban2  t2_ban3  t2_ban4  t2_ban5  \n",
       "0       114       67       43       16       51  \n",
       "1        11       67      238       51      420  \n",
       "2       157      238      121       57       28  \n",
       "3       164       18      141       40       51  \n",
       "4        86       11      201      122       18  \n",
       "5       119      134      154       63       31  \n",
       "6        75       42       31       40      429  \n",
       "7       157       38      122       40      238  \n",
       "8        28       51       53      157       40  \n",
       "9        64      141       84       67       53  \n",
       "10       19       74      122       59      412  \n",
       "11      103      154      412        6       64  \n",
       "12      143       64      254       53      122  \n",
       "13      154      498      117      141       19  \n",
       "14       31       67      202       53      119  \n",
       "\n",
       "[15 rows x 61 columns]"
      ]
     },
     "execution_count": 62,
     "metadata": {},
     "output_type": "execute_result"
    }
   ],
   "source": [
    "loldt.head(15)"
   ]
  },
  {
   "cell_type": "code",
   "execution_count": 63,
   "id": "25206f61-d8fb-4c78-a644-68eecdbe1fca",
   "metadata": {
    "tags": []
   },
   "outputs": [],
   "source": [
    "loldt.drop('gameId' , axis = 1, inplace = True)"
   ]
  },
  {
   "cell_type": "code",
   "execution_count": 64,
   "id": "95e7f5be-5922-4ef6-8db7-27222c2d8aee",
   "metadata": {},
   "outputs": [
    {
     "data": {
      "text/plain": [
       "1    26077\n",
       "2    25413\n",
       "Name: winner, dtype: int64"
      ]
     },
     "execution_count": 64,
     "metadata": {},
     "output_type": "execute_result"
    }
   ],
   "source": [
    "loldt['winner'].value_counts()"
   ]
  },
  {
   "cell_type": "code",
   "execution_count": 65,
   "id": "2c0b0135-7e8c-410d-b455-00340d016678",
   "metadata": {},
   "outputs": [
    {
     "data": {
      "text/plain": [
       "Index(['creationTime', 'gameDuration', 'seasonId', 'winner', 'firstBlood',\n",
       "       'firstTower', 'firstInhibitor', 'firstBaron', 'firstDragon',\n",
       "       'firstRiftHerald', 't1_champ1id', 't1_champ1_sum1', 't1_champ1_sum2',\n",
       "       't1_champ2id', 't1_champ2_sum1', 't1_champ2_sum2', 't1_champ3id',\n",
       "       't1_champ3_sum1', 't1_champ3_sum2', 't1_champ4id', 't1_champ4_sum1',\n",
       "       't1_champ4_sum2', 't1_champ5id', 't1_champ5_sum1', 't1_champ5_sum2',\n",
       "       't1_towerKills', 't1_inhibitorKills', 't1_baronKills', 't1_dragonKills',\n",
       "       't1_riftHeraldKills', 't1_ban1', 't1_ban2', 't1_ban3', 't1_ban4',\n",
       "       't1_ban5', 't2_champ1id', 't2_champ1_sum1', 't2_champ1_sum2',\n",
       "       't2_champ2id', 't2_champ2_sum1', 't2_champ2_sum2', 't2_champ3id',\n",
       "       't2_champ3_sum1', 't2_champ3_sum2', 't2_champ4id', 't2_champ4_sum1',\n",
       "       't2_champ4_sum2', 't2_champ5id', 't2_champ5_sum1', 't2_champ5_sum2',\n",
       "       't2_towerKills', 't2_inhibitorKills', 't2_baronKills', 't2_dragonKills',\n",
       "       't2_riftHeraldKills', 't2_ban1', 't2_ban2', 't2_ban3', 't2_ban4',\n",
       "       't2_ban5'],\n",
       "      dtype='object')"
      ]
     },
     "execution_count": 65,
     "metadata": {},
     "output_type": "execute_result"
    }
   ],
   "source": [
    "loldt.columns"
   ]
  },
  {
   "cell_type": "code",
   "execution_count": 66,
   "id": "5d16d7a8",
   "metadata": {},
   "outputs": [],
   "source": [
    "loldt.drop('t1_towerKills', axis=1, inplace=True)\n",
    "loldt.drop('t2_towerKills', axis=1, inplace=True)\n",
    "loldt.drop('seasonId', axis=1, inplace=True)\n",
    "loldt.drop('t1_inhibitorKills', axis=1, inplace=True)\n",
    "loldt.drop('t2_inhibitorKills', axis=1, inplace=True)\n",
    "loldt.drop('creationTime', axis=1, inplace=True)\n",
    "loldt.drop('firstInhibitor', axis=1, inplace=True)"
   ]
  },
  {
   "cell_type": "code",
   "execution_count": 67,
   "id": "73a30710-d69e-4b4b-8a51-3cffe4f8a565",
   "metadata": {
    "tags": []
   },
   "outputs": [
    {
     "name": "stdout",
     "output_type": "stream",
     "text": [
      "<class 'pandas.core.frame.DataFrame'>\n",
      "RangeIndex: 51490 entries, 0 to 51489\n",
      "Data columns (total 53 columns):\n",
      " #   Column              Non-Null Count  Dtype\n",
      "---  ------              --------------  -----\n",
      " 0   gameDuration        51490 non-null  int64\n",
      " 1   winner              51490 non-null  int64\n",
      " 2   firstBlood          51490 non-null  int64\n",
      " 3   firstTower          51490 non-null  int64\n",
      " 4   firstBaron          51490 non-null  int64\n",
      " 5   firstDragon         51490 non-null  int64\n",
      " 6   firstRiftHerald     51490 non-null  int64\n",
      " 7   t1_champ1id         51490 non-null  int64\n",
      " 8   t1_champ1_sum1      51490 non-null  int64\n",
      " 9   t1_champ1_sum2      51490 non-null  int64\n",
      " 10  t1_champ2id         51490 non-null  int64\n",
      " 11  t1_champ2_sum1      51490 non-null  int64\n",
      " 12  t1_champ2_sum2      51490 non-null  int64\n",
      " 13  t1_champ3id         51490 non-null  int64\n",
      " 14  t1_champ3_sum1      51490 non-null  int64\n",
      " 15  t1_champ3_sum2      51490 non-null  int64\n",
      " 16  t1_champ4id         51490 non-null  int64\n",
      " 17  t1_champ4_sum1      51490 non-null  int64\n",
      " 18  t1_champ4_sum2      51490 non-null  int64\n",
      " 19  t1_champ5id         51490 non-null  int64\n",
      " 20  t1_champ5_sum1      51490 non-null  int64\n",
      " 21  t1_champ5_sum2      51490 non-null  int64\n",
      " 22  t1_baronKills       51490 non-null  int64\n",
      " 23  t1_dragonKills      51490 non-null  int64\n",
      " 24  t1_riftHeraldKills  51490 non-null  int64\n",
      " 25  t1_ban1             51490 non-null  int64\n",
      " 26  t1_ban2             51490 non-null  int64\n",
      " 27  t1_ban3             51490 non-null  int64\n",
      " 28  t1_ban4             51490 non-null  int64\n",
      " 29  t1_ban5             51490 non-null  int64\n",
      " 30  t2_champ1id         51490 non-null  int64\n",
      " 31  t2_champ1_sum1      51490 non-null  int64\n",
      " 32  t2_champ1_sum2      51490 non-null  int64\n",
      " 33  t2_champ2id         51490 non-null  int64\n",
      " 34  t2_champ2_sum1      51490 non-null  int64\n",
      " 35  t2_champ2_sum2      51490 non-null  int64\n",
      " 36  t2_champ3id         51490 non-null  int64\n",
      " 37  t2_champ3_sum1      51490 non-null  int64\n",
      " 38  t2_champ3_sum2      51490 non-null  int64\n",
      " 39  t2_champ4id         51490 non-null  int64\n",
      " 40  t2_champ4_sum1      51490 non-null  int64\n",
      " 41  t2_champ4_sum2      51490 non-null  int64\n",
      " 42  t2_champ5id         51490 non-null  int64\n",
      " 43  t2_champ5_sum1      51490 non-null  int64\n",
      " 44  t2_champ5_sum2      51490 non-null  int64\n",
      " 45  t2_baronKills       51490 non-null  int64\n",
      " 46  t2_dragonKills      51490 non-null  int64\n",
      " 47  t2_riftHeraldKills  51490 non-null  int64\n",
      " 48  t2_ban1             51490 non-null  int64\n",
      " 49  t2_ban2             51490 non-null  int64\n",
      " 50  t2_ban3             51490 non-null  int64\n",
      " 51  t2_ban4             51490 non-null  int64\n",
      " 52  t2_ban5             51490 non-null  int64\n",
      "dtypes: int64(53)\n",
      "memory usage: 20.8 MB\n"
     ]
    }
   ],
   "source": [
    "loldt.info()"
   ]
  },
  {
   "cell_type": "code",
   "execution_count": 68,
   "id": "4ee58de0-5311-489b-b129-9f4302023f65",
   "metadata": {
    "tags": []
   },
   "outputs": [
    {
     "data": {
      "text/html": [
       "<pre style=\"white-space:pre;overflow-x:auto;line-height:normal;font-family:Menlo,'DejaVu Sans Mono',consolas,'Courier New',monospace\">╭──────────────────────────────────────────────── skimpy summary ─────────────────────────────────────────────────╮\n",
       "│ <span style=\"font-style: italic\">         Data Summary         </span> <span style=\"font-style: italic\">      Data Types       </span>                                                          │\n",
       "│ ┏━━━━━━━━━━━━━━━━━━━┳━━━━━━━━┓ ┏━━━━━━━━━━━━━┳━━━━━━━┓                                                          │\n",
       "│ ┃<span style=\"color: #008080; text-decoration-color: #008080; font-weight: bold\"> dataframe         </span>┃<span style=\"color: #008080; text-decoration-color: #008080; font-weight: bold\"> Values </span>┃ ┃<span style=\"color: #008080; text-decoration-color: #008080; font-weight: bold\"> Column Type </span>┃<span style=\"color: #008080; text-decoration-color: #008080; font-weight: bold\"> Count </span>┃                                                          │\n",
       "│ ┡━━━━━━━━━━━━━━━━━━━╇━━━━━━━━┩ ┡━━━━━━━━━━━━━╇━━━━━━━┩                                                          │\n",
       "│ │ Number of rows    │ 51490  │ │ int32       │ 53    │                                                          │\n",
       "│ │ Number of columns │ 53     │ └─────────────┴───────┘                                                          │\n",
       "│ └───────────────────┴────────┘                                                                                  │\n",
       "│ <span style=\"font-style: italic\">                                                    number                                                    </span>  │\n",
       "│ ┏━━━━━━━━━━━━━━━━━━━━━━━━━━━━┳━━━━━━┳━━━━━━━━┳━━━━━━━━┳━━━━━━━━┳━━━━━━━┳━━━━━━━━┳━━━━━━━━┳━━━━━━━━┳━━━━━━━━━━┓  │\n",
       "│ ┃<span style=\"font-weight: bold\"> column_name                </span>┃<span style=\"font-weight: bold\"> NA   </span>┃<span style=\"font-weight: bold\"> NA %   </span>┃<span style=\"font-weight: bold\"> mean   </span>┃<span style=\"font-weight: bold\"> sd     </span>┃<span style=\"font-weight: bold\"> p0    </span>┃<span style=\"font-weight: bold\"> p25    </span>┃<span style=\"font-weight: bold\"> p75    </span>┃<span style=\"font-weight: bold\"> p100   </span>┃<span style=\"font-weight: bold\"> hist     </span>┃  │\n",
       "│ ┡━━━━━━━━━━━━━━━━━━━━━━━━━━━━╇━━━━━━╇━━━━━━━━╇━━━━━━━━╇━━━━━━━━╇━━━━━━━╇━━━━━━━━╇━━━━━━━━╇━━━━━━━━╇━━━━━━━━━━┩  │\n",
       "│ │ <span style=\"color: #af87ff; text-decoration-color: #af87ff\">gameDuration              </span> │ <span style=\"color: #008080; text-decoration-color: #008080\">   0</span> │ <span style=\"color: #008080; text-decoration-color: #008080\">     0</span> │ <span style=\"color: #008080; text-decoration-color: #008080\">  1800</span> │ <span style=\"color: #008080; text-decoration-color: #008080\">   510</span> │ <span style=\"color: #008080; text-decoration-color: #008080\">  190</span> │ <span style=\"color: #008080; text-decoration-color: #008080\">  1500</span> │ <span style=\"color: #008080; text-decoration-color: #008080\">  2100</span> │ <span style=\"color: #008080; text-decoration-color: #008080\">  4700</span> │ <span style=\"color: #008000; text-decoration-color: #008000\">  ▁▅█▁  </span> │  │\n",
       "│ │ <span style=\"color: #af87ff; text-decoration-color: #af87ff\">winner                    </span> │ <span style=\"color: #008080; text-decoration-color: #008080\">   0</span> │ <span style=\"color: #008080; text-decoration-color: #008080\">     0</span> │ <span style=\"color: #008080; text-decoration-color: #008080\">   1.5</span> │ <span style=\"color: #008080; text-decoration-color: #008080\">   0.5</span> │ <span style=\"color: #008080; text-decoration-color: #008080\">    1</span> │ <span style=\"color: #008080; text-decoration-color: #008080\">     1</span> │ <span style=\"color: #008080; text-decoration-color: #008080\">     2</span> │ <span style=\"color: #008080; text-decoration-color: #008080\">     2</span> │ <span style=\"color: #008000; text-decoration-color: #008000\"> █    █ </span> │  │\n",
       "│ │ <span style=\"color: #af87ff; text-decoration-color: #af87ff\">firstBlood                </span> │ <span style=\"color: #008080; text-decoration-color: #008080\">   0</span> │ <span style=\"color: #008080; text-decoration-color: #008080\">     0</span> │ <span style=\"color: #008080; text-decoration-color: #008080\">   1.5</span> │ <span style=\"color: #008080; text-decoration-color: #008080\">  0.52</span> │ <span style=\"color: #008080; text-decoration-color: #008080\">    0</span> │ <span style=\"color: #008080; text-decoration-color: #008080\">     1</span> │ <span style=\"color: #008080; text-decoration-color: #008080\">     2</span> │ <span style=\"color: #008080; text-decoration-color: #008080\">     2</span> │ <span style=\"color: #008000; text-decoration-color: #008000\">    █ █ </span> │  │\n",
       "│ │ <span style=\"color: #af87ff; text-decoration-color: #af87ff\">firstTower                </span> │ <span style=\"color: #008080; text-decoration-color: #008080\">   0</span> │ <span style=\"color: #008080; text-decoration-color: #008080\">     0</span> │ <span style=\"color: #008080; text-decoration-color: #008080\">   1.5</span> │ <span style=\"color: #008080; text-decoration-color: #008080\">  0.54</span> │ <span style=\"color: #008080; text-decoration-color: #008080\">    0</span> │ <span style=\"color: #008080; text-decoration-color: #008080\">     1</span> │ <span style=\"color: #008080; text-decoration-color: #008080\">     2</span> │ <span style=\"color: #008080; text-decoration-color: #008080\">     2</span> │ <span style=\"color: #008000; text-decoration-color: #008000\">    █ █ </span> │  │\n",
       "│ │ <span style=\"color: #af87ff; text-decoration-color: #af87ff\">firstBaron                </span> │ <span style=\"color: #008080; text-decoration-color: #008080\">   0</span> │ <span style=\"color: #008080; text-decoration-color: #008080\">     0</span> │ <span style=\"color: #008080; text-decoration-color: #008080\">  0.93</span> │ <span style=\"color: #008080; text-decoration-color: #008080\">  0.84</span> │ <span style=\"color: #008080; text-decoration-color: #008080\">    0</span> │ <span style=\"color: #008080; text-decoration-color: #008080\">     0</span> │ <span style=\"color: #008080; text-decoration-color: #008080\">     2</span> │ <span style=\"color: #008080; text-decoration-color: #008080\">     2</span> │ <span style=\"color: #008000; text-decoration-color: #008000\"> █  ▆ ▇ </span> │  │\n",
       "│ │ <span style=\"color: #af87ff; text-decoration-color: #af87ff\">firstDragon               </span> │ <span style=\"color: #008080; text-decoration-color: #008080\">   0</span> │ <span style=\"color: #008080; text-decoration-color: #008080\">     0</span> │ <span style=\"color: #008080; text-decoration-color: #008080\">   1.4</span> │ <span style=\"color: #008080; text-decoration-color: #008080\">  0.57</span> │ <span style=\"color: #008080; text-decoration-color: #008080\">    0</span> │ <span style=\"color: #008080; text-decoration-color: #008080\">     1</span> │ <span style=\"color: #008080; text-decoration-color: #008080\">     2</span> │ <span style=\"color: #008080; text-decoration-color: #008080\">     2</span> │ <span style=\"color: #008000; text-decoration-color: #008000\"> ▁  █ █ </span> │  │\n",
       "│ │ <span style=\"color: #af87ff; text-decoration-color: #af87ff\">firstRiftHerald           </span> │ <span style=\"color: #008080; text-decoration-color: #008080\">   0</span> │ <span style=\"color: #008080; text-decoration-color: #008080\">     0</span> │ <span style=\"color: #008080; text-decoration-color: #008080\">  0.73</span> │ <span style=\"color: #008080; text-decoration-color: #008080\">  0.82</span> │ <span style=\"color: #008080; text-decoration-color: #008080\">    0</span> │ <span style=\"color: #008080; text-decoration-color: #008080\">     0</span> │ <span style=\"color: #008080; text-decoration-color: #008080\">     1</span> │ <span style=\"color: #008080; text-decoration-color: #008080\">     2</span> │ <span style=\"color: #008000; text-decoration-color: #008000\"> █  ▄ ▄ </span> │  │\n",
       "│ │ <span style=\"color: #af87ff; text-decoration-color: #af87ff\">t1_champ1id               </span> │ <span style=\"color: #008080; text-decoration-color: #008080\">   0</span> │ <span style=\"color: #008080; text-decoration-color: #008080\">     0</span> │ <span style=\"color: #008080; text-decoration-color: #008080\">   110</span> │ <span style=\"color: #008080; text-decoration-color: #008080\">   120</span> │ <span style=\"color: #008080; text-decoration-color: #008080\">    1</span> │ <span style=\"color: #008080; text-decoration-color: #008080\">    35</span> │ <span style=\"color: #008080; text-decoration-color: #008080\">   140</span> │ <span style=\"color: #008080; text-decoration-color: #008080\">   520</span> │ <span style=\"color: #008000; text-decoration-color: #008000\"> █▄▁ ▁▁ </span> │  │\n",
       "│ │ <span style=\"color: #af87ff; text-decoration-color: #af87ff\">t1_champ1_sum1            </span> │ <span style=\"color: #008080; text-decoration-color: #008080\">   0</span> │ <span style=\"color: #008080; text-decoration-color: #008080\">     0</span> │ <span style=\"color: #008080; text-decoration-color: #008080\">   6.6</span> │ <span style=\"color: #008080; text-decoration-color: #008080\">     4</span> │ <span style=\"color: #008080; text-decoration-color: #008080\">    1</span> │ <span style=\"color: #008080; text-decoration-color: #008080\">     4</span> │ <span style=\"color: #008080; text-decoration-color: #008080\">    11</span> │ <span style=\"color: #008080; text-decoration-color: #008080\">    21</span> │ <span style=\"color: #008000; text-decoration-color: #008000\">  █▁ ▃  </span> │  │\n",
       "│ │ <span style=\"color: #af87ff; text-decoration-color: #af87ff\">t1_champ1_sum2            </span> │ <span style=\"color: #008080; text-decoration-color: #008080\">   0</span> │ <span style=\"color: #008080; text-decoration-color: #008080\">     0</span> │ <span style=\"color: #008080; text-decoration-color: #008080\">   7.3</span> │ <span style=\"color: #008080; text-decoration-color: #008080\">   4.3</span> │ <span style=\"color: #008080; text-decoration-color: #008080\">    1</span> │ <span style=\"color: #008080; text-decoration-color: #008080\">     4</span> │ <span style=\"color: #008080; text-decoration-color: #008080\">    11</span> │ <span style=\"color: #008080; text-decoration-color: #008080\">    21</span> │ <span style=\"color: #008000; text-decoration-color: #008000\">  █▂ ▅  </span> │  │\n",
       "│ │ <span style=\"color: #af87ff; text-decoration-color: #af87ff\">t1_champ2id               </span> │ <span style=\"color: #008080; text-decoration-color: #008080\">   0</span> │ <span style=\"color: #008080; text-decoration-color: #008080\">     0</span> │ <span style=\"color: #008080; text-decoration-color: #008080\">   120</span> │ <span style=\"color: #008080; text-decoration-color: #008080\">   120</span> │ <span style=\"color: #008080; text-decoration-color: #008080\">    1</span> │ <span style=\"color: #008080; text-decoration-color: #008080\">    35</span> │ <span style=\"color: #008080; text-decoration-color: #008080\">   140</span> │ <span style=\"color: #008080; text-decoration-color: #008080\">   520</span> │ <span style=\"color: #008000; text-decoration-color: #008000\"> █▄▁ ▁▁ </span> │  │\n",
       "│ │ <span style=\"color: #af87ff; text-decoration-color: #af87ff\">t1_champ2_sum1            </span> │ <span style=\"color: #008080; text-decoration-color: #008080\">   0</span> │ <span style=\"color: #008080; text-decoration-color: #008080\">     0</span> │ <span style=\"color: #008080; text-decoration-color: #008080\">   6.5</span> │ <span style=\"color: #008080; text-decoration-color: #008080\">     4</span> │ <span style=\"color: #008080; text-decoration-color: #008080\">    1</span> │ <span style=\"color: #008080; text-decoration-color: #008080\">     4</span> │ <span style=\"color: #008080; text-decoration-color: #008080\">    11</span> │ <span style=\"color: #008080; text-decoration-color: #008080\">    21</span> │ <span style=\"color: #008000; text-decoration-color: #008000\">  █▁ ▃  </span> │  │\n",
       "│ │ <span style=\"color: #af87ff; text-decoration-color: #af87ff\">t1_champ2_sum2            </span> │ <span style=\"color: #008080; text-decoration-color: #008080\">   0</span> │ <span style=\"color: #008080; text-decoration-color: #008080\">     0</span> │ <span style=\"color: #008080; text-decoration-color: #008080\">   7.2</span> │ <span style=\"color: #008080; text-decoration-color: #008080\">   4.2</span> │ <span style=\"color: #008080; text-decoration-color: #008080\">    1</span> │ <span style=\"color: #008080; text-decoration-color: #008080\">     4</span> │ <span style=\"color: #008080; text-decoration-color: #008080\">    11</span> │ <span style=\"color: #008080; text-decoration-color: #008080\">    21</span> │ <span style=\"color: #008000; text-decoration-color: #008000\">  █▂ ▅  </span> │  │\n",
       "│ │ <span style=\"color: #af87ff; text-decoration-color: #af87ff\">t1_champ3id               </span> │ <span style=\"color: #008080; text-decoration-color: #008080\">   0</span> │ <span style=\"color: #008080; text-decoration-color: #008080\">     0</span> │ <span style=\"color: #008080; text-decoration-color: #008080\">   120</span> │ <span style=\"color: #008080; text-decoration-color: #008080\">   120</span> │ <span style=\"color: #008080; text-decoration-color: #008080\">    1</span> │ <span style=\"color: #008080; text-decoration-color: #008080\">    35</span> │ <span style=\"color: #008080; text-decoration-color: #008080\">   140</span> │ <span style=\"color: #008080; text-decoration-color: #008080\">   520</span> │ <span style=\"color: #008000; text-decoration-color: #008000\"> █▄▁ ▁▁ </span> │  │\n",
       "│ │ <span style=\"color: #af87ff; text-decoration-color: #af87ff\">t1_champ3_sum1            </span> │ <span style=\"color: #008080; text-decoration-color: #008080\">   0</span> │ <span style=\"color: #008080; text-decoration-color: #008080\">     0</span> │ <span style=\"color: #008080; text-decoration-color: #008080\">   6.5</span> │ <span style=\"color: #008080; text-decoration-color: #008080\">     4</span> │ <span style=\"color: #008080; text-decoration-color: #008080\">    1</span> │ <span style=\"color: #008080; text-decoration-color: #008080\">     4</span> │ <span style=\"color: #008080; text-decoration-color: #008080\">    11</span> │ <span style=\"color: #008080; text-decoration-color: #008080\">    21</span> │ <span style=\"color: #008000; text-decoration-color: #008000\">  █▁ ▃  </span> │  │\n",
       "│ │ <span style=\"color: #af87ff; text-decoration-color: #af87ff\">t1_champ3_sum2            </span> │ <span style=\"color: #008080; text-decoration-color: #008080\">   0</span> │ <span style=\"color: #008080; text-decoration-color: #008080\">     0</span> │ <span style=\"color: #008080; text-decoration-color: #008080\">   7.2</span> │ <span style=\"color: #008080; text-decoration-color: #008080\">   4.2</span> │ <span style=\"color: #008080; text-decoration-color: #008080\">    1</span> │ <span style=\"color: #008080; text-decoration-color: #008080\">     4</span> │ <span style=\"color: #008080; text-decoration-color: #008080\">    11</span> │ <span style=\"color: #008080; text-decoration-color: #008080\">    21</span> │ <span style=\"color: #008000; text-decoration-color: #008000\">  █▂ ▅  </span> │  │\n",
       "│ │ <span style=\"color: #af87ff; text-decoration-color: #af87ff\">t1_champ4id               </span> │ <span style=\"color: #008080; text-decoration-color: #008080\">   0</span> │ <span style=\"color: #008080; text-decoration-color: #008080\">     0</span> │ <span style=\"color: #008080; text-decoration-color: #008080\">   120</span> │ <span style=\"color: #008080; text-decoration-color: #008080\">   120</span> │ <span style=\"color: #008080; text-decoration-color: #008080\">    1</span> │ <span style=\"color: #008080; text-decoration-color: #008080\">    36</span> │ <span style=\"color: #008080; text-decoration-color: #008080\">   140</span> │ <span style=\"color: #008080; text-decoration-color: #008080\">   520</span> │ <span style=\"color: #008000; text-decoration-color: #008000\"> █▄▁ ▁▁ </span> │  │\n",
       "│ │ <span style=\"color: #af87ff; text-decoration-color: #af87ff\">t1_champ4_sum1            </span> │ <span style=\"color: #008080; text-decoration-color: #008080\">   0</span> │ <span style=\"color: #008080; text-decoration-color: #008080\">     0</span> │ <span style=\"color: #008080; text-decoration-color: #008080\">   6.5</span> │ <span style=\"color: #008080; text-decoration-color: #008080\">     4</span> │ <span style=\"color: #008080; text-decoration-color: #008080\">    1</span> │ <span style=\"color: #008080; text-decoration-color: #008080\">     4</span> │ <span style=\"color: #008080; text-decoration-color: #008080\">    11</span> │ <span style=\"color: #008080; text-decoration-color: #008080\">    21</span> │ <span style=\"color: #008000; text-decoration-color: #008000\">  █▁ ▃  </span> │  │\n",
       "│ │ <span style=\"color: #af87ff; text-decoration-color: #af87ff\">t1_champ4_sum2            </span> │ <span style=\"color: #008080; text-decoration-color: #008080\">   0</span> │ <span style=\"color: #008080; text-decoration-color: #008080\">     0</span> │ <span style=\"color: #008080; text-decoration-color: #008080\">   7.2</span> │ <span style=\"color: #008080; text-decoration-color: #008080\">   4.2</span> │ <span style=\"color: #008080; text-decoration-color: #008080\">    1</span> │ <span style=\"color: #008080; text-decoration-color: #008080\">     4</span> │ <span style=\"color: #008080; text-decoration-color: #008080\">    11</span> │ <span style=\"color: #008080; text-decoration-color: #008080\">    21</span> │ <span style=\"color: #008000; text-decoration-color: #008000\">  █▂ ▅  </span> │  │\n",
       "│ │ <span style=\"color: #af87ff; text-decoration-color: #af87ff\">t1_champ5id               </span> │ <span style=\"color: #008080; text-decoration-color: #008080\">   0</span> │ <span style=\"color: #008080; text-decoration-color: #008080\">     0</span> │ <span style=\"color: #008080; text-decoration-color: #008080\">   110</span> │ <span style=\"color: #008080; text-decoration-color: #008080\">   120</span> │ <span style=\"color: #008080; text-decoration-color: #008080\">    1</span> │ <span style=\"color: #008080; text-decoration-color: #008080\">    35</span> │ <span style=\"color: #008080; text-decoration-color: #008080\">   140</span> │ <span style=\"color: #008080; text-decoration-color: #008080\">   520</span> │ <span style=\"color: #008000; text-decoration-color: #008000\"> █▄▁ ▁▁ </span> │  │\n",
       "│ │ <span style=\"color: #af87ff; text-decoration-color: #af87ff\">t1_champ5_sum1            </span> │ <span style=\"color: #008080; text-decoration-color: #008080\">   0</span> │ <span style=\"color: #008080; text-decoration-color: #008080\">     0</span> │ <span style=\"color: #008080; text-decoration-color: #008080\">   6.6</span> │ <span style=\"color: #008080; text-decoration-color: #008080\">     4</span> │ <span style=\"color: #008080; text-decoration-color: #008080\">    1</span> │ <span style=\"color: #008080; text-decoration-color: #008080\">     4</span> │ <span style=\"color: #008080; text-decoration-color: #008080\">    11</span> │ <span style=\"color: #008080; text-decoration-color: #008080\">    21</span> │ <span style=\"color: #008000; text-decoration-color: #008000\">  █▁ ▃  </span> │  │\n",
       "│ │ <span style=\"color: #af87ff; text-decoration-color: #af87ff\">t1_champ5_sum2            </span> │ <span style=\"color: #008080; text-decoration-color: #008080\">   0</span> │ <span style=\"color: #008080; text-decoration-color: #008080\">     0</span> │ <span style=\"color: #008080; text-decoration-color: #008080\">   7.3</span> │ <span style=\"color: #008080; text-decoration-color: #008080\">   4.3</span> │ <span style=\"color: #008080; text-decoration-color: #008080\">    1</span> │ <span style=\"color: #008080; text-decoration-color: #008080\">     4</span> │ <span style=\"color: #008080; text-decoration-color: #008080\">    11</span> │ <span style=\"color: #008080; text-decoration-color: #008080\">    21</span> │ <span style=\"color: #008000; text-decoration-color: #008000\">  █▂ ▅  </span> │  │\n",
       "│ │ <span style=\"color: #af87ff; text-decoration-color: #af87ff\">t1_baronKills             </span> │ <span style=\"color: #008080; text-decoration-color: #008080\">   0</span> │ <span style=\"color: #008080; text-decoration-color: #008080\">     0</span> │ <span style=\"color: #008080; text-decoration-color: #008080\">  0.37</span> │ <span style=\"color: #008080; text-decoration-color: #008080\">  0.58</span> │ <span style=\"color: #008080; text-decoration-color: #008080\">    0</span> │ <span style=\"color: #008080; text-decoration-color: #008080\">     0</span> │ <span style=\"color: #008080; text-decoration-color: #008080\">     1</span> │ <span style=\"color: #008080; text-decoration-color: #008080\">     5</span> │ <span style=\"color: #008000; text-decoration-color: #008000\">  █▃▁   </span> │  │\n",
       "│ │ <span style=\"color: #af87ff; text-decoration-color: #af87ff\">t1_dragonKills            </span> │ <span style=\"color: #008080; text-decoration-color: #008080\">   0</span> │ <span style=\"color: #008080; text-decoration-color: #008080\">     0</span> │ <span style=\"color: #008080; text-decoration-color: #008080\">   1.4</span> │ <span style=\"color: #008080; text-decoration-color: #008080\">   1.2</span> │ <span style=\"color: #008080; text-decoration-color: #008080\">    0</span> │ <span style=\"color: #008080; text-decoration-color: #008080\">     0</span> │ <span style=\"color: #008080; text-decoration-color: #008080\">     2</span> │ <span style=\"color: #008080; text-decoration-color: #008080\">     6</span> │ <span style=\"color: #008000; text-decoration-color: #008000\"> █▇▇▄▁  </span> │  │\n",
       "│ │ <span style=\"color: #af87ff; text-decoration-color: #af87ff\">t1_riftHeraldKills        </span> │ <span style=\"color: #008080; text-decoration-color: #008080\">   0</span> │ <span style=\"color: #008080; text-decoration-color: #008080\">     0</span> │ <span style=\"color: #008080; text-decoration-color: #008080\">  0.25</span> │ <span style=\"color: #008080; text-decoration-color: #008080\">  0.43</span> │ <span style=\"color: #008080; text-decoration-color: #008080\">    0</span> │ <span style=\"color: #008080; text-decoration-color: #008080\">     0</span> │ <span style=\"color: #008080; text-decoration-color: #008080\">     1</span> │ <span style=\"color: #008080; text-decoration-color: #008080\">     1</span> │ <span style=\"color: #008000; text-decoration-color: #008000\"> █    ▃ </span> │  │\n",
       "│ │ <span style=\"color: #af87ff; text-decoration-color: #af87ff\">t1_ban1                   </span> │ <span style=\"color: #008080; text-decoration-color: #008080\">   0</span> │ <span style=\"color: #008080; text-decoration-color: #008080\">     0</span> │ <span style=\"color: #008080; text-decoration-color: #008080\">   110</span> │ <span style=\"color: #008080; text-decoration-color: #008080\">   100</span> │ <span style=\"color: #008080; text-decoration-color: #008080\">   -1</span> │ <span style=\"color: #008080; text-decoration-color: #008080\">    38</span> │ <span style=\"color: #008080; text-decoration-color: #008080\">   140</span> │ <span style=\"color: #008080; text-decoration-color: #008080\">   520</span> │ <span style=\"color: #008000; text-decoration-color: #008000\">  █▆▁   </span> │  │\n",
       "│ │ <span style=\"color: #af87ff; text-decoration-color: #af87ff\">t1_ban2                   </span> │ <span style=\"color: #008080; text-decoration-color: #008080\">   0</span> │ <span style=\"color: #008080; text-decoration-color: #008080\">     0</span> │ <span style=\"color: #008080; text-decoration-color: #008080\">   110</span> │ <span style=\"color: #008080; text-decoration-color: #008080\">   100</span> │ <span style=\"color: #008080; text-decoration-color: #008080\">   -1</span> │ <span style=\"color: #008080; text-decoration-color: #008080\">    38</span> │ <span style=\"color: #008080; text-decoration-color: #008080\">   140</span> │ <span style=\"color: #008080; text-decoration-color: #008080\">   520</span> │ <span style=\"color: #008000; text-decoration-color: #008000\">  █▆▁   </span> │  │\n",
       "│ │ <span style=\"color: #af87ff; text-decoration-color: #af87ff\">t1_ban3                   </span> │ <span style=\"color: #008080; text-decoration-color: #008080\">   0</span> │ <span style=\"color: #008080; text-decoration-color: #008080\">     0</span> │ <span style=\"color: #008080; text-decoration-color: #008080\">   110</span> │ <span style=\"color: #008080; text-decoration-color: #008080\">   100</span> │ <span style=\"color: #008080; text-decoration-color: #008080\">   -1</span> │ <span style=\"color: #008080; text-decoration-color: #008080\">    37</span> │ <span style=\"color: #008080; text-decoration-color: #008080\">   140</span> │ <span style=\"color: #008080; text-decoration-color: #008080\">   520</span> │ <span style=\"color: #008000; text-decoration-color: #008000\">  █▆▁   </span> │  │\n",
       "│ │ <span style=\"color: #af87ff; text-decoration-color: #af87ff\">t1_ban4                   </span> │ <span style=\"color: #008080; text-decoration-color: #008080\">   0</span> │ <span style=\"color: #008080; text-decoration-color: #008080\">     0</span> │ <span style=\"color: #008080; text-decoration-color: #008080\">   110</span> │ <span style=\"color: #008080; text-decoration-color: #008080\">   100</span> │ <span style=\"color: #008080; text-decoration-color: #008080\">   -1</span> │ <span style=\"color: #008080; text-decoration-color: #008080\">    38</span> │ <span style=\"color: #008080; text-decoration-color: #008080\">   140</span> │ <span style=\"color: #008080; text-decoration-color: #008080\">   520</span> │ <span style=\"color: #008000; text-decoration-color: #008000\">  █▆▁   </span> │  │\n",
       "│ │ <span style=\"color: #af87ff; text-decoration-color: #af87ff\">t1_ban5                   </span> │ <span style=\"color: #008080; text-decoration-color: #008080\">   0</span> │ <span style=\"color: #008080; text-decoration-color: #008080\">     0</span> │ <span style=\"color: #008080; text-decoration-color: #008080\">   110</span> │ <span style=\"color: #008080; text-decoration-color: #008080\">   100</span> │ <span style=\"color: #008080; text-decoration-color: #008080\">   -1</span> │ <span style=\"color: #008080; text-decoration-color: #008080\">    38</span> │ <span style=\"color: #008080; text-decoration-color: #008080\">   140</span> │ <span style=\"color: #008080; text-decoration-color: #008080\">   520</span> │ <span style=\"color: #008000; text-decoration-color: #008000\">  █▇▁   </span> │  │\n",
       "│ │ <span style=\"color: #af87ff; text-decoration-color: #af87ff\">t2_champ1id               </span> │ <span style=\"color: #008080; text-decoration-color: #008080\">   0</span> │ <span style=\"color: #008080; text-decoration-color: #008080\">     0</span> │ <span style=\"color: #008080; text-decoration-color: #008080\">   120</span> │ <span style=\"color: #008080; text-decoration-color: #008080\">   120</span> │ <span style=\"color: #008080; text-decoration-color: #008080\">    1</span> │ <span style=\"color: #008080; text-decoration-color: #008080\">    35</span> │ <span style=\"color: #008080; text-decoration-color: #008080\">   140</span> │ <span style=\"color: #008080; text-decoration-color: #008080\">   520</span> │ <span style=\"color: #008000; text-decoration-color: #008000\"> █▄▁ ▁▁ </span> │  │\n",
       "│ │ <span style=\"color: #af87ff; text-decoration-color: #af87ff\">t2_champ1_sum1            </span> │ <span style=\"color: #008080; text-decoration-color: #008080\">   0</span> │ <span style=\"color: #008080; text-decoration-color: #008080\">     0</span> │ <span style=\"color: #008080; text-decoration-color: #008080\">   6.6</span> │ <span style=\"color: #008080; text-decoration-color: #008080\">     4</span> │ <span style=\"color: #008080; text-decoration-color: #008080\">    1</span> │ <span style=\"color: #008080; text-decoration-color: #008080\">     4</span> │ <span style=\"color: #008080; text-decoration-color: #008080\">    11</span> │ <span style=\"color: #008080; text-decoration-color: #008080\">    21</span> │ <span style=\"color: #008000; text-decoration-color: #008000\">  █▁ ▃  </span> │  │\n",
       "│ │ <span style=\"color: #af87ff; text-decoration-color: #af87ff\">t2_champ1_sum2            </span> │ <span style=\"color: #008080; text-decoration-color: #008080\">   0</span> │ <span style=\"color: #008080; text-decoration-color: #008080\">     0</span> │ <span style=\"color: #008080; text-decoration-color: #008080\">   7.3</span> │ <span style=\"color: #008080; text-decoration-color: #008080\">   4.3</span> │ <span style=\"color: #008080; text-decoration-color: #008080\">    1</span> │ <span style=\"color: #008080; text-decoration-color: #008080\">     4</span> │ <span style=\"color: #008080; text-decoration-color: #008080\">    11</span> │ <span style=\"color: #008080; text-decoration-color: #008080\">    21</span> │ <span style=\"color: #008000; text-decoration-color: #008000\">  █▂ ▅  </span> │  │\n",
       "│ │ <span style=\"color: #af87ff; text-decoration-color: #af87ff\">t2_champ2id               </span> │ <span style=\"color: #008080; text-decoration-color: #008080\">   0</span> │ <span style=\"color: #008080; text-decoration-color: #008080\">     0</span> │ <span style=\"color: #008080; text-decoration-color: #008080\">   120</span> │ <span style=\"color: #008080; text-decoration-color: #008080\">   120</span> │ <span style=\"color: #008080; text-decoration-color: #008080\">    1</span> │ <span style=\"color: #008080; text-decoration-color: #008080\">    35</span> │ <span style=\"color: #008080; text-decoration-color: #008080\">   140</span> │ <span style=\"color: #008080; text-decoration-color: #008080\">   520</span> │ <span style=\"color: #008000; text-decoration-color: #008000\"> █▄▁ ▁▁ </span> │  │\n",
       "│ │ <span style=\"color: #af87ff; text-decoration-color: #af87ff\">t2_champ2_sum1            </span> │ <span style=\"color: #008080; text-decoration-color: #008080\">   0</span> │ <span style=\"color: #008080; text-decoration-color: #008080\">     0</span> │ <span style=\"color: #008080; text-decoration-color: #008080\">   6.5</span> │ <span style=\"color: #008080; text-decoration-color: #008080\">     4</span> │ <span style=\"color: #008080; text-decoration-color: #008080\">    1</span> │ <span style=\"color: #008080; text-decoration-color: #008080\">     4</span> │ <span style=\"color: #008080; text-decoration-color: #008080\">    11</span> │ <span style=\"color: #008080; text-decoration-color: #008080\">    21</span> │ <span style=\"color: #008000; text-decoration-color: #008000\">  █▁ ▃  </span> │  │\n",
       "│ │ <span style=\"color: #af87ff; text-decoration-color: #af87ff\">t2_champ2_sum2            </span> │ <span style=\"color: #008080; text-decoration-color: #008080\">   0</span> │ <span style=\"color: #008080; text-decoration-color: #008080\">     0</span> │ <span style=\"color: #008080; text-decoration-color: #008080\">   7.2</span> │ <span style=\"color: #008080; text-decoration-color: #008080\">   4.3</span> │ <span style=\"color: #008080; text-decoration-color: #008080\">    1</span> │ <span style=\"color: #008080; text-decoration-color: #008080\">     4</span> │ <span style=\"color: #008080; text-decoration-color: #008080\">    11</span> │ <span style=\"color: #008080; text-decoration-color: #008080\">    21</span> │ <span style=\"color: #008000; text-decoration-color: #008000\">  █▂ ▅  </span> │  │\n",
       "│ │ <span style=\"color: #af87ff; text-decoration-color: #af87ff\">t2_champ3id               </span> │ <span style=\"color: #008080; text-decoration-color: #008080\">   0</span> │ <span style=\"color: #008080; text-decoration-color: #008080\">     0</span> │ <span style=\"color: #008080; text-decoration-color: #008080\">   120</span> │ <span style=\"color: #008080; text-decoration-color: #008080\">   120</span> │ <span style=\"color: #008080; text-decoration-color: #008080\">    1</span> │ <span style=\"color: #008080; text-decoration-color: #008080\">    36</span> │ <span style=\"color: #008080; text-decoration-color: #008080\">   140</span> │ <span style=\"color: #008080; text-decoration-color: #008080\">   520</span> │ <span style=\"color: #008000; text-decoration-color: #008000\"> █▄▁ ▁▁ </span> │  │\n",
       "│ │ <span style=\"color: #af87ff; text-decoration-color: #af87ff\">t2_champ3_sum1            </span> │ <span style=\"color: #008080; text-decoration-color: #008080\">   0</span> │ <span style=\"color: #008080; text-decoration-color: #008080\">     0</span> │ <span style=\"color: #008080; text-decoration-color: #008080\">   6.5</span> │ <span style=\"color: #008080; text-decoration-color: #008080\">     4</span> │ <span style=\"color: #008080; text-decoration-color: #008080\">    1</span> │ <span style=\"color: #008080; text-decoration-color: #008080\">     4</span> │ <span style=\"color: #008080; text-decoration-color: #008080\">    11</span> │ <span style=\"color: #008080; text-decoration-color: #008080\">    21</span> │ <span style=\"color: #008000; text-decoration-color: #008000\">  █▁ ▃  </span> │  │\n",
       "│ │ <span style=\"color: #af87ff; text-decoration-color: #af87ff\">t2_champ3_sum2            </span> │ <span style=\"color: #008080; text-decoration-color: #008080\">   0</span> │ <span style=\"color: #008080; text-decoration-color: #008080\">     0</span> │ <span style=\"color: #008080; text-decoration-color: #008080\">   7.2</span> │ <span style=\"color: #008080; text-decoration-color: #008080\">   4.2</span> │ <span style=\"color: #008080; text-decoration-color: #008080\">    1</span> │ <span style=\"color: #008080; text-decoration-color: #008080\">     4</span> │ <span style=\"color: #008080; text-decoration-color: #008080\">    11</span> │ <span style=\"color: #008080; text-decoration-color: #008080\">    21</span> │ <span style=\"color: #008000; text-decoration-color: #008000\">  █▂ ▅  </span> │  │\n",
       "│ │ <span style=\"color: #af87ff; text-decoration-color: #af87ff\">t2_champ4id               </span> │ <span style=\"color: #008080; text-decoration-color: #008080\">   0</span> │ <span style=\"color: #008080; text-decoration-color: #008080\">     0</span> │ <span style=\"color: #008080; text-decoration-color: #008080\">   120</span> │ <span style=\"color: #008080; text-decoration-color: #008080\">   120</span> │ <span style=\"color: #008080; text-decoration-color: #008080\">    1</span> │ <span style=\"color: #008080; text-decoration-color: #008080\">    35</span> │ <span style=\"color: #008080; text-decoration-color: #008080\">   140</span> │ <span style=\"color: #008080; text-decoration-color: #008080\">   520</span> │ <span style=\"color: #008000; text-decoration-color: #008000\"> █▄▁ ▁▁ </span> │  │\n",
       "│ │ <span style=\"color: #af87ff; text-decoration-color: #af87ff\">t2_champ4_sum1            </span> │ <span style=\"color: #008080; text-decoration-color: #008080\">   0</span> │ <span style=\"color: #008080; text-decoration-color: #008080\">     0</span> │ <span style=\"color: #008080; text-decoration-color: #008080\">   6.5</span> │ <span style=\"color: #008080; text-decoration-color: #008080\">     4</span> │ <span style=\"color: #008080; text-decoration-color: #008080\">    1</span> │ <span style=\"color: #008080; text-decoration-color: #008080\">     4</span> │ <span style=\"color: #008080; text-decoration-color: #008080\">    11</span> │ <span style=\"color: #008080; text-decoration-color: #008080\">    21</span> │ <span style=\"color: #008000; text-decoration-color: #008000\">  █▁ ▃  </span> │  │\n",
       "│ │ <span style=\"color: #af87ff; text-decoration-color: #af87ff\">t2_champ4_sum2            </span> │ <span style=\"color: #008080; text-decoration-color: #008080\">   0</span> │ <span style=\"color: #008080; text-decoration-color: #008080\">     0</span> │ <span style=\"color: #008080; text-decoration-color: #008080\">   7.2</span> │ <span style=\"color: #008080; text-decoration-color: #008080\">   4.2</span> │ <span style=\"color: #008080; text-decoration-color: #008080\">    1</span> │ <span style=\"color: #008080; text-decoration-color: #008080\">     4</span> │ <span style=\"color: #008080; text-decoration-color: #008080\">    11</span> │ <span style=\"color: #008080; text-decoration-color: #008080\">    21</span> │ <span style=\"color: #008000; text-decoration-color: #008000\">  █▂ ▅  </span> │  │\n",
       "│ │ <span style=\"color: #af87ff; text-decoration-color: #af87ff\">t2_champ5id               </span> │ <span style=\"color: #008080; text-decoration-color: #008080\">   0</span> │ <span style=\"color: #008080; text-decoration-color: #008080\">     0</span> │ <span style=\"color: #008080; text-decoration-color: #008080\">   120</span> │ <span style=\"color: #008080; text-decoration-color: #008080\">   120</span> │ <span style=\"color: #008080; text-decoration-color: #008080\">    1</span> │ <span style=\"color: #008080; text-decoration-color: #008080\">    35</span> │ <span style=\"color: #008080; text-decoration-color: #008080\">   140</span> │ <span style=\"color: #008080; text-decoration-color: #008080\">   520</span> │ <span style=\"color: #008000; text-decoration-color: #008000\"> █▄▁ ▁▁ </span> │  │\n",
       "│ │ <span style=\"color: #af87ff; text-decoration-color: #af87ff\">t2_champ5_sum1            </span> │ <span style=\"color: #008080; text-decoration-color: #008080\">   0</span> │ <span style=\"color: #008080; text-decoration-color: #008080\">     0</span> │ <span style=\"color: #008080; text-decoration-color: #008080\">   6.6</span> │ <span style=\"color: #008080; text-decoration-color: #008080\">     4</span> │ <span style=\"color: #008080; text-decoration-color: #008080\">    1</span> │ <span style=\"color: #008080; text-decoration-color: #008080\">     4</span> │ <span style=\"color: #008080; text-decoration-color: #008080\">    11</span> │ <span style=\"color: #008080; text-decoration-color: #008080\">    21</span> │ <span style=\"color: #008000; text-decoration-color: #008000\">  █▁ ▃  </span> │  │\n",
       "│ │ <span style=\"color: #af87ff; text-decoration-color: #af87ff\">t2_champ5_sum2            </span> │ <span style=\"color: #008080; text-decoration-color: #008080\">   0</span> │ <span style=\"color: #008080; text-decoration-color: #008080\">     0</span> │ <span style=\"color: #008080; text-decoration-color: #008080\">   7.2</span> │ <span style=\"color: #008080; text-decoration-color: #008080\">   4.3</span> │ <span style=\"color: #008080; text-decoration-color: #008080\">    1</span> │ <span style=\"color: #008080; text-decoration-color: #008080\">     4</span> │ <span style=\"color: #008080; text-decoration-color: #008080\">    11</span> │ <span style=\"color: #008080; text-decoration-color: #008080\">    21</span> │ <span style=\"color: #008000; text-decoration-color: #008000\">  █▂ ▅  </span> │  │\n",
       "│ │ <span style=\"color: #af87ff; text-decoration-color: #af87ff\">t2_baronKills             </span> │ <span style=\"color: #008080; text-decoration-color: #008080\">   0</span> │ <span style=\"color: #008080; text-decoration-color: #008080\">     0</span> │ <span style=\"color: #008080; text-decoration-color: #008080\">  0.41</span> │ <span style=\"color: #008080; text-decoration-color: #008080\">  0.61</span> │ <span style=\"color: #008080; text-decoration-color: #008080\">    0</span> │ <span style=\"color: #008080; text-decoration-color: #008080\">     0</span> │ <span style=\"color: #008080; text-decoration-color: #008080\">     1</span> │ <span style=\"color: #008080; text-decoration-color: #008080\">     4</span> │ <span style=\"color: #008000; text-decoration-color: #008000\">  █▄ ▁  </span> │  │\n",
       "│ │ <span style=\"color: #af87ff; text-decoration-color: #af87ff\">t2_dragonKills            </span> │ <span style=\"color: #008080; text-decoration-color: #008080\">   0</span> │ <span style=\"color: #008080; text-decoration-color: #008080\">     0</span> │ <span style=\"color: #008080; text-decoration-color: #008080\">   1.4</span> │ <span style=\"color: #008080; text-decoration-color: #008080\">   1.2</span> │ <span style=\"color: #008080; text-decoration-color: #008080\">    0</span> │ <span style=\"color: #008080; text-decoration-color: #008080\">     0</span> │ <span style=\"color: #008080; text-decoration-color: #008080\">     2</span> │ <span style=\"color: #008080; text-decoration-color: #008080\">     6</span> │ <span style=\"color: #008000; text-decoration-color: #008000\"> █▇▇▄▁  </span> │  │\n",
       "│ │ <span style=\"color: #af87ff; text-decoration-color: #af87ff\">t2_riftHeraldKills        </span> │ <span style=\"color: #008080; text-decoration-color: #008080\">   0</span> │ <span style=\"color: #008080; text-decoration-color: #008080\">     0</span> │ <span style=\"color: #008080; text-decoration-color: #008080\">  0.24</span> │ <span style=\"color: #008080; text-decoration-color: #008080\">  0.43</span> │ <span style=\"color: #008080; text-decoration-color: #008080\">    0</span> │ <span style=\"color: #008080; text-decoration-color: #008080\">     0</span> │ <span style=\"color: #008080; text-decoration-color: #008080\">     0</span> │ <span style=\"color: #008080; text-decoration-color: #008080\">     1</span> │ <span style=\"color: #008000; text-decoration-color: #008000\"> █    ▃ </span> │  │\n",
       "│ │ <span style=\"color: #af87ff; text-decoration-color: #af87ff\">t2_ban1                   </span> │ <span style=\"color: #008080; text-decoration-color: #008080\">   0</span> │ <span style=\"color: #008080; text-decoration-color: #008080\">     0</span> │ <span style=\"color: #008080; text-decoration-color: #008080\">   110</span> │ <span style=\"color: #008080; text-decoration-color: #008080\">   100</span> │ <span style=\"color: #008080; text-decoration-color: #008080\">   -1</span> │ <span style=\"color: #008080; text-decoration-color: #008080\">    38</span> │ <span style=\"color: #008080; text-decoration-color: #008080\">   140</span> │ <span style=\"color: #008080; text-decoration-color: #008080\">   520</span> │ <span style=\"color: #008000; text-decoration-color: #008000\">  █▆▁   </span> │  │\n",
       "│ │ <span style=\"color: #af87ff; text-decoration-color: #af87ff\">t2_ban2                   </span> │ <span style=\"color: #008080; text-decoration-color: #008080\">   0</span> │ <span style=\"color: #008080; text-decoration-color: #008080\">     0</span> │ <span style=\"color: #008080; text-decoration-color: #008080\">   110</span> │ <span style=\"color: #008080; text-decoration-color: #008080\">   100</span> │ <span style=\"color: #008080; text-decoration-color: #008080\">   -1</span> │ <span style=\"color: #008080; text-decoration-color: #008080\">    37</span> │ <span style=\"color: #008080; text-decoration-color: #008080\">   140</span> │ <span style=\"color: #008080; text-decoration-color: #008080\">   520</span> │ <span style=\"color: #008000; text-decoration-color: #008000\">  █▆▁   </span> │  │\n",
       "│ │ <span style=\"color: #af87ff; text-decoration-color: #af87ff\">t2_ban3                   </span> │ <span style=\"color: #008080; text-decoration-color: #008080\">   0</span> │ <span style=\"color: #008080; text-decoration-color: #008080\">     0</span> │ <span style=\"color: #008080; text-decoration-color: #008080\">   110</span> │ <span style=\"color: #008080; text-decoration-color: #008080\">   100</span> │ <span style=\"color: #008080; text-decoration-color: #008080\">   -1</span> │ <span style=\"color: #008080; text-decoration-color: #008080\">    38</span> │ <span style=\"color: #008080; text-decoration-color: #008080\">   140</span> │ <span style=\"color: #008080; text-decoration-color: #008080\">   520</span> │ <span style=\"color: #008000; text-decoration-color: #008000\">  █▆▁   </span> │  │\n",
       "│ │ <span style=\"color: #af87ff; text-decoration-color: #af87ff\">t2_ban4                   </span> │ <span style=\"color: #008080; text-decoration-color: #008080\">   0</span> │ <span style=\"color: #008080; text-decoration-color: #008080\">     0</span> │ <span style=\"color: #008080; text-decoration-color: #008080\">   110</span> │ <span style=\"color: #008080; text-decoration-color: #008080\">   100</span> │ <span style=\"color: #008080; text-decoration-color: #008080\">   -1</span> │ <span style=\"color: #008080; text-decoration-color: #008080\">    38</span> │ <span style=\"color: #008080; text-decoration-color: #008080\">   140</span> │ <span style=\"color: #008080; text-decoration-color: #008080\">   520</span> │ <span style=\"color: #008000; text-decoration-color: #008000\">  █▆▁   </span> │  │\n",
       "│ │ <span style=\"color: #af87ff; text-decoration-color: #af87ff\">t2_ban5                   </span> │ <span style=\"color: #008080; text-decoration-color: #008080\">   0</span> │ <span style=\"color: #008080; text-decoration-color: #008080\">     0</span> │ <span style=\"color: #008080; text-decoration-color: #008080\">   110</span> │ <span style=\"color: #008080; text-decoration-color: #008080\">   100</span> │ <span style=\"color: #008080; text-decoration-color: #008080\">   -1</span> │ <span style=\"color: #008080; text-decoration-color: #008080\">    38</span> │ <span style=\"color: #008080; text-decoration-color: #008080\">   140</span> │ <span style=\"color: #008080; text-decoration-color: #008080\">   520</span> │ <span style=\"color: #008000; text-decoration-color: #008000\">  █▆▁   </span> │  │\n",
       "│ └────────────────────────────┴──────┴────────┴────────┴────────┴───────┴────────┴────────┴────────┴──────────┘  │\n",
       "╰────────────────────────────────────────────────────── End ──────────────────────────────────────────────────────╯\n",
       "</pre>\n"
      ],
      "text/plain": [
       "╭──────────────────────────────────────────────── skimpy summary ─────────────────────────────────────────────────╮\n",
       "│ \u001b[3m         Data Summary         \u001b[0m \u001b[3m      Data Types       \u001b[0m                                                          │\n",
       "│ ┏━━━━━━━━━━━━━━━━━━━┳━━━━━━━━┓ ┏━━━━━━━━━━━━━┳━━━━━━━┓                                                          │\n",
       "│ ┃\u001b[1;36m \u001b[0m\u001b[1;36mdataframe        \u001b[0m\u001b[1;36m \u001b[0m┃\u001b[1;36m \u001b[0m\u001b[1;36mValues\u001b[0m\u001b[1;36m \u001b[0m┃ ┃\u001b[1;36m \u001b[0m\u001b[1;36mColumn Type\u001b[0m\u001b[1;36m \u001b[0m┃\u001b[1;36m \u001b[0m\u001b[1;36mCount\u001b[0m\u001b[1;36m \u001b[0m┃                                                          │\n",
       "│ ┡━━━━━━━━━━━━━━━━━━━╇━━━━━━━━┩ ┡━━━━━━━━━━━━━╇━━━━━━━┩                                                          │\n",
       "│ │ Number of rows    │ 51490  │ │ int32       │ 53    │                                                          │\n",
       "│ │ Number of columns │ 53     │ └─────────────┴───────┘                                                          │\n",
       "│ └───────────────────┴────────┘                                                                                  │\n",
       "│ \u001b[3m                                                    number                                                    \u001b[0m  │\n",
       "│ ┏━━━━━━━━━━━━━━━━━━━━━━━━━━━━┳━━━━━━┳━━━━━━━━┳━━━━━━━━┳━━━━━━━━┳━━━━━━━┳━━━━━━━━┳━━━━━━━━┳━━━━━━━━┳━━━━━━━━━━┓  │\n",
       "│ ┃\u001b[1m \u001b[0m\u001b[1mcolumn_name               \u001b[0m\u001b[1m \u001b[0m┃\u001b[1m \u001b[0m\u001b[1mNA  \u001b[0m\u001b[1m \u001b[0m┃\u001b[1m \u001b[0m\u001b[1mNA %  \u001b[0m\u001b[1m \u001b[0m┃\u001b[1m \u001b[0m\u001b[1mmean  \u001b[0m\u001b[1m \u001b[0m┃\u001b[1m \u001b[0m\u001b[1msd    \u001b[0m\u001b[1m \u001b[0m┃\u001b[1m \u001b[0m\u001b[1mp0   \u001b[0m\u001b[1m \u001b[0m┃\u001b[1m \u001b[0m\u001b[1mp25   \u001b[0m\u001b[1m \u001b[0m┃\u001b[1m \u001b[0m\u001b[1mp75   \u001b[0m\u001b[1m \u001b[0m┃\u001b[1m \u001b[0m\u001b[1mp100  \u001b[0m\u001b[1m \u001b[0m┃\u001b[1m \u001b[0m\u001b[1mhist    \u001b[0m\u001b[1m \u001b[0m┃  │\n",
       "│ ┡━━━━━━━━━━━━━━━━━━━━━━━━━━━━╇━━━━━━╇━━━━━━━━╇━━━━━━━━╇━━━━━━━━╇━━━━━━━╇━━━━━━━━╇━━━━━━━━╇━━━━━━━━╇━━━━━━━━━━┩  │\n",
       "│ │ \u001b[38;5;141mgameDuration              \u001b[0m │ \u001b[36m   0\u001b[0m │ \u001b[36m     0\u001b[0m │ \u001b[36m  1800\u001b[0m │ \u001b[36m   510\u001b[0m │ \u001b[36m  190\u001b[0m │ \u001b[36m  1500\u001b[0m │ \u001b[36m  2100\u001b[0m │ \u001b[36m  4700\u001b[0m │ \u001b[32m  ▁▅█▁  \u001b[0m │  │\n",
       "│ │ \u001b[38;5;141mwinner                    \u001b[0m │ \u001b[36m   0\u001b[0m │ \u001b[36m     0\u001b[0m │ \u001b[36m   1.5\u001b[0m │ \u001b[36m   0.5\u001b[0m │ \u001b[36m    1\u001b[0m │ \u001b[36m     1\u001b[0m │ \u001b[36m     2\u001b[0m │ \u001b[36m     2\u001b[0m │ \u001b[32m █    █ \u001b[0m │  │\n",
       "│ │ \u001b[38;5;141mfirstBlood                \u001b[0m │ \u001b[36m   0\u001b[0m │ \u001b[36m     0\u001b[0m │ \u001b[36m   1.5\u001b[0m │ \u001b[36m  0.52\u001b[0m │ \u001b[36m    0\u001b[0m │ \u001b[36m     1\u001b[0m │ \u001b[36m     2\u001b[0m │ \u001b[36m     2\u001b[0m │ \u001b[32m    █ █ \u001b[0m │  │\n",
       "│ │ \u001b[38;5;141mfirstTower                \u001b[0m │ \u001b[36m   0\u001b[0m │ \u001b[36m     0\u001b[0m │ \u001b[36m   1.5\u001b[0m │ \u001b[36m  0.54\u001b[0m │ \u001b[36m    0\u001b[0m │ \u001b[36m     1\u001b[0m │ \u001b[36m     2\u001b[0m │ \u001b[36m     2\u001b[0m │ \u001b[32m    █ █ \u001b[0m │  │\n",
       "│ │ \u001b[38;5;141mfirstBaron                \u001b[0m │ \u001b[36m   0\u001b[0m │ \u001b[36m     0\u001b[0m │ \u001b[36m  0.93\u001b[0m │ \u001b[36m  0.84\u001b[0m │ \u001b[36m    0\u001b[0m │ \u001b[36m     0\u001b[0m │ \u001b[36m     2\u001b[0m │ \u001b[36m     2\u001b[0m │ \u001b[32m █  ▆ ▇ \u001b[0m │  │\n",
       "│ │ \u001b[38;5;141mfirstDragon               \u001b[0m │ \u001b[36m   0\u001b[0m │ \u001b[36m     0\u001b[0m │ \u001b[36m   1.4\u001b[0m │ \u001b[36m  0.57\u001b[0m │ \u001b[36m    0\u001b[0m │ \u001b[36m     1\u001b[0m │ \u001b[36m     2\u001b[0m │ \u001b[36m     2\u001b[0m │ \u001b[32m ▁  █ █ \u001b[0m │  │\n",
       "│ │ \u001b[38;5;141mfirstRiftHerald           \u001b[0m │ \u001b[36m   0\u001b[0m │ \u001b[36m     0\u001b[0m │ \u001b[36m  0.73\u001b[0m │ \u001b[36m  0.82\u001b[0m │ \u001b[36m    0\u001b[0m │ \u001b[36m     0\u001b[0m │ \u001b[36m     1\u001b[0m │ \u001b[36m     2\u001b[0m │ \u001b[32m █  ▄ ▄ \u001b[0m │  │\n",
       "│ │ \u001b[38;5;141mt1_champ1id               \u001b[0m │ \u001b[36m   0\u001b[0m │ \u001b[36m     0\u001b[0m │ \u001b[36m   110\u001b[0m │ \u001b[36m   120\u001b[0m │ \u001b[36m    1\u001b[0m │ \u001b[36m    35\u001b[0m │ \u001b[36m   140\u001b[0m │ \u001b[36m   520\u001b[0m │ \u001b[32m █▄▁ ▁▁ \u001b[0m │  │\n",
       "│ │ \u001b[38;5;141mt1_champ1_sum1            \u001b[0m │ \u001b[36m   0\u001b[0m │ \u001b[36m     0\u001b[0m │ \u001b[36m   6.6\u001b[0m │ \u001b[36m     4\u001b[0m │ \u001b[36m    1\u001b[0m │ \u001b[36m     4\u001b[0m │ \u001b[36m    11\u001b[0m │ \u001b[36m    21\u001b[0m │ \u001b[32m  █▁ ▃  \u001b[0m │  │\n",
       "│ │ \u001b[38;5;141mt1_champ1_sum2            \u001b[0m │ \u001b[36m   0\u001b[0m │ \u001b[36m     0\u001b[0m │ \u001b[36m   7.3\u001b[0m │ \u001b[36m   4.3\u001b[0m │ \u001b[36m    1\u001b[0m │ \u001b[36m     4\u001b[0m │ \u001b[36m    11\u001b[0m │ \u001b[36m    21\u001b[0m │ \u001b[32m  █▂ ▅  \u001b[0m │  │\n",
       "│ │ \u001b[38;5;141mt1_champ2id               \u001b[0m │ \u001b[36m   0\u001b[0m │ \u001b[36m     0\u001b[0m │ \u001b[36m   120\u001b[0m │ \u001b[36m   120\u001b[0m │ \u001b[36m    1\u001b[0m │ \u001b[36m    35\u001b[0m │ \u001b[36m   140\u001b[0m │ \u001b[36m   520\u001b[0m │ \u001b[32m █▄▁ ▁▁ \u001b[0m │  │\n",
       "│ │ \u001b[38;5;141mt1_champ2_sum1            \u001b[0m │ \u001b[36m   0\u001b[0m │ \u001b[36m     0\u001b[0m │ \u001b[36m   6.5\u001b[0m │ \u001b[36m     4\u001b[0m │ \u001b[36m    1\u001b[0m │ \u001b[36m     4\u001b[0m │ \u001b[36m    11\u001b[0m │ \u001b[36m    21\u001b[0m │ \u001b[32m  █▁ ▃  \u001b[0m │  │\n",
       "│ │ \u001b[38;5;141mt1_champ2_sum2            \u001b[0m │ \u001b[36m   0\u001b[0m │ \u001b[36m     0\u001b[0m │ \u001b[36m   7.2\u001b[0m │ \u001b[36m   4.2\u001b[0m │ \u001b[36m    1\u001b[0m │ \u001b[36m     4\u001b[0m │ \u001b[36m    11\u001b[0m │ \u001b[36m    21\u001b[0m │ \u001b[32m  █▂ ▅  \u001b[0m │  │\n",
       "│ │ \u001b[38;5;141mt1_champ3id               \u001b[0m │ \u001b[36m   0\u001b[0m │ \u001b[36m     0\u001b[0m │ \u001b[36m   120\u001b[0m │ \u001b[36m   120\u001b[0m │ \u001b[36m    1\u001b[0m │ \u001b[36m    35\u001b[0m │ \u001b[36m   140\u001b[0m │ \u001b[36m   520\u001b[0m │ \u001b[32m █▄▁ ▁▁ \u001b[0m │  │\n",
       "│ │ \u001b[38;5;141mt1_champ3_sum1            \u001b[0m │ \u001b[36m   0\u001b[0m │ \u001b[36m     0\u001b[0m │ \u001b[36m   6.5\u001b[0m │ \u001b[36m     4\u001b[0m │ \u001b[36m    1\u001b[0m │ \u001b[36m     4\u001b[0m │ \u001b[36m    11\u001b[0m │ \u001b[36m    21\u001b[0m │ \u001b[32m  █▁ ▃  \u001b[0m │  │\n",
       "│ │ \u001b[38;5;141mt1_champ3_sum2            \u001b[0m │ \u001b[36m   0\u001b[0m │ \u001b[36m     0\u001b[0m │ \u001b[36m   7.2\u001b[0m │ \u001b[36m   4.2\u001b[0m │ \u001b[36m    1\u001b[0m │ \u001b[36m     4\u001b[0m │ \u001b[36m    11\u001b[0m │ \u001b[36m    21\u001b[0m │ \u001b[32m  █▂ ▅  \u001b[0m │  │\n",
       "│ │ \u001b[38;5;141mt1_champ4id               \u001b[0m │ \u001b[36m   0\u001b[0m │ \u001b[36m     0\u001b[0m │ \u001b[36m   120\u001b[0m │ \u001b[36m   120\u001b[0m │ \u001b[36m    1\u001b[0m │ \u001b[36m    36\u001b[0m │ \u001b[36m   140\u001b[0m │ \u001b[36m   520\u001b[0m │ \u001b[32m █▄▁ ▁▁ \u001b[0m │  │\n",
       "│ │ \u001b[38;5;141mt1_champ4_sum1            \u001b[0m │ \u001b[36m   0\u001b[0m │ \u001b[36m     0\u001b[0m │ \u001b[36m   6.5\u001b[0m │ \u001b[36m     4\u001b[0m │ \u001b[36m    1\u001b[0m │ \u001b[36m     4\u001b[0m │ \u001b[36m    11\u001b[0m │ \u001b[36m    21\u001b[0m │ \u001b[32m  █▁ ▃  \u001b[0m │  │\n",
       "│ │ \u001b[38;5;141mt1_champ4_sum2            \u001b[0m │ \u001b[36m   0\u001b[0m │ \u001b[36m     0\u001b[0m │ \u001b[36m   7.2\u001b[0m │ \u001b[36m   4.2\u001b[0m │ \u001b[36m    1\u001b[0m │ \u001b[36m     4\u001b[0m │ \u001b[36m    11\u001b[0m │ \u001b[36m    21\u001b[0m │ \u001b[32m  █▂ ▅  \u001b[0m │  │\n",
       "│ │ \u001b[38;5;141mt1_champ5id               \u001b[0m │ \u001b[36m   0\u001b[0m │ \u001b[36m     0\u001b[0m │ \u001b[36m   110\u001b[0m │ \u001b[36m   120\u001b[0m │ \u001b[36m    1\u001b[0m │ \u001b[36m    35\u001b[0m │ \u001b[36m   140\u001b[0m │ \u001b[36m   520\u001b[0m │ \u001b[32m █▄▁ ▁▁ \u001b[0m │  │\n",
       "│ │ \u001b[38;5;141mt1_champ5_sum1            \u001b[0m │ \u001b[36m   0\u001b[0m │ \u001b[36m     0\u001b[0m │ \u001b[36m   6.6\u001b[0m │ \u001b[36m     4\u001b[0m │ \u001b[36m    1\u001b[0m │ \u001b[36m     4\u001b[0m │ \u001b[36m    11\u001b[0m │ \u001b[36m    21\u001b[0m │ \u001b[32m  █▁ ▃  \u001b[0m │  │\n",
       "│ │ \u001b[38;5;141mt1_champ5_sum2            \u001b[0m │ \u001b[36m   0\u001b[0m │ \u001b[36m     0\u001b[0m │ \u001b[36m   7.3\u001b[0m │ \u001b[36m   4.3\u001b[0m │ \u001b[36m    1\u001b[0m │ \u001b[36m     4\u001b[0m │ \u001b[36m    11\u001b[0m │ \u001b[36m    21\u001b[0m │ \u001b[32m  █▂ ▅  \u001b[0m │  │\n",
       "│ │ \u001b[38;5;141mt1_baronKills             \u001b[0m │ \u001b[36m   0\u001b[0m │ \u001b[36m     0\u001b[0m │ \u001b[36m  0.37\u001b[0m │ \u001b[36m  0.58\u001b[0m │ \u001b[36m    0\u001b[0m │ \u001b[36m     0\u001b[0m │ \u001b[36m     1\u001b[0m │ \u001b[36m     5\u001b[0m │ \u001b[32m  █▃▁   \u001b[0m │  │\n",
       "│ │ \u001b[38;5;141mt1_dragonKills            \u001b[0m │ \u001b[36m   0\u001b[0m │ \u001b[36m     0\u001b[0m │ \u001b[36m   1.4\u001b[0m │ \u001b[36m   1.2\u001b[0m │ \u001b[36m    0\u001b[0m │ \u001b[36m     0\u001b[0m │ \u001b[36m     2\u001b[0m │ \u001b[36m     6\u001b[0m │ \u001b[32m █▇▇▄▁  \u001b[0m │  │\n",
       "│ │ \u001b[38;5;141mt1_riftHeraldKills        \u001b[0m │ \u001b[36m   0\u001b[0m │ \u001b[36m     0\u001b[0m │ \u001b[36m  0.25\u001b[0m │ \u001b[36m  0.43\u001b[0m │ \u001b[36m    0\u001b[0m │ \u001b[36m     0\u001b[0m │ \u001b[36m     1\u001b[0m │ \u001b[36m     1\u001b[0m │ \u001b[32m █    ▃ \u001b[0m │  │\n",
       "│ │ \u001b[38;5;141mt1_ban1                   \u001b[0m │ \u001b[36m   0\u001b[0m │ \u001b[36m     0\u001b[0m │ \u001b[36m   110\u001b[0m │ \u001b[36m   100\u001b[0m │ \u001b[36m   -1\u001b[0m │ \u001b[36m    38\u001b[0m │ \u001b[36m   140\u001b[0m │ \u001b[36m   520\u001b[0m │ \u001b[32m  █▆▁   \u001b[0m │  │\n",
       "│ │ \u001b[38;5;141mt1_ban2                   \u001b[0m │ \u001b[36m   0\u001b[0m │ \u001b[36m     0\u001b[0m │ \u001b[36m   110\u001b[0m │ \u001b[36m   100\u001b[0m │ \u001b[36m   -1\u001b[0m │ \u001b[36m    38\u001b[0m │ \u001b[36m   140\u001b[0m │ \u001b[36m   520\u001b[0m │ \u001b[32m  █▆▁   \u001b[0m │  │\n",
       "│ │ \u001b[38;5;141mt1_ban3                   \u001b[0m │ \u001b[36m   0\u001b[0m │ \u001b[36m     0\u001b[0m │ \u001b[36m   110\u001b[0m │ \u001b[36m   100\u001b[0m │ \u001b[36m   -1\u001b[0m │ \u001b[36m    37\u001b[0m │ \u001b[36m   140\u001b[0m │ \u001b[36m   520\u001b[0m │ \u001b[32m  █▆▁   \u001b[0m │  │\n",
       "│ │ \u001b[38;5;141mt1_ban4                   \u001b[0m │ \u001b[36m   0\u001b[0m │ \u001b[36m     0\u001b[0m │ \u001b[36m   110\u001b[0m │ \u001b[36m   100\u001b[0m │ \u001b[36m   -1\u001b[0m │ \u001b[36m    38\u001b[0m │ \u001b[36m   140\u001b[0m │ \u001b[36m   520\u001b[0m │ \u001b[32m  █▆▁   \u001b[0m │  │\n",
       "│ │ \u001b[38;5;141mt1_ban5                   \u001b[0m │ \u001b[36m   0\u001b[0m │ \u001b[36m     0\u001b[0m │ \u001b[36m   110\u001b[0m │ \u001b[36m   100\u001b[0m │ \u001b[36m   -1\u001b[0m │ \u001b[36m    38\u001b[0m │ \u001b[36m   140\u001b[0m │ \u001b[36m   520\u001b[0m │ \u001b[32m  █▇▁   \u001b[0m │  │\n",
       "│ │ \u001b[38;5;141mt2_champ1id               \u001b[0m │ \u001b[36m   0\u001b[0m │ \u001b[36m     0\u001b[0m │ \u001b[36m   120\u001b[0m │ \u001b[36m   120\u001b[0m │ \u001b[36m    1\u001b[0m │ \u001b[36m    35\u001b[0m │ \u001b[36m   140\u001b[0m │ \u001b[36m   520\u001b[0m │ \u001b[32m █▄▁ ▁▁ \u001b[0m │  │\n",
       "│ │ \u001b[38;5;141mt2_champ1_sum1            \u001b[0m │ \u001b[36m   0\u001b[0m │ \u001b[36m     0\u001b[0m │ \u001b[36m   6.6\u001b[0m │ \u001b[36m     4\u001b[0m │ \u001b[36m    1\u001b[0m │ \u001b[36m     4\u001b[0m │ \u001b[36m    11\u001b[0m │ \u001b[36m    21\u001b[0m │ \u001b[32m  █▁ ▃  \u001b[0m │  │\n",
       "│ │ \u001b[38;5;141mt2_champ1_sum2            \u001b[0m │ \u001b[36m   0\u001b[0m │ \u001b[36m     0\u001b[0m │ \u001b[36m   7.3\u001b[0m │ \u001b[36m   4.3\u001b[0m │ \u001b[36m    1\u001b[0m │ \u001b[36m     4\u001b[0m │ \u001b[36m    11\u001b[0m │ \u001b[36m    21\u001b[0m │ \u001b[32m  █▂ ▅  \u001b[0m │  │\n",
       "│ │ \u001b[38;5;141mt2_champ2id               \u001b[0m │ \u001b[36m   0\u001b[0m │ \u001b[36m     0\u001b[0m │ \u001b[36m   120\u001b[0m │ \u001b[36m   120\u001b[0m │ \u001b[36m    1\u001b[0m │ \u001b[36m    35\u001b[0m │ \u001b[36m   140\u001b[0m │ \u001b[36m   520\u001b[0m │ \u001b[32m █▄▁ ▁▁ \u001b[0m │  │\n",
       "│ │ \u001b[38;5;141mt2_champ2_sum1            \u001b[0m │ \u001b[36m   0\u001b[0m │ \u001b[36m     0\u001b[0m │ \u001b[36m   6.5\u001b[0m │ \u001b[36m     4\u001b[0m │ \u001b[36m    1\u001b[0m │ \u001b[36m     4\u001b[0m │ \u001b[36m    11\u001b[0m │ \u001b[36m    21\u001b[0m │ \u001b[32m  █▁ ▃  \u001b[0m │  │\n",
       "│ │ \u001b[38;5;141mt2_champ2_sum2            \u001b[0m │ \u001b[36m   0\u001b[0m │ \u001b[36m     0\u001b[0m │ \u001b[36m   7.2\u001b[0m │ \u001b[36m   4.3\u001b[0m │ \u001b[36m    1\u001b[0m │ \u001b[36m     4\u001b[0m │ \u001b[36m    11\u001b[0m │ \u001b[36m    21\u001b[0m │ \u001b[32m  █▂ ▅  \u001b[0m │  │\n",
       "│ │ \u001b[38;5;141mt2_champ3id               \u001b[0m │ \u001b[36m   0\u001b[0m │ \u001b[36m     0\u001b[0m │ \u001b[36m   120\u001b[0m │ \u001b[36m   120\u001b[0m │ \u001b[36m    1\u001b[0m │ \u001b[36m    36\u001b[0m │ \u001b[36m   140\u001b[0m │ \u001b[36m   520\u001b[0m │ \u001b[32m █▄▁ ▁▁ \u001b[0m │  │\n",
       "│ │ \u001b[38;5;141mt2_champ3_sum1            \u001b[0m │ \u001b[36m   0\u001b[0m │ \u001b[36m     0\u001b[0m │ \u001b[36m   6.5\u001b[0m │ \u001b[36m     4\u001b[0m │ \u001b[36m    1\u001b[0m │ \u001b[36m     4\u001b[0m │ \u001b[36m    11\u001b[0m │ \u001b[36m    21\u001b[0m │ \u001b[32m  █▁ ▃  \u001b[0m │  │\n",
       "│ │ \u001b[38;5;141mt2_champ3_sum2            \u001b[0m │ \u001b[36m   0\u001b[0m │ \u001b[36m     0\u001b[0m │ \u001b[36m   7.2\u001b[0m │ \u001b[36m   4.2\u001b[0m │ \u001b[36m    1\u001b[0m │ \u001b[36m     4\u001b[0m │ \u001b[36m    11\u001b[0m │ \u001b[36m    21\u001b[0m │ \u001b[32m  █▂ ▅  \u001b[0m │  │\n",
       "│ │ \u001b[38;5;141mt2_champ4id               \u001b[0m │ \u001b[36m   0\u001b[0m │ \u001b[36m     0\u001b[0m │ \u001b[36m   120\u001b[0m │ \u001b[36m   120\u001b[0m │ \u001b[36m    1\u001b[0m │ \u001b[36m    35\u001b[0m │ \u001b[36m   140\u001b[0m │ \u001b[36m   520\u001b[0m │ \u001b[32m █▄▁ ▁▁ \u001b[0m │  │\n",
       "│ │ \u001b[38;5;141mt2_champ4_sum1            \u001b[0m │ \u001b[36m   0\u001b[0m │ \u001b[36m     0\u001b[0m │ \u001b[36m   6.5\u001b[0m │ \u001b[36m     4\u001b[0m │ \u001b[36m    1\u001b[0m │ \u001b[36m     4\u001b[0m │ \u001b[36m    11\u001b[0m │ \u001b[36m    21\u001b[0m │ \u001b[32m  █▁ ▃  \u001b[0m │  │\n",
       "│ │ \u001b[38;5;141mt2_champ4_sum2            \u001b[0m │ \u001b[36m   0\u001b[0m │ \u001b[36m     0\u001b[0m │ \u001b[36m   7.2\u001b[0m │ \u001b[36m   4.2\u001b[0m │ \u001b[36m    1\u001b[0m │ \u001b[36m     4\u001b[0m │ \u001b[36m    11\u001b[0m │ \u001b[36m    21\u001b[0m │ \u001b[32m  █▂ ▅  \u001b[0m │  │\n",
       "│ │ \u001b[38;5;141mt2_champ5id               \u001b[0m │ \u001b[36m   0\u001b[0m │ \u001b[36m     0\u001b[0m │ \u001b[36m   120\u001b[0m │ \u001b[36m   120\u001b[0m │ \u001b[36m    1\u001b[0m │ \u001b[36m    35\u001b[0m │ \u001b[36m   140\u001b[0m │ \u001b[36m   520\u001b[0m │ \u001b[32m █▄▁ ▁▁ \u001b[0m │  │\n",
       "│ │ \u001b[38;5;141mt2_champ5_sum1            \u001b[0m │ \u001b[36m   0\u001b[0m │ \u001b[36m     0\u001b[0m │ \u001b[36m   6.6\u001b[0m │ \u001b[36m     4\u001b[0m │ \u001b[36m    1\u001b[0m │ \u001b[36m     4\u001b[0m │ \u001b[36m    11\u001b[0m │ \u001b[36m    21\u001b[0m │ \u001b[32m  █▁ ▃  \u001b[0m │  │\n",
       "│ │ \u001b[38;5;141mt2_champ5_sum2            \u001b[0m │ \u001b[36m   0\u001b[0m │ \u001b[36m     0\u001b[0m │ \u001b[36m   7.2\u001b[0m │ \u001b[36m   4.3\u001b[0m │ \u001b[36m    1\u001b[0m │ \u001b[36m     4\u001b[0m │ \u001b[36m    11\u001b[0m │ \u001b[36m    21\u001b[0m │ \u001b[32m  █▂ ▅  \u001b[0m │  │\n",
       "│ │ \u001b[38;5;141mt2_baronKills             \u001b[0m │ \u001b[36m   0\u001b[0m │ \u001b[36m     0\u001b[0m │ \u001b[36m  0.41\u001b[0m │ \u001b[36m  0.61\u001b[0m │ \u001b[36m    0\u001b[0m │ \u001b[36m     0\u001b[0m │ \u001b[36m     1\u001b[0m │ \u001b[36m     4\u001b[0m │ \u001b[32m  █▄ ▁  \u001b[0m │  │\n",
       "│ │ \u001b[38;5;141mt2_dragonKills            \u001b[0m │ \u001b[36m   0\u001b[0m │ \u001b[36m     0\u001b[0m │ \u001b[36m   1.4\u001b[0m │ \u001b[36m   1.2\u001b[0m │ \u001b[36m    0\u001b[0m │ \u001b[36m     0\u001b[0m │ \u001b[36m     2\u001b[0m │ \u001b[36m     6\u001b[0m │ \u001b[32m █▇▇▄▁  \u001b[0m │  │\n",
       "│ │ \u001b[38;5;141mt2_riftHeraldKills        \u001b[0m │ \u001b[36m   0\u001b[0m │ \u001b[36m     0\u001b[0m │ \u001b[36m  0.24\u001b[0m │ \u001b[36m  0.43\u001b[0m │ \u001b[36m    0\u001b[0m │ \u001b[36m     0\u001b[0m │ \u001b[36m     0\u001b[0m │ \u001b[36m     1\u001b[0m │ \u001b[32m █    ▃ \u001b[0m │  │\n",
       "│ │ \u001b[38;5;141mt2_ban1                   \u001b[0m │ \u001b[36m   0\u001b[0m │ \u001b[36m     0\u001b[0m │ \u001b[36m   110\u001b[0m │ \u001b[36m   100\u001b[0m │ \u001b[36m   -1\u001b[0m │ \u001b[36m    38\u001b[0m │ \u001b[36m   140\u001b[0m │ \u001b[36m   520\u001b[0m │ \u001b[32m  █▆▁   \u001b[0m │  │\n",
       "│ │ \u001b[38;5;141mt2_ban2                   \u001b[0m │ \u001b[36m   0\u001b[0m │ \u001b[36m     0\u001b[0m │ \u001b[36m   110\u001b[0m │ \u001b[36m   100\u001b[0m │ \u001b[36m   -1\u001b[0m │ \u001b[36m    37\u001b[0m │ \u001b[36m   140\u001b[0m │ \u001b[36m   520\u001b[0m │ \u001b[32m  █▆▁   \u001b[0m │  │\n",
       "│ │ \u001b[38;5;141mt2_ban3                   \u001b[0m │ \u001b[36m   0\u001b[0m │ \u001b[36m     0\u001b[0m │ \u001b[36m   110\u001b[0m │ \u001b[36m   100\u001b[0m │ \u001b[36m   -1\u001b[0m │ \u001b[36m    38\u001b[0m │ \u001b[36m   140\u001b[0m │ \u001b[36m   520\u001b[0m │ \u001b[32m  █▆▁   \u001b[0m │  │\n",
       "│ │ \u001b[38;5;141mt2_ban4                   \u001b[0m │ \u001b[36m   0\u001b[0m │ \u001b[36m     0\u001b[0m │ \u001b[36m   110\u001b[0m │ \u001b[36m   100\u001b[0m │ \u001b[36m   -1\u001b[0m │ \u001b[36m    38\u001b[0m │ \u001b[36m   140\u001b[0m │ \u001b[36m   520\u001b[0m │ \u001b[32m  █▆▁   \u001b[0m │  │\n",
       "│ │ \u001b[38;5;141mt2_ban5                   \u001b[0m │ \u001b[36m   0\u001b[0m │ \u001b[36m     0\u001b[0m │ \u001b[36m   110\u001b[0m │ \u001b[36m   100\u001b[0m │ \u001b[36m   -1\u001b[0m │ \u001b[36m    38\u001b[0m │ \u001b[36m   140\u001b[0m │ \u001b[36m   520\u001b[0m │ \u001b[32m  █▆▁   \u001b[0m │  │\n",
       "│ └────────────────────────────┴──────┴────────┴────────┴────────┴───────┴────────┴────────┴────────┴──────────┘  │\n",
       "╰────────────────────────────────────────────────────── End ──────────────────────────────────────────────────────╯\n"
      ]
     },
     "metadata": {},
     "output_type": "display_data"
    }
   ],
   "source": [
    "from skimpy import skim\n",
    "\n",
    "skim(loldt)"
   ]
  },
  {
   "cell_type": "code",
   "execution_count": 69,
   "id": "675bef86-0cd5-4314-8261-b228df43ddf3",
   "metadata": {
    "tags": []
   },
   "outputs": [],
   "source": [
    "from sklearn import preprocessing"
   ]
  },
  {
   "cell_type": "code",
   "execution_count": 70,
   "id": "5ba95012-2878-4457-bffc-4e7f71941435",
   "metadata": {
    "tags": []
   },
   "outputs": [
    {
     "data": {
      "text/plain": [
       "array([dtype('int64')], dtype=object)"
      ]
     },
     "execution_count": 70,
     "metadata": {},
     "output_type": "execute_result"
    }
   ],
   "source": [
    "loldt.dtypes.unique()"
   ]
  },
  {
   "cell_type": "code",
   "execution_count": null,
   "id": "0d58744f-f8fc-4c0a-947a-10cb3dfb66a7",
   "metadata": {
    "tags": []
   },
   "outputs": [],
   "source": []
  },
  {
   "cell_type": "code",
   "execution_count": 71,
   "id": "886a6feb-0f5e-43b5-aa1f-c693c035907d",
   "metadata": {
    "tags": []
   },
   "outputs": [],
   "source": [
    "y = loldt['winner']\n",
    "X = loldt.drop('winner', axis=1)"
   ]
  },
  {
   "cell_type": "code",
   "execution_count": 278,
   "id": "9197d04f",
   "metadata": {},
   "outputs": [],
   "source": []
  },
  {
   "cell_type": "code",
   "execution_count": null,
   "id": "83437124",
   "metadata": {},
   "outputs": [],
   "source": []
  },
  {
   "cell_type": "code",
   "execution_count": 72,
   "id": "e3daf277-5f88-464a-8b42-2a7340d1d930",
   "metadata": {
    "tags": []
   },
   "outputs": [
    {
     "data": {
      "text/plain": [
       "False"
      ]
     },
     "execution_count": 72,
     "metadata": {},
     "output_type": "execute_result"
    }
   ],
   "source": [
    "any(y.isna())"
   ]
  },
  {
   "cell_type": "code",
   "execution_count": 73,
   "id": "4e2dbeaa-c872-451f-ae04-a584715c4f40",
   "metadata": {
    "tags": []
   },
   "outputs": [
    {
     "data": {
      "text/plain": [
       "array([1, 2], dtype=int64)"
      ]
     },
     "execution_count": 73,
     "metadata": {},
     "output_type": "execute_result"
    }
   ],
   "source": [
    "y.unique()"
   ]
  },
  {
   "cell_type": "code",
   "execution_count": 74,
   "id": "74a2378f",
   "metadata": {},
   "outputs": [
    {
     "data": {
      "text/html": [
       "<div>\n",
       "<style scoped>\n",
       "    .dataframe tbody tr th:only-of-type {\n",
       "        vertical-align: middle;\n",
       "    }\n",
       "\n",
       "    .dataframe tbody tr th {\n",
       "        vertical-align: top;\n",
       "    }\n",
       "\n",
       "    .dataframe thead th {\n",
       "        text-align: right;\n",
       "    }\n",
       "</style>\n",
       "<table border=\"1\" class=\"dataframe\">\n",
       "  <thead>\n",
       "    <tr style=\"text-align: right;\">\n",
       "      <th></th>\n",
       "      <th>gameDuration</th>\n",
       "      <th>winner</th>\n",
       "      <th>firstBlood</th>\n",
       "      <th>firstTower</th>\n",
       "      <th>firstBaron</th>\n",
       "      <th>firstDragon</th>\n",
       "      <th>firstRiftHerald</th>\n",
       "      <th>t1_champ1id</th>\n",
       "      <th>t1_champ1_sum1</th>\n",
       "      <th>t1_champ1_sum2</th>\n",
       "      <th>...</th>\n",
       "      <th>t2_champ5_sum1</th>\n",
       "      <th>t2_champ5_sum2</th>\n",
       "      <th>t2_baronKills</th>\n",
       "      <th>t2_dragonKills</th>\n",
       "      <th>t2_riftHeraldKills</th>\n",
       "      <th>t2_ban1</th>\n",
       "      <th>t2_ban2</th>\n",
       "      <th>t2_ban3</th>\n",
       "      <th>t2_ban4</th>\n",
       "      <th>t2_ban5</th>\n",
       "    </tr>\n",
       "  </thead>\n",
       "  <tbody>\n",
       "    <tr>\n",
       "      <th>0</th>\n",
       "      <td>1949</td>\n",
       "      <td>1</td>\n",
       "      <td>2</td>\n",
       "      <td>1</td>\n",
       "      <td>1</td>\n",
       "      <td>1</td>\n",
       "      <td>2</td>\n",
       "      <td>8</td>\n",
       "      <td>12</td>\n",
       "      <td>4</td>\n",
       "      <td>...</td>\n",
       "      <td>4</td>\n",
       "      <td>3</td>\n",
       "      <td>0</td>\n",
       "      <td>1</td>\n",
       "      <td>1</td>\n",
       "      <td>114</td>\n",
       "      <td>67</td>\n",
       "      <td>43</td>\n",
       "      <td>16</td>\n",
       "      <td>51</td>\n",
       "    </tr>\n",
       "    <tr>\n",
       "      <th>1</th>\n",
       "      <td>1851</td>\n",
       "      <td>1</td>\n",
       "      <td>1</td>\n",
       "      <td>1</td>\n",
       "      <td>0</td>\n",
       "      <td>1</td>\n",
       "      <td>1</td>\n",
       "      <td>119</td>\n",
       "      <td>7</td>\n",
       "      <td>4</td>\n",
       "      <td>...</td>\n",
       "      <td>4</td>\n",
       "      <td>7</td>\n",
       "      <td>0</td>\n",
       "      <td>0</td>\n",
       "      <td>0</td>\n",
       "      <td>11</td>\n",
       "      <td>67</td>\n",
       "      <td>238</td>\n",
       "      <td>51</td>\n",
       "      <td>420</td>\n",
       "    </tr>\n",
       "    <tr>\n",
       "      <th>2</th>\n",
       "      <td>1493</td>\n",
       "      <td>1</td>\n",
       "      <td>2</td>\n",
       "      <td>1</td>\n",
       "      <td>1</td>\n",
       "      <td>2</td>\n",
       "      <td>0</td>\n",
       "      <td>18</td>\n",
       "      <td>4</td>\n",
       "      <td>7</td>\n",
       "      <td>...</td>\n",
       "      <td>7</td>\n",
       "      <td>4</td>\n",
       "      <td>0</td>\n",
       "      <td>1</td>\n",
       "      <td>0</td>\n",
       "      <td>157</td>\n",
       "      <td>238</td>\n",
       "      <td>121</td>\n",
       "      <td>57</td>\n",
       "      <td>28</td>\n",
       "    </tr>\n",
       "    <tr>\n",
       "      <th>3</th>\n",
       "      <td>1758</td>\n",
       "      <td>1</td>\n",
       "      <td>1</td>\n",
       "      <td>1</td>\n",
       "      <td>1</td>\n",
       "      <td>1</td>\n",
       "      <td>0</td>\n",
       "      <td>57</td>\n",
       "      <td>4</td>\n",
       "      <td>12</td>\n",
       "      <td>...</td>\n",
       "      <td>4</td>\n",
       "      <td>7</td>\n",
       "      <td>0</td>\n",
       "      <td>0</td>\n",
       "      <td>0</td>\n",
       "      <td>164</td>\n",
       "      <td>18</td>\n",
       "      <td>141</td>\n",
       "      <td>40</td>\n",
       "      <td>51</td>\n",
       "    </tr>\n",
       "    <tr>\n",
       "      <th>4</th>\n",
       "      <td>2094</td>\n",
       "      <td>1</td>\n",
       "      <td>2</td>\n",
       "      <td>1</td>\n",
       "      <td>1</td>\n",
       "      <td>1</td>\n",
       "      <td>0</td>\n",
       "      <td>19</td>\n",
       "      <td>4</td>\n",
       "      <td>12</td>\n",
       "      <td>...</td>\n",
       "      <td>4</td>\n",
       "      <td>7</td>\n",
       "      <td>0</td>\n",
       "      <td>1</td>\n",
       "      <td>0</td>\n",
       "      <td>86</td>\n",
       "      <td>11</td>\n",
       "      <td>201</td>\n",
       "      <td>122</td>\n",
       "      <td>18</td>\n",
       "    </tr>\n",
       "  </tbody>\n",
       "</table>\n",
       "<p>5 rows × 53 columns</p>\n",
       "</div>"
      ],
      "text/plain": [
       "   gameDuration  winner  firstBlood  firstTower  firstBaron  firstDragon  \\\n",
       "0          1949       1           2           1           1            1   \n",
       "1          1851       1           1           1           0            1   \n",
       "2          1493       1           2           1           1            2   \n",
       "3          1758       1           1           1           1            1   \n",
       "4          2094       1           2           1           1            1   \n",
       "\n",
       "   firstRiftHerald  t1_champ1id  t1_champ1_sum1  t1_champ1_sum2  ...  \\\n",
       "0                2            8              12               4  ...   \n",
       "1                1          119               7               4  ...   \n",
       "2                0           18               4               7  ...   \n",
       "3                0           57               4              12  ...   \n",
       "4                0           19               4              12  ...   \n",
       "\n",
       "   t2_champ5_sum1  t2_champ5_sum2  t2_baronKills  t2_dragonKills  \\\n",
       "0               4               3              0               1   \n",
       "1               4               7              0               0   \n",
       "2               7               4              0               1   \n",
       "3               4               7              0               0   \n",
       "4               4               7              0               1   \n",
       "\n",
       "   t2_riftHeraldKills  t2_ban1  t2_ban2  t2_ban3  t2_ban4  t2_ban5  \n",
       "0                   1      114       67       43       16       51  \n",
       "1                   0       11       67      238       51      420  \n",
       "2                   0      157      238      121       57       28  \n",
       "3                   0      164       18      141       40       51  \n",
       "4                   0       86       11      201      122       18  \n",
       "\n",
       "[5 rows x 53 columns]"
      ]
     },
     "execution_count": 74,
     "metadata": {},
     "output_type": "execute_result"
    }
   ],
   "source": [
    "loldt.head()"
   ]
  },
  {
   "cell_type": "code",
   "execution_count": 384,
   "id": "aa20c6a0-33c1-4ae9-833f-e25f731bbacb",
   "metadata": {
    "tags": []
   },
   "outputs": [],
   "source": [
    "from sklearn.model_selection import train_test_split\n",
    "X_train, X_test, y_train, y_test = train_test_split(X, y, test_size=0.2, random_state=42)"
   ]
  },
  {
   "cell_type": "code",
   "execution_count": 385,
   "id": "2b595888-0601-4782-93f5-68f5d18ed5c7",
   "metadata": {
    "tags": []
   },
   "outputs": [
    {
     "data": {
      "text/plain": [
       "((41192, 52), (10298, 52), (41192,), (10298,))"
      ]
     },
     "execution_count": 385,
     "metadata": {},
     "output_type": "execute_result"
    }
   ],
   "source": [
    "X_train.shape, X_test.shape, y_train.shape, y_test.shape"
   ]
  },
  {
   "cell_type": "code",
   "execution_count": null,
   "id": "ccb6771a-1a06-4e3a-9d34-54a7fa9a791b",
   "metadata": {
    "tags": []
   },
   "outputs": [],
   "source": []
  },
  {
   "cell_type": "code",
   "execution_count": 386,
   "id": "190cb5f4-12af-4bf7-9472-74c5c43d5f71",
   "metadata": {
    "tags": []
   },
   "outputs": [],
   "source": [
    "from tqdm import tqdm"
   ]
  },
  {
   "cell_type": "code",
   "execution_count": 387,
   "id": "b18dd9ea-3fce-4388-8551-c707912f0e40",
   "metadata": {
    "tags": []
   },
   "outputs": [],
   "source": [
    "#On ne voit rien"
   ]
  },
  {
   "cell_type": "code",
   "execution_count": null,
   "id": "68d4dfbf-4d2c-4a03-8565-e84a8db09f67",
   "metadata": {
    "tags": []
   },
   "outputs": [],
   "source": []
  },
  {
   "cell_type": "code",
   "execution_count": null,
   "id": "991f3c76",
   "metadata": {},
   "outputs": [],
   "source": []
  },
  {
   "cell_type": "code",
   "execution_count": 388,
   "id": "9a08e4dc-3bbc-4d79-a279-f0689fbf14ce",
   "metadata": {},
   "outputs": [],
   "source": [
    "#optimisation"
   ]
  },
  {
   "cell_type": "code",
   "execution_count": 389,
   "id": "96f01ff3-fcab-44a8-b03e-35dd83d8726b",
   "metadata": {
    "tags": []
   },
   "outputs": [],
   "source": [
    "from sklearn.pipeline import make_pipeline\n",
    "from sklearn.model_selection import RandomizedSearchCV\n",
    "from sklearn.model_selection import GridSearchCV\n",
    "from sklearn.svm import SVC\n",
    "from sklearn.preprocessing import StandardScaler\n",
    "from sklearn.decomposition import PCA"
   ]
  },
  {
   "cell_type": "code",
   "execution_count": null,
   "id": "624492e7-dedb-400a-8c8b-ff8838bb55db",
   "metadata": {},
   "outputs": [],
   "source": []
  },
  {
   "cell_type": "code",
   "execution_count": null,
   "id": "3001638e",
   "metadata": {},
   "outputs": [],
   "source": []
  },
  {
   "cell_type": "code",
   "execution_count": null,
   "id": "e2106f8f",
   "metadata": {},
   "outputs": [],
   "source": []
  },
  {
   "cell_type": "code",
   "execution_count": null,
   "id": "4d3b7c5f",
   "metadata": {},
   "outputs": [],
   "source": []
  },
  {
   "cell_type": "markdown",
   "id": "c08a23a3",
   "metadata": {},
   "source": [
    "LINEAR : #C10 #PCA40"
   ]
  },
  {
   "cell_type": "code",
   "execution_count": null,
   "id": "22460076",
   "metadata": {},
   "outputs": [],
   "source": []
  },
  {
   "cell_type": "code",
   "execution_count": null,
   "id": "fb2a1518",
   "metadata": {},
   "outputs": [],
   "source": []
  },
  {
   "cell_type": "code",
   "execution_count": null,
   "id": "7f0adda0",
   "metadata": {},
   "outputs": [],
   "source": []
  },
  {
   "cell_type": "code",
   "execution_count": null,
   "id": "fe696ec5",
   "metadata": {},
   "outputs": [],
   "source": []
  },
  {
   "cell_type": "code",
   "execution_count": null,
   "id": "4efb2196",
   "metadata": {},
   "outputs": [],
   "source": []
  },
  {
   "cell_type": "code",
   "execution_count": 390,
   "id": "809066cb",
   "metadata": {},
   "outputs": [],
   "source": [
    "from sklearn.linear_model import LogisticRegression"
   ]
  },
  {
   "cell_type": "code",
   "execution_count": null,
   "id": "f9e26c9d",
   "metadata": {},
   "outputs": [],
   "source": []
  },
  {
   "cell_type": "code",
   "execution_count": null,
   "id": "8d33c9a9",
   "metadata": {},
   "outputs": [],
   "source": []
  },
  {
   "cell_type": "code",
   "execution_count": null,
   "id": "7abfa4fc",
   "metadata": {},
   "outputs": [],
   "source": []
  },
  {
   "cell_type": "code",
   "execution_count": null,
   "id": "9fd83980",
   "metadata": {},
   "outputs": [],
   "source": []
  },
  {
   "cell_type": "code",
   "execution_count": null,
   "id": "b405a1c7",
   "metadata": {},
   "outputs": [],
   "source": []
  },
  {
   "cell_type": "code",
   "execution_count": null,
   "id": "3a61f5c1",
   "metadata": {},
   "outputs": [],
   "source": []
  },
  {
   "cell_type": "code",
   "execution_count": null,
   "id": "771939f5",
   "metadata": {},
   "outputs": [],
   "source": []
  },
  {
   "cell_type": "code",
   "execution_count": null,
   "id": "6ef5fd30",
   "metadata": {},
   "outputs": [],
   "source": []
  },
  {
   "cell_type": "code",
   "execution_count": null,
   "id": "dfe3fc1b",
   "metadata": {},
   "outputs": [],
   "source": []
  },
  {
   "cell_type": "code",
   "execution_count": null,
   "id": "7ecc38cc",
   "metadata": {},
   "outputs": [],
   "source": []
  },
  {
   "cell_type": "code",
   "execution_count": null,
   "id": "e128fba9",
   "metadata": {},
   "outputs": [],
   "source": []
  },
  {
   "cell_type": "code",
   "execution_count": 391,
   "id": "e37d9c0a",
   "metadata": {},
   "outputs": [
    {
     "data": {
      "text/html": [
       "<div>\n",
       "<style scoped>\n",
       "    .dataframe tbody tr th:only-of-type {\n",
       "        vertical-align: middle;\n",
       "    }\n",
       "\n",
       "    .dataframe tbody tr th {\n",
       "        vertical-align: top;\n",
       "    }\n",
       "\n",
       "    .dataframe thead th {\n",
       "        text-align: right;\n",
       "    }\n",
       "</style>\n",
       "<table border=\"1\" class=\"dataframe\">\n",
       "  <thead>\n",
       "    <tr style=\"text-align: right;\">\n",
       "      <th></th>\n",
       "      <th>gameDuration</th>\n",
       "      <th>firstBlood</th>\n",
       "      <th>firstTower</th>\n",
       "      <th>firstBaron</th>\n",
       "      <th>firstDragon</th>\n",
       "      <th>firstRiftHerald</th>\n",
       "      <th>t1_champ1id</th>\n",
       "      <th>t1_champ1_sum1</th>\n",
       "      <th>t1_champ1_sum2</th>\n",
       "      <th>t1_champ2id</th>\n",
       "      <th>...</th>\n",
       "      <th>t2_champ5_sum1</th>\n",
       "      <th>t2_champ5_sum2</th>\n",
       "      <th>t2_baronKills</th>\n",
       "      <th>t2_dragonKills</th>\n",
       "      <th>t2_riftHeraldKills</th>\n",
       "      <th>t2_ban1</th>\n",
       "      <th>t2_ban2</th>\n",
       "      <th>t2_ban3</th>\n",
       "      <th>t2_ban4</th>\n",
       "      <th>t2_ban5</th>\n",
       "    </tr>\n",
       "  </thead>\n",
       "  <tbody>\n",
       "    <tr>\n",
       "      <th>17204</th>\n",
       "      <td>2688</td>\n",
       "      <td>2</td>\n",
       "      <td>2</td>\n",
       "      <td>2</td>\n",
       "      <td>1</td>\n",
       "      <td>0</td>\n",
       "      <td>111</td>\n",
       "      <td>11</td>\n",
       "      <td>4</td>\n",
       "      <td>101</td>\n",
       "      <td>...</td>\n",
       "      <td>4</td>\n",
       "      <td>3</td>\n",
       "      <td>1</td>\n",
       "      <td>3</td>\n",
       "      <td>0</td>\n",
       "      <td>122</td>\n",
       "      <td>31</td>\n",
       "      <td>141</td>\n",
       "      <td>119</td>\n",
       "      <td>105</td>\n",
       "    </tr>\n",
       "    <tr>\n",
       "      <th>10157</th>\n",
       "      <td>1336</td>\n",
       "      <td>2</td>\n",
       "      <td>2</td>\n",
       "      <td>0</td>\n",
       "      <td>2</td>\n",
       "      <td>2</td>\n",
       "      <td>61</td>\n",
       "      <td>4</td>\n",
       "      <td>21</td>\n",
       "      <td>119</td>\n",
       "      <td>...</td>\n",
       "      <td>4</td>\n",
       "      <td>12</td>\n",
       "      <td>0</td>\n",
       "      <td>2</td>\n",
       "      <td>1</td>\n",
       "      <td>19</td>\n",
       "      <td>18</td>\n",
       "      <td>40</td>\n",
       "      <td>157</td>\n",
       "      <td>31</td>\n",
       "    </tr>\n",
       "    <tr>\n",
       "      <th>36198</th>\n",
       "      <td>926</td>\n",
       "      <td>2</td>\n",
       "      <td>1</td>\n",
       "      <td>0</td>\n",
       "      <td>1</td>\n",
       "      <td>0</td>\n",
       "      <td>22</td>\n",
       "      <td>7</td>\n",
       "      <td>4</td>\n",
       "      <td>64</td>\n",
       "      <td>...</td>\n",
       "      <td>4</td>\n",
       "      <td>12</td>\n",
       "      <td>0</td>\n",
       "      <td>0</td>\n",
       "      <td>0</td>\n",
       "      <td>-1</td>\n",
       "      <td>238</td>\n",
       "      <td>122</td>\n",
       "      <td>57</td>\n",
       "      <td>498</td>\n",
       "    </tr>\n",
       "    <tr>\n",
       "      <th>35306</th>\n",
       "      <td>2330</td>\n",
       "      <td>1</td>\n",
       "      <td>2</td>\n",
       "      <td>2</td>\n",
       "      <td>2</td>\n",
       "      <td>2</td>\n",
       "      <td>89</td>\n",
       "      <td>4</td>\n",
       "      <td>3</td>\n",
       "      <td>67</td>\n",
       "      <td>...</td>\n",
       "      <td>7</td>\n",
       "      <td>4</td>\n",
       "      <td>2</td>\n",
       "      <td>4</td>\n",
       "      <td>1</td>\n",
       "      <td>16</td>\n",
       "      <td>57</td>\n",
       "      <td>113</td>\n",
       "      <td>40</td>\n",
       "      <td>29</td>\n",
       "    </tr>\n",
       "    <tr>\n",
       "      <th>36319</th>\n",
       "      <td>2593</td>\n",
       "      <td>1</td>\n",
       "      <td>1</td>\n",
       "      <td>2</td>\n",
       "      <td>2</td>\n",
       "      <td>2</td>\n",
       "      <td>202</td>\n",
       "      <td>4</td>\n",
       "      <td>7</td>\n",
       "      <td>245</td>\n",
       "      <td>...</td>\n",
       "      <td>4</td>\n",
       "      <td>12</td>\n",
       "      <td>1</td>\n",
       "      <td>3</td>\n",
       "      <td>1</td>\n",
       "      <td>6</td>\n",
       "      <td>131</td>\n",
       "      <td>141</td>\n",
       "      <td>157</td>\n",
       "      <td>119</td>\n",
       "    </tr>\n",
       "    <tr>\n",
       "      <th>...</th>\n",
       "      <td>...</td>\n",
       "      <td>...</td>\n",
       "      <td>...</td>\n",
       "      <td>...</td>\n",
       "      <td>...</td>\n",
       "      <td>...</td>\n",
       "      <td>...</td>\n",
       "      <td>...</td>\n",
       "      <td>...</td>\n",
       "      <td>...</td>\n",
       "      <td>...</td>\n",
       "      <td>...</td>\n",
       "      <td>...</td>\n",
       "      <td>...</td>\n",
       "      <td>...</td>\n",
       "      <td>...</td>\n",
       "      <td>...</td>\n",
       "      <td>...</td>\n",
       "      <td>...</td>\n",
       "      <td>...</td>\n",
       "      <td>...</td>\n",
       "    </tr>\n",
       "    <tr>\n",
       "      <th>11284</th>\n",
       "      <td>1326</td>\n",
       "      <td>1</td>\n",
       "      <td>1</td>\n",
       "      <td>1</td>\n",
       "      <td>1</td>\n",
       "      <td>1</td>\n",
       "      <td>20</td>\n",
       "      <td>4</td>\n",
       "      <td>11</td>\n",
       "      <td>126</td>\n",
       "      <td>...</td>\n",
       "      <td>7</td>\n",
       "      <td>4</td>\n",
       "      <td>0</td>\n",
       "      <td>0</td>\n",
       "      <td>0</td>\n",
       "      <td>8</td>\n",
       "      <td>60</td>\n",
       "      <td>154</td>\n",
       "      <td>117</td>\n",
       "      <td>28</td>\n",
       "    </tr>\n",
       "    <tr>\n",
       "      <th>44732</th>\n",
       "      <td>2332</td>\n",
       "      <td>1</td>\n",
       "      <td>1</td>\n",
       "      <td>1</td>\n",
       "      <td>2</td>\n",
       "      <td>1</td>\n",
       "      <td>3</td>\n",
       "      <td>21</td>\n",
       "      <td>4</td>\n",
       "      <td>110</td>\n",
       "      <td>...</td>\n",
       "      <td>12</td>\n",
       "      <td>14</td>\n",
       "      <td>0</td>\n",
       "      <td>3</td>\n",
       "      <td>0</td>\n",
       "      <td>120</td>\n",
       "      <td>28</td>\n",
       "      <td>31</td>\n",
       "      <td>516</td>\n",
       "      <td>4</td>\n",
       "    </tr>\n",
       "    <tr>\n",
       "      <th>38158</th>\n",
       "      <td>2488</td>\n",
       "      <td>2</td>\n",
       "      <td>1</td>\n",
       "      <td>1</td>\n",
       "      <td>2</td>\n",
       "      <td>1</td>\n",
       "      <td>268</td>\n",
       "      <td>14</td>\n",
       "      <td>4</td>\n",
       "      <td>150</td>\n",
       "      <td>...</td>\n",
       "      <td>12</td>\n",
       "      <td>4</td>\n",
       "      <td>0</td>\n",
       "      <td>3</td>\n",
       "      <td>0</td>\n",
       "      <td>18</td>\n",
       "      <td>117</td>\n",
       "      <td>122</td>\n",
       "      <td>96</td>\n",
       "      <td>29</td>\n",
       "    </tr>\n",
       "    <tr>\n",
       "      <th>860</th>\n",
       "      <td>1726</td>\n",
       "      <td>2</td>\n",
       "      <td>2</td>\n",
       "      <td>1</td>\n",
       "      <td>1</td>\n",
       "      <td>0</td>\n",
       "      <td>113</td>\n",
       "      <td>11</td>\n",
       "      <td>4</td>\n",
       "      <td>429</td>\n",
       "      <td>...</td>\n",
       "      <td>4</td>\n",
       "      <td>7</td>\n",
       "      <td>0</td>\n",
       "      <td>0</td>\n",
       "      <td>0</td>\n",
       "      <td>141</td>\n",
       "      <td>238</td>\n",
       "      <td>16</td>\n",
       "      <td>18</td>\n",
       "      <td>53</td>\n",
       "    </tr>\n",
       "    <tr>\n",
       "      <th>15795</th>\n",
       "      <td>2412</td>\n",
       "      <td>1</td>\n",
       "      <td>2</td>\n",
       "      <td>2</td>\n",
       "      <td>1</td>\n",
       "      <td>0</td>\n",
       "      <td>113</td>\n",
       "      <td>4</td>\n",
       "      <td>11</td>\n",
       "      <td>37</td>\n",
       "      <td>...</td>\n",
       "      <td>4</td>\n",
       "      <td>14</td>\n",
       "      <td>1</td>\n",
       "      <td>2</td>\n",
       "      <td>0</td>\n",
       "      <td>55</td>\n",
       "      <td>141</td>\n",
       "      <td>238</td>\n",
       "      <td>31</td>\n",
       "      <td>40</td>\n",
       "    </tr>\n",
       "  </tbody>\n",
       "</table>\n",
       "<p>41192 rows × 52 columns</p>\n",
       "</div>"
      ],
      "text/plain": [
       "       gameDuration  firstBlood  firstTower  firstBaron  firstDragon  \\\n",
       "17204          2688           2           2           2            1   \n",
       "10157          1336           2           2           0            2   \n",
       "36198           926           2           1           0            1   \n",
       "35306          2330           1           2           2            2   \n",
       "36319          2593           1           1           2            2   \n",
       "...             ...         ...         ...         ...          ...   \n",
       "11284          1326           1           1           1            1   \n",
       "44732          2332           1           1           1            2   \n",
       "38158          2488           2           1           1            2   \n",
       "860            1726           2           2           1            1   \n",
       "15795          2412           1           2           2            1   \n",
       "\n",
       "       firstRiftHerald  t1_champ1id  t1_champ1_sum1  t1_champ1_sum2  \\\n",
       "17204                0          111              11               4   \n",
       "10157                2           61               4              21   \n",
       "36198                0           22               7               4   \n",
       "35306                2           89               4               3   \n",
       "36319                2          202               4               7   \n",
       "...                ...          ...             ...             ...   \n",
       "11284                1           20               4              11   \n",
       "44732                1            3              21               4   \n",
       "38158                1          268              14               4   \n",
       "860                  0          113              11               4   \n",
       "15795                0          113               4              11   \n",
       "\n",
       "       t1_champ2id  ...  t2_champ5_sum1  t2_champ5_sum2  t2_baronKills  \\\n",
       "17204          101  ...               4               3              1   \n",
       "10157          119  ...               4              12              0   \n",
       "36198           64  ...               4              12              0   \n",
       "35306           67  ...               7               4              2   \n",
       "36319          245  ...               4              12              1   \n",
       "...            ...  ...             ...             ...            ...   \n",
       "11284          126  ...               7               4              0   \n",
       "44732          110  ...              12              14              0   \n",
       "38158          150  ...              12               4              0   \n",
       "860            429  ...               4               7              0   \n",
       "15795           37  ...               4              14              1   \n",
       "\n",
       "       t2_dragonKills  t2_riftHeraldKills  t2_ban1  t2_ban2  t2_ban3  t2_ban4  \\\n",
       "17204               3                   0      122       31      141      119   \n",
       "10157               2                   1       19       18       40      157   \n",
       "36198               0                   0       -1      238      122       57   \n",
       "35306               4                   1       16       57      113       40   \n",
       "36319               3                   1        6      131      141      157   \n",
       "...               ...                 ...      ...      ...      ...      ...   \n",
       "11284               0                   0        8       60      154      117   \n",
       "44732               3                   0      120       28       31      516   \n",
       "38158               3                   0       18      117      122       96   \n",
       "860                 0                   0      141      238       16       18   \n",
       "15795               2                   0       55      141      238       31   \n",
       "\n",
       "       t2_ban5  \n",
       "17204      105  \n",
       "10157       31  \n",
       "36198      498  \n",
       "35306       29  \n",
       "36319      119  \n",
       "...        ...  \n",
       "11284       28  \n",
       "44732        4  \n",
       "38158       29  \n",
       "860         53  \n",
       "15795       40  \n",
       "\n",
       "[41192 rows x 52 columns]"
      ]
     },
     "execution_count": 391,
     "metadata": {},
     "output_type": "execute_result"
    }
   ],
   "source": [
    "X_train"
   ]
  },
  {
   "cell_type": "code",
   "execution_count": 392,
   "id": "53a60d04",
   "metadata": {},
   "outputs": [],
   "source": [
    "from sklearn.ensemble import IsolationForest\n",
    "\n",
    "iso = IsolationForest(contamination=0.03)"
   ]
  },
  {
   "cell_type": "code",
   "execution_count": 393,
   "id": "bc09a551",
   "metadata": {},
   "outputs": [
    {
     "name": "stderr",
     "output_type": "stream",
     "text": [
      "C:\\ProgramData\\anaconda3\\lib\\site-packages\\sklearn\\base.py:420: UserWarning: X does not have valid feature names, but IsolationForest was fitted with feature names\n",
      "  warnings.warn(\n"
     ]
    },
    {
     "data": {
      "text/html": [
       "<style>#sk-container-id-67 {color: black;background-color: white;}#sk-container-id-67 pre{padding: 0;}#sk-container-id-67 div.sk-toggleable {background-color: white;}#sk-container-id-67 label.sk-toggleable__label {cursor: pointer;display: block;width: 100%;margin-bottom: 0;padding: 0.3em;box-sizing: border-box;text-align: center;}#sk-container-id-67 label.sk-toggleable__label-arrow:before {content: \"▸\";float: left;margin-right: 0.25em;color: #696969;}#sk-container-id-67 label.sk-toggleable__label-arrow:hover:before {color: black;}#sk-container-id-67 div.sk-estimator:hover label.sk-toggleable__label-arrow:before {color: black;}#sk-container-id-67 div.sk-toggleable__content {max-height: 0;max-width: 0;overflow: hidden;text-align: left;background-color: #f0f8ff;}#sk-container-id-67 div.sk-toggleable__content pre {margin: 0.2em;color: black;border-radius: 0.25em;background-color: #f0f8ff;}#sk-container-id-67 input.sk-toggleable__control:checked~div.sk-toggleable__content {max-height: 200px;max-width: 100%;overflow: auto;}#sk-container-id-67 input.sk-toggleable__control:checked~label.sk-toggleable__label-arrow:before {content: \"▾\";}#sk-container-id-67 div.sk-estimator input.sk-toggleable__control:checked~label.sk-toggleable__label {background-color: #d4ebff;}#sk-container-id-67 div.sk-label input.sk-toggleable__control:checked~label.sk-toggleable__label {background-color: #d4ebff;}#sk-container-id-67 input.sk-hidden--visually {border: 0;clip: rect(1px 1px 1px 1px);clip: rect(1px, 1px, 1px, 1px);height: 1px;margin: -1px;overflow: hidden;padding: 0;position: absolute;width: 1px;}#sk-container-id-67 div.sk-estimator {font-family: monospace;background-color: #f0f8ff;border: 1px dotted black;border-radius: 0.25em;box-sizing: border-box;margin-bottom: 0.5em;}#sk-container-id-67 div.sk-estimator:hover {background-color: #d4ebff;}#sk-container-id-67 div.sk-parallel-item::after {content: \"\";width: 100%;border-bottom: 1px solid gray;flex-grow: 1;}#sk-container-id-67 div.sk-label:hover label.sk-toggleable__label {background-color: #d4ebff;}#sk-container-id-67 div.sk-serial::before {content: \"\";position: absolute;border-left: 1px solid gray;box-sizing: border-box;top: 0;bottom: 0;left: 50%;z-index: 0;}#sk-container-id-67 div.sk-serial {display: flex;flex-direction: column;align-items: center;background-color: white;padding-right: 0.2em;padding-left: 0.2em;position: relative;}#sk-container-id-67 div.sk-item {position: relative;z-index: 1;}#sk-container-id-67 div.sk-parallel {display: flex;align-items: stretch;justify-content: center;background-color: white;position: relative;}#sk-container-id-67 div.sk-item::before, #sk-container-id-67 div.sk-parallel-item::before {content: \"\";position: absolute;border-left: 1px solid gray;box-sizing: border-box;top: 0;bottom: 0;left: 50%;z-index: -1;}#sk-container-id-67 div.sk-parallel-item {display: flex;flex-direction: column;z-index: 1;position: relative;background-color: white;}#sk-container-id-67 div.sk-parallel-item:first-child::after {align-self: flex-end;width: 50%;}#sk-container-id-67 div.sk-parallel-item:last-child::after {align-self: flex-start;width: 50%;}#sk-container-id-67 div.sk-parallel-item:only-child::after {width: 0;}#sk-container-id-67 div.sk-dashed-wrapped {border: 1px dashed gray;margin: 0 0.4em 0.5em 0.4em;box-sizing: border-box;padding-bottom: 0.4em;background-color: white;}#sk-container-id-67 div.sk-label label {font-family: monospace;font-weight: bold;display: inline-block;line-height: 1.2em;}#sk-container-id-67 div.sk-label-container {text-align: center;}#sk-container-id-67 div.sk-container {/* jupyter's `normalize.less` sets `[hidden] { display: none; }` but bootstrap.min.css set `[hidden] { display: none !important; }` so we also need the `!important` here to be able to override the default hidden behavior on the sphinx rendered scikit-learn.org. See: https://github.com/scikit-learn/scikit-learn/issues/21755 */display: inline-block !important;position: relative;}#sk-container-id-67 div.sk-text-repr-fallback {display: none;}</style><div id=\"sk-container-id-67\" class=\"sk-top-container\"><div class=\"sk-text-repr-fallback\"><pre>IsolationForest(contamination=0.03)</pre><b>In a Jupyter environment, please rerun this cell to show the HTML representation or trust the notebook. <br />On GitHub, the HTML representation is unable to render, please try loading this page with nbviewer.org.</b></div><div class=\"sk-container\" hidden><div class=\"sk-item\"><div class=\"sk-estimator sk-toggleable\"><input class=\"sk-toggleable__control sk-hidden--visually\" id=\"sk-estimator-id-187\" type=\"checkbox\" checked><label for=\"sk-estimator-id-187\" class=\"sk-toggleable__label sk-toggleable__label-arrow\">IsolationForest</label><div class=\"sk-toggleable__content\"><pre>IsolationForest(contamination=0.03)</pre></div></div></div></div></div>"
      ],
      "text/plain": [
       "IsolationForest(contamination=0.03)"
      ]
     },
     "execution_count": 393,
     "metadata": {},
     "output_type": "execute_result"
    }
   ],
   "source": [
    "iso.fit(X_train)"
   ]
  },
  {
   "cell_type": "code",
   "execution_count": 394,
   "id": "0de8c2b3",
   "metadata": {},
   "outputs": [
    {
     "data": {
      "text/html": [
       "<div>\n",
       "<style scoped>\n",
       "    .dataframe tbody tr th:only-of-type {\n",
       "        vertical-align: middle;\n",
       "    }\n",
       "\n",
       "    .dataframe tbody tr th {\n",
       "        vertical-align: top;\n",
       "    }\n",
       "\n",
       "    .dataframe thead th {\n",
       "        text-align: right;\n",
       "    }\n",
       "</style>\n",
       "<table border=\"1\" class=\"dataframe\">\n",
       "  <thead>\n",
       "    <tr style=\"text-align: right;\">\n",
       "      <th></th>\n",
       "      <th>gameDuration</th>\n",
       "      <th>firstBlood</th>\n",
       "      <th>firstTower</th>\n",
       "      <th>firstBaron</th>\n",
       "      <th>firstDragon</th>\n",
       "      <th>firstRiftHerald</th>\n",
       "      <th>t1_champ1id</th>\n",
       "      <th>t1_champ1_sum1</th>\n",
       "      <th>t1_champ1_sum2</th>\n",
       "      <th>t1_champ2id</th>\n",
       "      <th>...</th>\n",
       "      <th>t2_champ5_sum1</th>\n",
       "      <th>t2_champ5_sum2</th>\n",
       "      <th>t2_baronKills</th>\n",
       "      <th>t2_dragonKills</th>\n",
       "      <th>t2_riftHeraldKills</th>\n",
       "      <th>t2_ban1</th>\n",
       "      <th>t2_ban2</th>\n",
       "      <th>t2_ban3</th>\n",
       "      <th>t2_ban4</th>\n",
       "      <th>t2_ban5</th>\n",
       "    </tr>\n",
       "  </thead>\n",
       "  <tbody>\n",
       "    <tr>\n",
       "      <th>426</th>\n",
       "      <td>1791</td>\n",
       "      <td>2</td>\n",
       "      <td>2</td>\n",
       "      <td>1</td>\n",
       "      <td>1</td>\n",
       "      <td>1</td>\n",
       "      <td>16</td>\n",
       "      <td>4</td>\n",
       "      <td>3</td>\n",
       "      <td>121</td>\n",
       "      <td>...</td>\n",
       "      <td>14</td>\n",
       "      <td>4</td>\n",
       "      <td>0</td>\n",
       "      <td>0</td>\n",
       "      <td>0</td>\n",
       "      <td>113</td>\n",
       "      <td>498</td>\n",
       "      <td>119</td>\n",
       "      <td>114</td>\n",
       "      <td>59</td>\n",
       "    </tr>\n",
       "    <tr>\n",
       "      <th>32739</th>\n",
       "      <td>2257</td>\n",
       "      <td>2</td>\n",
       "      <td>1</td>\n",
       "      <td>0</td>\n",
       "      <td>2</td>\n",
       "      <td>0</td>\n",
       "      <td>25</td>\n",
       "      <td>14</td>\n",
       "      <td>4</td>\n",
       "      <td>516</td>\n",
       "      <td>...</td>\n",
       "      <td>14</td>\n",
       "      <td>4</td>\n",
       "      <td>0</td>\n",
       "      <td>2</td>\n",
       "      <td>0</td>\n",
       "      <td>60</td>\n",
       "      <td>432</td>\n",
       "      <td>117</td>\n",
       "      <td>89</td>\n",
       "      <td>238</td>\n",
       "    </tr>\n",
       "    <tr>\n",
       "      <th>25044</th>\n",
       "      <td>2010</td>\n",
       "      <td>1</td>\n",
       "      <td>2</td>\n",
       "      <td>0</td>\n",
       "      <td>2</td>\n",
       "      <td>0</td>\n",
       "      <td>497</td>\n",
       "      <td>4</td>\n",
       "      <td>3</td>\n",
       "      <td>8</td>\n",
       "      <td>...</td>\n",
       "      <td>7</td>\n",
       "      <td>4</td>\n",
       "      <td>0</td>\n",
       "      <td>1</td>\n",
       "      <td>0</td>\n",
       "      <td>238</td>\n",
       "      <td>-1</td>\n",
       "      <td>122</td>\n",
       "      <td>53</td>\n",
       "      <td>23</td>\n",
       "    </tr>\n",
       "    <tr>\n",
       "      <th>19602</th>\n",
       "      <td>1897</td>\n",
       "      <td>2</td>\n",
       "      <td>2</td>\n",
       "      <td>2</td>\n",
       "      <td>2</td>\n",
       "      <td>2</td>\n",
       "      <td>497</td>\n",
       "      <td>4</td>\n",
       "      <td>3</td>\n",
       "      <td>163</td>\n",
       "      <td>...</td>\n",
       "      <td>4</td>\n",
       "      <td>21</td>\n",
       "      <td>2</td>\n",
       "      <td>2</td>\n",
       "      <td>1</td>\n",
       "      <td>154</td>\n",
       "      <td>40</td>\n",
       "      <td>157</td>\n",
       "      <td>19</td>\n",
       "      <td>114</td>\n",
       "    </tr>\n",
       "    <tr>\n",
       "      <th>38575</th>\n",
       "      <td>217</td>\n",
       "      <td>0</td>\n",
       "      <td>0</td>\n",
       "      <td>0</td>\n",
       "      <td>0</td>\n",
       "      <td>0</td>\n",
       "      <td>17</td>\n",
       "      <td>7</td>\n",
       "      <td>4</td>\n",
       "      <td>121</td>\n",
       "      <td>...</td>\n",
       "      <td>7</td>\n",
       "      <td>4</td>\n",
       "      <td>0</td>\n",
       "      <td>0</td>\n",
       "      <td>0</td>\n",
       "      <td>89</td>\n",
       "      <td>157</td>\n",
       "      <td>7</td>\n",
       "      <td>122</td>\n",
       "      <td>53</td>\n",
       "    </tr>\n",
       "    <tr>\n",
       "      <th>...</th>\n",
       "      <td>...</td>\n",
       "      <td>...</td>\n",
       "      <td>...</td>\n",
       "      <td>...</td>\n",
       "      <td>...</td>\n",
       "      <td>...</td>\n",
       "      <td>...</td>\n",
       "      <td>...</td>\n",
       "      <td>...</td>\n",
       "      <td>...</td>\n",
       "      <td>...</td>\n",
       "      <td>...</td>\n",
       "      <td>...</td>\n",
       "      <td>...</td>\n",
       "      <td>...</td>\n",
       "      <td>...</td>\n",
       "      <td>...</td>\n",
       "      <td>...</td>\n",
       "      <td>...</td>\n",
       "      <td>...</td>\n",
       "      <td>...</td>\n",
       "    </tr>\n",
       "    <tr>\n",
       "      <th>12874</th>\n",
       "      <td>3055</td>\n",
       "      <td>1</td>\n",
       "      <td>2</td>\n",
       "      <td>2</td>\n",
       "      <td>1</td>\n",
       "      <td>1</td>\n",
       "      <td>44</td>\n",
       "      <td>4</td>\n",
       "      <td>3</td>\n",
       "      <td>78</td>\n",
       "      <td>...</td>\n",
       "      <td>7</td>\n",
       "      <td>4</td>\n",
       "      <td>3</td>\n",
       "      <td>4</td>\n",
       "      <td>0</td>\n",
       "      <td>18</td>\n",
       "      <td>40</td>\n",
       "      <td>117</td>\n",
       "      <td>7</td>\n",
       "      <td>113</td>\n",
       "    </tr>\n",
       "    <tr>\n",
       "      <th>15087</th>\n",
       "      <td>3099</td>\n",
       "      <td>2</td>\n",
       "      <td>2</td>\n",
       "      <td>2</td>\n",
       "      <td>2</td>\n",
       "      <td>1</td>\n",
       "      <td>412</td>\n",
       "      <td>4</td>\n",
       "      <td>11</td>\n",
       "      <td>1</td>\n",
       "      <td>...</td>\n",
       "      <td>4</td>\n",
       "      <td>12</td>\n",
       "      <td>2</td>\n",
       "      <td>2</td>\n",
       "      <td>0</td>\n",
       "      <td>63</td>\n",
       "      <td>122</td>\n",
       "      <td>105</td>\n",
       "      <td>31</td>\n",
       "      <td>157</td>\n",
       "    </tr>\n",
       "    <tr>\n",
       "      <th>40772</th>\n",
       "      <td>1613</td>\n",
       "      <td>1</td>\n",
       "      <td>2</td>\n",
       "      <td>2</td>\n",
       "      <td>2</td>\n",
       "      <td>2</td>\n",
       "      <td>412</td>\n",
       "      <td>3</td>\n",
       "      <td>4</td>\n",
       "      <td>134</td>\n",
       "      <td>...</td>\n",
       "      <td>4</td>\n",
       "      <td>3</td>\n",
       "      <td>1</td>\n",
       "      <td>1</td>\n",
       "      <td>1</td>\n",
       "      <td>498</td>\n",
       "      <td>122</td>\n",
       "      <td>11</td>\n",
       "      <td>105</td>\n",
       "      <td>24</td>\n",
       "    </tr>\n",
       "    <tr>\n",
       "      <th>32562</th>\n",
       "      <td>2171</td>\n",
       "      <td>2</td>\n",
       "      <td>2</td>\n",
       "      <td>2</td>\n",
       "      <td>1</td>\n",
       "      <td>0</td>\n",
       "      <td>92</td>\n",
       "      <td>12</td>\n",
       "      <td>4</td>\n",
       "      <td>61</td>\n",
       "      <td>...</td>\n",
       "      <td>4</td>\n",
       "      <td>21</td>\n",
       "      <td>2</td>\n",
       "      <td>4</td>\n",
       "      <td>0</td>\n",
       "      <td>157</td>\n",
       "      <td>122</td>\n",
       "      <td>134</td>\n",
       "      <td>117</td>\n",
       "      <td>53</td>\n",
       "    </tr>\n",
       "    <tr>\n",
       "      <th>39188</th>\n",
       "      <td>1597</td>\n",
       "      <td>2</td>\n",
       "      <td>2</td>\n",
       "      <td>2</td>\n",
       "      <td>1</td>\n",
       "      <td>2</td>\n",
       "      <td>497</td>\n",
       "      <td>4</td>\n",
       "      <td>14</td>\n",
       "      <td>498</td>\n",
       "      <td>...</td>\n",
       "      <td>21</td>\n",
       "      <td>4</td>\n",
       "      <td>1</td>\n",
       "      <td>1</td>\n",
       "      <td>1</td>\n",
       "      <td>119</td>\n",
       "      <td>141</td>\n",
       "      <td>31</td>\n",
       "      <td>117</td>\n",
       "      <td>64</td>\n",
       "    </tr>\n",
       "  </tbody>\n",
       "</table>\n",
       "<p>1236 rows × 52 columns</p>\n",
       "</div>"
      ],
      "text/plain": [
       "       gameDuration  firstBlood  firstTower  firstBaron  firstDragon  \\\n",
       "426            1791           2           2           1            1   \n",
       "32739          2257           2           1           0            2   \n",
       "25044          2010           1           2           0            2   \n",
       "19602          1897           2           2           2            2   \n",
       "38575           217           0           0           0            0   \n",
       "...             ...         ...         ...         ...          ...   \n",
       "12874          3055           1           2           2            1   \n",
       "15087          3099           2           2           2            2   \n",
       "40772          1613           1           2           2            2   \n",
       "32562          2171           2           2           2            1   \n",
       "39188          1597           2           2           2            1   \n",
       "\n",
       "       firstRiftHerald  t1_champ1id  t1_champ1_sum1  t1_champ1_sum2  \\\n",
       "426                  1           16               4               3   \n",
       "32739                0           25              14               4   \n",
       "25044                0          497               4               3   \n",
       "19602                2          497               4               3   \n",
       "38575                0           17               7               4   \n",
       "...                ...          ...             ...             ...   \n",
       "12874                1           44               4               3   \n",
       "15087                1          412               4              11   \n",
       "40772                2          412               3               4   \n",
       "32562                0           92              12               4   \n",
       "39188                2          497               4              14   \n",
       "\n",
       "       t1_champ2id  ...  t2_champ5_sum1  t2_champ5_sum2  t2_baronKills  \\\n",
       "426            121  ...              14               4              0   \n",
       "32739          516  ...              14               4              0   \n",
       "25044            8  ...               7               4              0   \n",
       "19602          163  ...               4              21              2   \n",
       "38575          121  ...               7               4              0   \n",
       "...            ...  ...             ...             ...            ...   \n",
       "12874           78  ...               7               4              3   \n",
       "15087            1  ...               4              12              2   \n",
       "40772          134  ...               4               3              1   \n",
       "32562           61  ...               4              21              2   \n",
       "39188          498  ...              21               4              1   \n",
       "\n",
       "       t2_dragonKills  t2_riftHeraldKills  t2_ban1  t2_ban2  t2_ban3  t2_ban4  \\\n",
       "426                 0                   0      113      498      119      114   \n",
       "32739               2                   0       60      432      117       89   \n",
       "25044               1                   0      238       -1      122       53   \n",
       "19602               2                   1      154       40      157       19   \n",
       "38575               0                   0       89      157        7      122   \n",
       "...               ...                 ...      ...      ...      ...      ...   \n",
       "12874               4                   0       18       40      117        7   \n",
       "15087               2                   0       63      122      105       31   \n",
       "40772               1                   1      498      122       11      105   \n",
       "32562               4                   0      157      122      134      117   \n",
       "39188               1                   1      119      141       31      117   \n",
       "\n",
       "       t2_ban5  \n",
       "426         59  \n",
       "32739      238  \n",
       "25044       23  \n",
       "19602      114  \n",
       "38575       53  \n",
       "...        ...  \n",
       "12874      113  \n",
       "15087      157  \n",
       "40772       24  \n",
       "32562       53  \n",
       "39188       64  \n",
       "\n",
       "[1236 rows x 52 columns]"
      ]
     },
     "execution_count": 394,
     "metadata": {},
     "output_type": "execute_result"
    }
   ],
   "source": [
    "outliers = iso.predict(X_train) == -1 \n",
    "X_train[outliers]"
   ]
  },
  {
   "cell_type": "code",
   "execution_count": 395,
   "id": "e5b834e8",
   "metadata": {},
   "outputs": [
    {
     "data": {
      "text/plain": [
       "((39956, 52), (39956,))"
      ]
     },
     "execution_count": 395,
     "metadata": {},
     "output_type": "execute_result"
    }
   ],
   "source": [
    "X_train = X_train[~outliers]\n",
    "y_train = y_train[~outliers]\n",
    "X_train.shape, y_train.shape"
   ]
  },
  {
   "cell_type": "code",
   "execution_count": 396,
   "id": "ed071048",
   "metadata": {},
   "outputs": [],
   "source": [
    "from sklearn.preprocessing import StandardScaler\n",
    "scaler = StandardScaler()\n",
    "\n",
    "X_train_scaled = scaler.fit_transform(X_train)\n",
    "X_test_scaled = scaler.transform(X_test)"
   ]
  },
  {
   "cell_type": "code",
   "execution_count": 397,
   "id": "a9fbc7dc",
   "metadata": {},
   "outputs": [],
   "source": [
    "from sklearn.tree import DecisionTreeClassifier"
   ]
  },
  {
   "cell_type": "code",
   "execution_count": 173,
   "id": "d1ee447a",
   "metadata": {},
   "outputs": [
    {
     "name": "stderr",
     "output_type": "stream",
     "text": [
      "100%|████████████████████████████████████████████████████████████████████████████████████| 7/7 [00:47<00:00,  6.75s/it]\n"
     ]
    }
   ],
   "source": [
    "from sklearn.model_selection import cross_validate\n",
    "\n",
    "depths = [1, 10, 15, 35, 50, 75, 100]\n",
    "tree_train = []\n",
    "tree_test = []\n",
    "all_tree_train = {n:[] for n in depths}\n",
    "all_tree_test = {n:[] for n in depths}\n",
    "\n",
    "for n in tqdm(depths) :\n",
    "        cv_tree = cross_validate(DecisionTreeClassifier(max_depth = n, random_state=42),X_train, y_train, cv = 5, return_train_score = True)\n",
    "        tree_train.append(cv_tree['train_score'].mean())\n",
    "        tree_test.append(cv_tree['test_score'].mean())\n",
    "        \n",
    "        all_tree_train[n] = cv_tree['train_score']\n",
    "        all_tree_test[n] = cv_tree['test_score']"
   ]
  },
  {
   "cell_type": "code",
   "execution_count": 174,
   "id": "2a5ddd98",
   "metadata": {},
   "outputs": [
    {
     "data": {
      "text/plain": [
       "([0.7341959635265287,\n",
       "  0.9059526149731857,\n",
       "  0.973817730229699,\n",
       "  1.0,\n",
       "  1.0,\n",
       "  1.0,\n",
       "  1.0],\n",
       " [0.7341960107130856,\n",
       "  0.8414984558928852,\n",
       "  0.8159594814317742,\n",
       "  0.801514917253698,\n",
       "  0.801514917253698,\n",
       "  0.801514917253698,\n",
       "  0.801514917253698])"
      ]
     },
     "execution_count": 174,
     "metadata": {},
     "output_type": "execute_result"
    }
   ],
   "source": [
    "tree_train, tree_test"
   ]
  },
  {
   "cell_type": "code",
   "execution_count": 175,
   "id": "72318b78",
   "metadata": {},
   "outputs": [
    {
     "data": {
      "text/plain": [
       "({1: array([0.73498619, 0.73392407, 0.73435698, 0.73362869, 0.73408387]),\n",
       "  10: array([0.90601766, 0.90635147, 0.90623293, 0.90456394, 0.90659707]),\n",
       "  15: array([0.97517677, 0.97223318, 0.97408509, 0.97378164, 0.97381198]),\n",
       "  35: array([1., 1., 1., 1., 1.]),\n",
       "  50: array([1., 1., 1., 1., 1.]),\n",
       "  75: array([1., 1., 1., 1., 1.]),\n",
       "  100: array([1., 1., 1., 1., 1.])},\n",
       " {1: array([0.73103532, 0.73528341, 0.73355183, 0.73646516, 0.73464433]),\n",
       "  10: array([0.83954363, 0.83905814, 0.84365137, 0.8412236 , 0.84401554]),\n",
       "  15: array([0.81235587, 0.81660396, 0.81815975, 0.81342559, 0.81925225]),\n",
       "  35: array([0.79912611, 0.80143221, 0.80298616, 0.79800923, 0.80602088]),\n",
       "  50: array([0.79912611, 0.80143221, 0.80298616, 0.79800923, 0.80602088]),\n",
       "  75: array([0.79912611, 0.80143221, 0.80298616, 0.79800923, 0.80602088]),\n",
       "  100: array([0.79912611, 0.80143221, 0.80298616, 0.79800923, 0.80602088])})"
      ]
     },
     "execution_count": 175,
     "metadata": {},
     "output_type": "execute_result"
    }
   ],
   "source": [
    "all_tree_train, all_tree_test"
   ]
  },
  {
   "cell_type": "code",
   "execution_count": 176,
   "id": "c6bf084d",
   "metadata": {},
   "outputs": [
    {
     "name": "stdout",
     "output_type": "stream",
     "text": [
      "0.7310353198203665\n",
      "0.8390581381235587\n",
      "0.8123558684306348\n",
      "0.7980092255401796\n",
      "0.7980092255401796\n",
      "0.7980092255401796\n",
      "0.7980092255401796\n"
     ]
    },
    {
     "data": {
      "image/png": "[encoded data removed]",
      "text/plain": [
       "<Figure size 640x480 with 1 Axes>"
      ]
     },
     "metadata": {},
     "output_type": "display_data"
    }
   ],
   "source": [
    "plt.plot(depths, tree_train, '-', label='Train')\n",
    "plt.plot(depths, tree_test, '-', label='Test')\n",
    "\n",
    "for n in depths:\n",
    "    min_tree_train, max_tree_train = np.min(all_tree_train[n]), np.max(all_tree_train[n])\n",
    "    min_tree_test, max_tree_test = np.min(all_tree_test[n]), np.max(all_tree_test[n])\n",
    "    print(min_tree_test)\n",
    "    plt.plot([n, n], [min_tree_train, max_tree_train], alpha = 0.4, color='b')\n",
    "    plt.plot([n, n], [min_tree_test, max_tree_test], alpha = 0.4, color='orange')\n",
    "\n",
    "best = np.argmax(tree_test)\n",
    "plt.plot(depths[best], tree_test[best], marker ='.', c='green')\n",
    "plt.legend()\n",
    "plt.show()"
   ]
  },
  {
   "cell_type": "code",
   "execution_count": 360,
   "id": "75eea4fc",
   "metadata": {},
   "outputs": [],
   "source": [
    "best_max_d = 10"
   ]
  },
  {
   "cell_type": "code",
   "execution_count": 178,
   "id": "3620d05d",
   "metadata": {},
   "outputs": [
    {
     "name": "stderr",
     "output_type": "stream",
     "text": [
      "100%|████████████████████████████████████████████████████████████████████████████████████| 6/6 [00:20<00:00,  3.49s/it]\n"
     ]
    }
   ],
   "source": [
    "leafs = [2, 10, 30, 50, 75, 100]\n",
    "tree_train_leaf = []\n",
    "tree_test_leaf = []\n",
    "all_tree_train_leaf = {l:[] for l in leafs}\n",
    "all_tree_test_leaf = {l:[] for l in leafs}\n",
    "\n",
    "for l in tqdm(leafs):\n",
    "    cv_tree = cross_validate(DecisionTreeClassifier(max_depth=10, max_leaf_nodes=l, random_state=42), X_train, y_train, cv=5, return_train_score=True)\n",
    "    tree_train_leaf.append(cv_tree['train_score'].mean())\n",
    "    tree_test_leaf.append(cv_tree['test_score'].mean())\n",
    "    \n",
    "    all_tree_train_leaf[l] = cv_tree['train_score']\n",
    "    all_tree_test_leaf[l] = cv_tree['test_score']\n"
   ]
  },
  {
   "cell_type": "code",
   "execution_count": 179,
   "id": "6090b5f1",
   "metadata": {},
   "outputs": [
    {
     "data": {
      "text/plain": [
       "([0.7341959635265287,\n",
       "  0.841207028172513,\n",
       "  0.8549779082996638,\n",
       "  0.861823894093401,\n",
       "  0.865750623609743,\n",
       "  0.8704238642635724],\n",
       " [0.7341960107130856,\n",
       "  0.8401144185979904,\n",
       "  0.8543163497904805,\n",
       "  0.8592445536643044,\n",
       "  0.8586133943745015,\n",
       "  0.8575452623331952])"
      ]
     },
     "execution_count": 179,
     "metadata": {},
     "output_type": "execute_result"
    }
   ],
   "source": [
    "tree_train_leaf, tree_test_leaf"
   ]
  },
  {
   "cell_type": "code",
   "execution_count": 180,
   "id": "9fe8137b",
   "metadata": {
    "scrolled": false
   },
   "outputs": [
    {
     "data": {
      "image/png": "[encoded data removed]",
      "text/plain": [
       "<Figure size 640x480 with 1 Axes>"
      ]
     },
     "metadata": {},
     "output_type": "display_data"
    }
   ],
   "source": [
    "plt.plot(leafs, tree_train_leaf, label='Train')\n",
    "plt.plot(leafs, tree_test_leaf, label='Test')\n",
    "\n",
    "for l in leafs:\n",
    "    min_train_leaf, max_train_leaf = np.min(all_tree_train_leaf[l]), np.max(all_tree_train_leaf[l])\n",
    "    min_test_leaf, max_test_leaf = np.min(all_tree_test_leaf[l]), np.max(all_tree_test_leaf[l])\n",
    "    \n",
    "    plt.plot([l, l], [min_train_leaf, max_train_leaf], c='b', alpha=0.4)\n",
    "    plt.plot([l, l], [min_test_leaf, max_test_leaf], c='orange', alpha=0.4) \n",
    "best = np.argmax(tree_test_leaf)    \n",
    "plt.plot(leafs[best], tree_test_leaf[best], marker='.')\n",
    "\n",
    "plt.legend()\n",
    "plt.show()"
   ]
  },
  {
   "cell_type": "code",
   "execution_count": 359,
   "id": "91739bbc",
   "metadata": {},
   "outputs": [],
   "source": [
    "best_max_l = 50"
   ]
  },
  {
   "cell_type": "code",
   "execution_count": 182,
   "id": "66f38149",
   "metadata": {},
   "outputs": [
    {
     "name": "stderr",
     "output_type": "stream",
     "text": [
      "100%|████████████████████████████████████████████████████████████████████████████████████| 7/7 [00:25<00:00,  3.68s/it]\n"
     ]
    }
   ],
   "source": [
    "alphas = [0, 0.01, 0.02, 0.03, 0.04, 0.05, 0.1]\n",
    "tree_train_alpha = []\n",
    "tree_test_alpha = []\n",
    "all_tree_train_alpha = {a:[] for a in alphas}\n",
    "all_tree_test_alpha = {a:[] for a in alphas}\n",
    "\n",
    "for a in tqdm(alphas):\n",
    "    cv_tree = cross_validate(DecisionTreeClassifier(max_depth=best_max_d, max_leaf_nodes=best_max_l, random_state=42, ccp_alpha = a), X_train, y_train, cv=5, return_train_score=True)\n",
    "    tree_train_alpha.append(cv_tree['train_score'].mean())\n",
    "    tree_test_alpha.append(cv_tree['test_score'].mean())\n",
    "    \n",
    "    all_tree_train_alpha[a] = cv_tree['train_score']\n",
    "    all_tree_test_alpha[a] = cv_tree['test_score']"
   ]
  },
  {
   "cell_type": "code",
   "execution_count": 183,
   "id": "b006a22a",
   "metadata": {},
   "outputs": [
    {
     "data": {
      "text/plain": [
       "([0.861823894093401,\n",
       "  0.825833888844809,\n",
       "  0.8242619849194733,\n",
       "  0.7743493819189583,\n",
       "  0.7605117477755045,\n",
       "  0.7341959635265287,\n",
       "  0.7341959635265287],\n",
       " [0.8592445536643044,\n",
       "  0.8243832522096233,\n",
       "  0.8242618694164188,\n",
       "  0.7743492872455306,\n",
       "  0.7605117165939704,\n",
       "  0.7341960107130856,\n",
       "  0.7341960107130856])"
      ]
     },
     "execution_count": 183,
     "metadata": {},
     "output_type": "execute_result"
    }
   ],
   "source": [
    "tree_train_alpha, tree_test_alpha"
   ]
  },
  {
   "cell_type": "code",
   "execution_count": 184,
   "id": "18933e43",
   "metadata": {},
   "outputs": [
    {
     "data": {
      "image/png": "[encoded data removed]",
      "text/plain": [
       "<Figure size 640x480 with 1 Axes>"
      ]
     },
     "metadata": {},
     "output_type": "display_data"
    }
   ],
   "source": [
    "plt.plot(alphas, tree_train_alpha)\n",
    "plt.plot(alphas, tree_test_alpha)\n",
    "\n",
    "for a in alphas:\n",
    "    min_train_alpha, max_train_alpha = np.min(all_tree_train_alpha[a]), np.max(all_tree_train_alpha[a])\n",
    "    min_test_alpha, max_test_alpha = np.min(all_tree_test_alpha[a]), np.max(all_tree_test_alpha[a])\n",
    "    \n",
    "    plt.plot([a,a], [min_train_alpha, max_train_alpha], c='b', alpha=0.4)\n",
    "    plt.plot([a,a], [min_test_alpha, max_test_alpha], c='orange', alpha=0.4)\n",
    "\n",
    "plt.show()"
   ]
  },
  {
   "cell_type": "code",
   "execution_count": 185,
   "id": "1be15fb0",
   "metadata": {},
   "outputs": [],
   "source": [
    "#sans alpa_cpp"
   ]
  },
  {
   "cell_type": "code",
   "execution_count": 361,
   "id": "7095782c",
   "metadata": {},
   "outputs": [],
   "source": [
    "#preproc\n",
    "estimator = DecisionTreeClassifier(max_depth = best_max_d, max_leaf_nodes = best_max_l, random_state=42)"
   ]
  },
  {
   "cell_type": "code",
   "execution_count": 187,
   "id": "09bc4e22",
   "metadata": {},
   "outputs": [
    {
     "data": {
      "text/plain": [
       "array([[2688,    2,    2, ...,    1,    1,    3],\n",
       "       [1336,    2,    0, ...,    0,    0,    2],\n",
       "       [ 926,    1,    0, ...,    1,    0,    0],\n",
       "       ...,\n",
       "       [2488,    1,    1, ...,    1,    0,    3],\n",
       "       [1726,    2,    1, ...,    2,    0,    0],\n",
       "       [2412,    2,    2, ...,    2,    1,    2]], dtype=int64)"
      ]
     },
     "execution_count": 187,
     "metadata": {},
     "output_type": "execute_result"
    }
   ],
   "source": [
    "from sklearn.feature_selection import SelectFromModel\n",
    "model = SelectFromModel(estimator, threshold='mean')\n",
    "model.fit_transform(X_train, y_train)"
   ]
  },
  {
   "cell_type": "code",
   "execution_count": 188,
   "id": "55d5ad54",
   "metadata": {},
   "outputs": [
    {
     "data": {
      "text/plain": [
       "array([0.02939503, 0.0015011 , 0.12302493, 0.03341526, 0.01177509,\n",
       "       0.00096906, 0.        , 0.        , 0.        , 0.        ,\n",
       "       0.        , 0.        , 0.        , 0.        , 0.        ,\n",
       "       0.        , 0.        , 0.        , 0.        , 0.        ,\n",
       "       0.        , 0.25497131, 0.05824639, 0.00228188, 0.        ,\n",
       "       0.        , 0.        , 0.        , 0.        , 0.        ,\n",
       "       0.        , 0.        , 0.00090822, 0.        , 0.        ,\n",
       "       0.        , 0.        , 0.        , 0.        , 0.        ,\n",
       "       0.        , 0.        , 0.        , 0.        , 0.09324634,\n",
       "       0.38945977, 0.00080562, 0.        , 0.        , 0.        ,\n",
       "       0.        , 0.        ])"
      ]
     },
     "execution_count": 188,
     "metadata": {},
     "output_type": "execute_result"
    }
   ],
   "source": [
    "model.estimator_.feature_importances_"
   ]
  },
  {
   "cell_type": "code",
   "execution_count": 194,
   "id": "a238cd45",
   "metadata": {},
   "outputs": [
    {
     "name": "stderr",
     "output_type": "stream",
     "text": [
      "100%|████████████████████████████████████████████████████████████████████████████████████| 6/6 [00:26<00:00,  4.45s/it]\n"
     ]
    }
   ],
   "source": [
    "thresholds = [0.01, 0.02, 0.03, 0.04, 0.05, 0.1]\n",
    "prep_train_scores = []\n",
    "prep_test_scores = []\n",
    "\n",
    "sfm_all_train = {threshold:[] for threshold in thresholds}\n",
    "sfm_all_test = {threshold:[] for threshold in thresholds}\n",
    "for threshold in tqdm(thresholds):\n",
    "    pipe_prep = make_pipeline(SelectFromModel(estimator=estimator, threshold=threshold), DecisionTreeClassifier(max_depth = best_max_d, max_leaf_nodes = best_max_l, random_state=42))\n",
    "    cv = cross_validate(pipe_prep,X_train, y_train, cv=5, return_train_score = True)\n",
    "    \n",
    "    prep_test_scores.append(cv['test_score'].mean())\n",
    "    prep_train_scores.append(cv['train_score'].mean())\n",
    "    \n",
    "    sfm_all_train[threshold]=cv['train_score']\n",
    "    sfm_all_test[threshold]=cv['test_score']"
   ]
  },
  {
   "cell_type": "code",
   "execution_count": 191,
   "id": "3ae0fe72",
   "metadata": {},
   "outputs": [
    {
     "data": {
      "text/plain": [
       "([0.8597361156929104,\n",
       "  0.851961537758067,\n",
       "  0.8250206369515032,\n",
       "  0.8080513178029275],\n",
       " [0.8574480659300721,\n",
       "  0.8496794463509005,\n",
       "  0.8226354024571993,\n",
       "  0.8076082197305251])"
      ]
     },
     "execution_count": 191,
     "metadata": {},
     "output_type": "execute_result"
    }
   ],
   "source": [
    "prep_train_scores , prep_test_scores"
   ]
  },
  {
   "cell_type": "code",
   "execution_count": 195,
   "id": "96614fdc",
   "metadata": {},
   "outputs": [
    {
     "data": {
      "text/plain": [
       "[<matplotlib.lines.Line2D at 0x1c20f284280>]"
      ]
     },
     "execution_count": 195,
     "metadata": {},
     "output_type": "execute_result"
    },
    {
     "data": {
      "image/png": "[encoded data removed]",
      "text/plain": [
       "<Figure size 640x480 with 1 Axes>"
      ]
     },
     "metadata": {},
     "output_type": "display_data"
    }
   ],
   "source": [
    "plt.plot(thresholds, prep_train_scores)\n",
    "plt.plot(thresholds, prep_test_scores)\n",
    "for threshold in thresholds:\n",
    "    min_train, max_train = np.min(sfm_all_train[threshold]), np.max(sfm_all_train[threshold])\n",
    "    min_test, max_test = np.min(sfm_all_test[threshold]), np.max(sfm_all_test[threshold])\n",
    "    \n",
    "    plt.plot([threshold, threshold], [min_train, max_train], c='b')\n",
    "    plt.plot([threshold, threshold], [min_test, max_test], c='orange')\n",
    "\n",
    "plt.plot(thresholds[np.argmax(prep_test_scores)], prep_test_scores[np.argmax(prep_test_scores)], marker='x')"
   ]
  },
  {
   "cell_type": "code",
   "execution_count": null,
   "id": "af4c5227",
   "metadata": {},
   "outputs": [],
   "source": []
  },
  {
   "cell_type": "code",
   "execution_count": 362,
   "id": "d970e7c8",
   "metadata": {},
   "outputs": [],
   "source": [
    "threshold = 0.01"
   ]
  },
  {
   "cell_type": "code",
   "execution_count": 398,
   "id": "3022f5af",
   "metadata": {},
   "outputs": [],
   "source": [
    "from sklearn.feature_selection import SelectFromModel\n",
    "dfm_opti = SelectFromModel(estimator=estimator, threshold=threshold)\n",
    "X_train_sfm = dfm_opti.fit_transform(X_train, y_train)\n",
    "X_test_sfm = dfm_opti.transform(X_test)"
   ]
  },
  {
   "cell_type": "code",
   "execution_count": 399,
   "id": "1c0fe879",
   "metadata": {},
   "outputs": [
    {
     "data": {
      "text/html": [
       "<style>#sk-container-id-68 {color: black;background-color: white;}#sk-container-id-68 pre{padding: 0;}#sk-container-id-68 div.sk-toggleable {background-color: white;}#sk-container-id-68 label.sk-toggleable__label {cursor: pointer;display: block;width: 100%;margin-bottom: 0;padding: 0.3em;box-sizing: border-box;text-align: center;}#sk-container-id-68 label.sk-toggleable__label-arrow:before {content: \"▸\";float: left;margin-right: 0.25em;color: #696969;}#sk-container-id-68 label.sk-toggleable__label-arrow:hover:before {color: black;}#sk-container-id-68 div.sk-estimator:hover label.sk-toggleable__label-arrow:before {color: black;}#sk-container-id-68 div.sk-toggleable__content {max-height: 0;max-width: 0;overflow: hidden;text-align: left;background-color: #f0f8ff;}#sk-container-id-68 div.sk-toggleable__content pre {margin: 0.2em;color: black;border-radius: 0.25em;background-color: #f0f8ff;}#sk-container-id-68 input.sk-toggleable__control:checked~div.sk-toggleable__content {max-height: 200px;max-width: 100%;overflow: auto;}#sk-container-id-68 input.sk-toggleable__control:checked~label.sk-toggleable__label-arrow:before {content: \"▾\";}#sk-container-id-68 div.sk-estimator input.sk-toggleable__control:checked~label.sk-toggleable__label {background-color: #d4ebff;}#sk-container-id-68 div.sk-label input.sk-toggleable__control:checked~label.sk-toggleable__label {background-color: #d4ebff;}#sk-container-id-68 input.sk-hidden--visually {border: 0;clip: rect(1px 1px 1px 1px);clip: rect(1px, 1px, 1px, 1px);height: 1px;margin: -1px;overflow: hidden;padding: 0;position: absolute;width: 1px;}#sk-container-id-68 div.sk-estimator {font-family: monospace;background-color: #f0f8ff;border: 1px dotted black;border-radius: 0.25em;box-sizing: border-box;margin-bottom: 0.5em;}#sk-container-id-68 div.sk-estimator:hover {background-color: #d4ebff;}#sk-container-id-68 div.sk-parallel-item::after {content: \"\";width: 100%;border-bottom: 1px solid gray;flex-grow: 1;}#sk-container-id-68 div.sk-label:hover label.sk-toggleable__label {background-color: #d4ebff;}#sk-container-id-68 div.sk-serial::before {content: \"\";position: absolute;border-left: 1px solid gray;box-sizing: border-box;top: 0;bottom: 0;left: 50%;z-index: 0;}#sk-container-id-68 div.sk-serial {display: flex;flex-direction: column;align-items: center;background-color: white;padding-right: 0.2em;padding-left: 0.2em;position: relative;}#sk-container-id-68 div.sk-item {position: relative;z-index: 1;}#sk-container-id-68 div.sk-parallel {display: flex;align-items: stretch;justify-content: center;background-color: white;position: relative;}#sk-container-id-68 div.sk-item::before, #sk-container-id-68 div.sk-parallel-item::before {content: \"\";position: absolute;border-left: 1px solid gray;box-sizing: border-box;top: 0;bottom: 0;left: 50%;z-index: -1;}#sk-container-id-68 div.sk-parallel-item {display: flex;flex-direction: column;z-index: 1;position: relative;background-color: white;}#sk-container-id-68 div.sk-parallel-item:first-child::after {align-self: flex-end;width: 50%;}#sk-container-id-68 div.sk-parallel-item:last-child::after {align-self: flex-start;width: 50%;}#sk-container-id-68 div.sk-parallel-item:only-child::after {width: 0;}#sk-container-id-68 div.sk-dashed-wrapped {border: 1px dashed gray;margin: 0 0.4em 0.5em 0.4em;box-sizing: border-box;padding-bottom: 0.4em;background-color: white;}#sk-container-id-68 div.sk-label label {font-family: monospace;font-weight: bold;display: inline-block;line-height: 1.2em;}#sk-container-id-68 div.sk-label-container {text-align: center;}#sk-container-id-68 div.sk-container {/* jupyter's `normalize.less` sets `[hidden] { display: none; }` but bootstrap.min.css set `[hidden] { display: none !important; }` so we also need the `!important` here to be able to override the default hidden behavior on the sphinx rendered scikit-learn.org. See: https://github.com/scikit-learn/scikit-learn/issues/21755 */display: inline-block !important;position: relative;}#sk-container-id-68 div.sk-text-repr-fallback {display: none;}</style><div id=\"sk-container-id-68\" class=\"sk-top-container\"><div class=\"sk-text-repr-fallback\"><pre>DecisionTreeClassifier(max_depth=10, max_leaf_nodes=50, random_state=42)</pre><b>In a Jupyter environment, please rerun this cell to show the HTML representation or trust the notebook. <br />On GitHub, the HTML representation is unable to render, please try loading this page with nbviewer.org.</b></div><div class=\"sk-container\" hidden><div class=\"sk-item\"><div class=\"sk-estimator sk-toggleable\"><input class=\"sk-toggleable__control sk-hidden--visually\" id=\"sk-estimator-id-188\" type=\"checkbox\" checked><label for=\"sk-estimator-id-188\" class=\"sk-toggleable__label sk-toggleable__label-arrow\">DecisionTreeClassifier</label><div class=\"sk-toggleable__content\"><pre>DecisionTreeClassifier(max_depth=10, max_leaf_nodes=50, random_state=42)</pre></div></div></div></div></div>"
      ],
      "text/plain": [
       "DecisionTreeClassifier(max_depth=10, max_leaf_nodes=50, random_state=42)"
      ]
     },
     "execution_count": 399,
     "metadata": {},
     "output_type": "execute_result"
    }
   ],
   "source": [
    "estimator.fit(X_train_sfm, y_train)"
   ]
  },
  {
   "cell_type": "code",
   "execution_count": 400,
   "id": "1da9ada7",
   "metadata": {},
   "outputs": [
    {
     "data": {
      "text/plain": [
       "0.8570596232278113"
      ]
     },
     "execution_count": 400,
     "metadata": {},
     "output_type": "execute_result"
    }
   ],
   "source": [
    "estimator.score(X_test_sfm, y_test)"
   ]
  },
  {
   "cell_type": "code",
   "execution_count": 401,
   "id": "9f0eca20",
   "metadata": {},
   "outputs": [
    {
     "name": "stdout",
     "output_type": "stream",
     "text": [
      "Index(['gameDuration', 'firstTower', 'firstBaron', 'firstDragon',\n",
      "       't1_baronKills', 't1_dragonKills', 't2_baronKills', 't2_dragonKills'],\n",
      "      dtype='object')\n"
     ]
    }
   ],
   "source": [
    "feature_mask = dfm_opti.get_support()\n",
    "\n",
    "selected_features = X_train.columns[feature_mask]\n",
    "\n",
    "print(selected_features)"
   ]
  },
  {
   "cell_type": "code",
   "execution_count": 402,
   "id": "87dfbe56",
   "metadata": {},
   "outputs": [
    {
     "data": {
      "text/plain": [
       "array([0.02791627, 0.12608579, 0.02235425, 0.01275629, 0.24704639,\n",
       "       0.06495211, 0.10745784, 0.39143106])"
      ]
     },
     "execution_count": 402,
     "metadata": {},
     "output_type": "execute_result"
    }
   ],
   "source": [
    "estimator.feature_importances_"
   ]
  },
  {
   "cell_type": "code",
   "execution_count": 403,
   "id": "5de0a2be",
   "metadata": {
    "scrolled": true
   },
   "outputs": [
    {
     "data": {
      "image/png": "[encoded data removed]",
      "text/plain": [
       "<Figure size 640x480 with 1 Axes>"
      ]
     },
     "metadata": {},
     "output_type": "display_data"
    }
   ],
   "source": [
    "plt.barh(selected_features, estimator.feature_importances_)\n",
    "plt.show()"
   ]
  },
  {
   "cell_type": "code",
   "execution_count": 406,
   "id": "1ebd4671",
   "metadata": {},
   "outputs": [
    {
     "data": {
      "text/plain": [
       "(39956, 52)"
      ]
     },
     "execution_count": 406,
     "metadata": {},
     "output_type": "execute_result"
    }
   ],
   "source": [
    "X_train_scaled.shape"
   ]
  },
  {
   "cell_type": "code",
   "execution_count": null,
   "id": "9b73ff10",
   "metadata": {},
   "outputs": [],
   "source": []
  },
  {
   "cell_type": "code",
   "execution_count": null,
   "id": "81c31ac7",
   "metadata": {},
   "outputs": [],
   "source": []
  },
  {
   "cell_type": "code",
   "execution_count": 407,
   "id": "412dc8be",
   "metadata": {},
   "outputs": [],
   "source": [
    "from sklearn.linear_model import SGDClassifier"
   ]
  },
  {
   "cell_type": "code",
   "execution_count": 285,
   "id": "3f31934d",
   "metadata": {},
   "outputs": [
    {
     "data": {
      "text/html": [
       "<style>#sk-container-id-31 {color: black;background-color: white;}#sk-container-id-31 pre{padding: 0;}#sk-container-id-31 div.sk-toggleable {background-color: white;}#sk-container-id-31 label.sk-toggleable__label {cursor: pointer;display: block;width: 100%;margin-bottom: 0;padding: 0.3em;box-sizing: border-box;text-align: center;}#sk-container-id-31 label.sk-toggleable__label-arrow:before {content: \"▸\";float: left;margin-right: 0.25em;color: #696969;}#sk-container-id-31 label.sk-toggleable__label-arrow:hover:before {color: black;}#sk-container-id-31 div.sk-estimator:hover label.sk-toggleable__label-arrow:before {color: black;}#sk-container-id-31 div.sk-toggleable__content {max-height: 0;max-width: 0;overflow: hidden;text-align: left;background-color: #f0f8ff;}#sk-container-id-31 div.sk-toggleable__content pre {margin: 0.2em;color: black;border-radius: 0.25em;background-color: #f0f8ff;}#sk-container-id-31 input.sk-toggleable__control:checked~div.sk-toggleable__content {max-height: 200px;max-width: 100%;overflow: auto;}#sk-container-id-31 input.sk-toggleable__control:checked~label.sk-toggleable__label-arrow:before {content: \"▾\";}#sk-container-id-31 div.sk-estimator input.sk-toggleable__control:checked~label.sk-toggleable__label {background-color: #d4ebff;}#sk-container-id-31 div.sk-label input.sk-toggleable__control:checked~label.sk-toggleable__label {background-color: #d4ebff;}#sk-container-id-31 input.sk-hidden--visually {border: 0;clip: rect(1px 1px 1px 1px);clip: rect(1px, 1px, 1px, 1px);height: 1px;margin: -1px;overflow: hidden;padding: 0;position: absolute;width: 1px;}#sk-container-id-31 div.sk-estimator {font-family: monospace;background-color: #f0f8ff;border: 1px dotted black;border-radius: 0.25em;box-sizing: border-box;margin-bottom: 0.5em;}#sk-container-id-31 div.sk-estimator:hover {background-color: #d4ebff;}#sk-container-id-31 div.sk-parallel-item::after {content: \"\";width: 100%;border-bottom: 1px solid gray;flex-grow: 1;}#sk-container-id-31 div.sk-label:hover label.sk-toggleable__label {background-color: #d4ebff;}#sk-container-id-31 div.sk-serial::before {content: \"\";position: absolute;border-left: 1px solid gray;box-sizing: border-box;top: 0;bottom: 0;left: 50%;z-index: 0;}#sk-container-id-31 div.sk-serial {display: flex;flex-direction: column;align-items: center;background-color: white;padding-right: 0.2em;padding-left: 0.2em;position: relative;}#sk-container-id-31 div.sk-item {position: relative;z-index: 1;}#sk-container-id-31 div.sk-parallel {display: flex;align-items: stretch;justify-content: center;background-color: white;position: relative;}#sk-container-id-31 div.sk-item::before, #sk-container-id-31 div.sk-parallel-item::before {content: \"\";position: absolute;border-left: 1px solid gray;box-sizing: border-box;top: 0;bottom: 0;left: 50%;z-index: -1;}#sk-container-id-31 div.sk-parallel-item {display: flex;flex-direction: column;z-index: 1;position: relative;background-color: white;}#sk-container-id-31 div.sk-parallel-item:first-child::after {align-self: flex-end;width: 50%;}#sk-container-id-31 div.sk-parallel-item:last-child::after {align-self: flex-start;width: 50%;}#sk-container-id-31 div.sk-parallel-item:only-child::after {width: 0;}#sk-container-id-31 div.sk-dashed-wrapped {border: 1px dashed gray;margin: 0 0.4em 0.5em 0.4em;box-sizing: border-box;padding-bottom: 0.4em;background-color: white;}#sk-container-id-31 div.sk-label label {font-family: monospace;font-weight: bold;display: inline-block;line-height: 1.2em;}#sk-container-id-31 div.sk-label-container {text-align: center;}#sk-container-id-31 div.sk-container {/* jupyter's `normalize.less` sets `[hidden] { display: none; }` but bootstrap.min.css set `[hidden] { display: none !important; }` so we also need the `!important` here to be able to override the default hidden behavior on the sphinx rendered scikit-learn.org. See: https://github.com/scikit-learn/scikit-learn/issues/21755 */display: inline-block !important;position: relative;}#sk-container-id-31 div.sk-text-repr-fallback {display: none;}</style><div id=\"sk-container-id-31\" class=\"sk-top-container\"><div class=\"sk-text-repr-fallback\"><pre>GridSearchCV(cv=5,\n",
       "             estimator=Pipeline(steps=[(&#x27;standardscaler&#x27;, StandardScaler()),\n",
       "                                       (&#x27;sgdclassifier&#x27;,\n",
       "                                        SGDClassifier(random_state=42))]),\n",
       "             param_grid={&#x27;sgdclassifier__alpha&#x27;: [0.001, 0.01, 0.1],\n",
       "                         &#x27;sgdclassifier__loss&#x27;: [&#x27;hinge&#x27;, &#x27;log_loss&#x27;],\n",
       "                         &#x27;sgdclassifier__max_iter&#x27;: [100, 150, 250]})</pre><b>In a Jupyter environment, please rerun this cell to show the HTML representation or trust the notebook. <br />On GitHub, the HTML representation is unable to render, please try loading this page with nbviewer.org.</b></div><div class=\"sk-container\" hidden><div class=\"sk-item sk-dashed-wrapped\"><div class=\"sk-label-container\"><div class=\"sk-label sk-toggleable\"><input class=\"sk-toggleable__control sk-hidden--visually\" id=\"sk-estimator-id-112\" type=\"checkbox\" ><label for=\"sk-estimator-id-112\" class=\"sk-toggleable__label sk-toggleable__label-arrow\">GridSearchCV</label><div class=\"sk-toggleable__content\"><pre>GridSearchCV(cv=5,\n",
       "             estimator=Pipeline(steps=[(&#x27;standardscaler&#x27;, StandardScaler()),\n",
       "                                       (&#x27;sgdclassifier&#x27;,\n",
       "                                        SGDClassifier(random_state=42))]),\n",
       "             param_grid={&#x27;sgdclassifier__alpha&#x27;: [0.001, 0.01, 0.1],\n",
       "                         &#x27;sgdclassifier__loss&#x27;: [&#x27;hinge&#x27;, &#x27;log_loss&#x27;],\n",
       "                         &#x27;sgdclassifier__max_iter&#x27;: [100, 150, 250]})</pre></div></div></div><div class=\"sk-parallel\"><div class=\"sk-parallel-item\"><div class=\"sk-item\"><div class=\"sk-label-container\"><div class=\"sk-label sk-toggleable\"><input class=\"sk-toggleable__control sk-hidden--visually\" id=\"sk-estimator-id-113\" type=\"checkbox\" ><label for=\"sk-estimator-id-113\" class=\"sk-toggleable__label sk-toggleable__label-arrow\">estimator: Pipeline</label><div class=\"sk-toggleable__content\"><pre>Pipeline(steps=[(&#x27;standardscaler&#x27;, StandardScaler()),\n",
       "                (&#x27;sgdclassifier&#x27;, SGDClassifier(random_state=42))])</pre></div></div></div><div class=\"sk-serial\"><div class=\"sk-item\"><div class=\"sk-serial\"><div class=\"sk-item\"><div class=\"sk-estimator sk-toggleable\"><input class=\"sk-toggleable__control sk-hidden--visually\" id=\"sk-estimator-id-114\" type=\"checkbox\" ><label for=\"sk-estimator-id-114\" class=\"sk-toggleable__label sk-toggleable__label-arrow\">StandardScaler</label><div class=\"sk-toggleable__content\"><pre>StandardScaler()</pre></div></div></div><div class=\"sk-item\"><div class=\"sk-estimator sk-toggleable\"><input class=\"sk-toggleable__control sk-hidden--visually\" id=\"sk-estimator-id-115\" type=\"checkbox\" ><label for=\"sk-estimator-id-115\" class=\"sk-toggleable__label sk-toggleable__label-arrow\">SGDClassifier</label><div class=\"sk-toggleable__content\"><pre>SGDClassifier(random_state=42)</pre></div></div></div></div></div></div></div></div></div></div></div></div>"
      ],
      "text/plain": [
       "GridSearchCV(cv=5,\n",
       "             estimator=Pipeline(steps=[('standardscaler', StandardScaler()),\n",
       "                                       ('sgdclassifier',\n",
       "                                        SGDClassifier(random_state=42))]),\n",
       "             param_grid={'sgdclassifier__alpha': [0.001, 0.01, 0.1],\n",
       "                         'sgdclassifier__loss': ['hinge', 'log_loss'],\n",
       "                         'sgdclassifier__max_iter': [100, 150, 250]})"
      ]
     },
     "execution_count": 285,
     "metadata": {},
     "output_type": "execute_result"
    }
   ],
   "source": [
    "pipe = make_pipeline(StandardScaler(), SGDClassifier(random_state=42))\n",
    "grid = {\n",
    "    'sgdclassifier__loss': ['hinge','log_loss'],\n",
    "    'sgdclassifier__max_iter':[100, 150, 250],\n",
    "    'sgdclassifier__alpha':[0.001, 0.01, 0.1]\n",
    "}\n",
    "sgd = GridSearchCV(pipe, grid, cv=5)\n",
    "sgd"
   ]
  },
  {
   "cell_type": "code",
   "execution_count": 286,
   "id": "056c3b52",
   "metadata": {},
   "outputs": [
    {
     "data": {
      "text/html": [
       "<style>#sk-container-id-32 {color: black;background-color: white;}#sk-container-id-32 pre{padding: 0;}#sk-container-id-32 div.sk-toggleable {background-color: white;}#sk-container-id-32 label.sk-toggleable__label {cursor: pointer;display: block;width: 100%;margin-bottom: 0;padding: 0.3em;box-sizing: border-box;text-align: center;}#sk-container-id-32 label.sk-toggleable__label-arrow:before {content: \"▸\";float: left;margin-right: 0.25em;color: #696969;}#sk-container-id-32 label.sk-toggleable__label-arrow:hover:before {color: black;}#sk-container-id-32 div.sk-estimator:hover label.sk-toggleable__label-arrow:before {color: black;}#sk-container-id-32 div.sk-toggleable__content {max-height: 0;max-width: 0;overflow: hidden;text-align: left;background-color: #f0f8ff;}#sk-container-id-32 div.sk-toggleable__content pre {margin: 0.2em;color: black;border-radius: 0.25em;background-color: #f0f8ff;}#sk-container-id-32 input.sk-toggleable__control:checked~div.sk-toggleable__content {max-height: 200px;max-width: 100%;overflow: auto;}#sk-container-id-32 input.sk-toggleable__control:checked~label.sk-toggleable__label-arrow:before {content: \"▾\";}#sk-container-id-32 div.sk-estimator input.sk-toggleable__control:checked~label.sk-toggleable__label {background-color: #d4ebff;}#sk-container-id-32 div.sk-label input.sk-toggleable__control:checked~label.sk-toggleable__label {background-color: #d4ebff;}#sk-container-id-32 input.sk-hidden--visually {border: 0;clip: rect(1px 1px 1px 1px);clip: rect(1px, 1px, 1px, 1px);height: 1px;margin: -1px;overflow: hidden;padding: 0;position: absolute;width: 1px;}#sk-container-id-32 div.sk-estimator {font-family: monospace;background-color: #f0f8ff;border: 1px dotted black;border-radius: 0.25em;box-sizing: border-box;margin-bottom: 0.5em;}#sk-container-id-32 div.sk-estimator:hover {background-color: #d4ebff;}#sk-container-id-32 div.sk-parallel-item::after {content: \"\";width: 100%;border-bottom: 1px solid gray;flex-grow: 1;}#sk-container-id-32 div.sk-label:hover label.sk-toggleable__label {background-color: #d4ebff;}#sk-container-id-32 div.sk-serial::before {content: \"\";position: absolute;border-left: 1px solid gray;box-sizing: border-box;top: 0;bottom: 0;left: 50%;z-index: 0;}#sk-container-id-32 div.sk-serial {display: flex;flex-direction: column;align-items: center;background-color: white;padding-right: 0.2em;padding-left: 0.2em;position: relative;}#sk-container-id-32 div.sk-item {position: relative;z-index: 1;}#sk-container-id-32 div.sk-parallel {display: flex;align-items: stretch;justify-content: center;background-color: white;position: relative;}#sk-container-id-32 div.sk-item::before, #sk-container-id-32 div.sk-parallel-item::before {content: \"\";position: absolute;border-left: 1px solid gray;box-sizing: border-box;top: 0;bottom: 0;left: 50%;z-index: -1;}#sk-container-id-32 div.sk-parallel-item {display: flex;flex-direction: column;z-index: 1;position: relative;background-color: white;}#sk-container-id-32 div.sk-parallel-item:first-child::after {align-self: flex-end;width: 50%;}#sk-container-id-32 div.sk-parallel-item:last-child::after {align-self: flex-start;width: 50%;}#sk-container-id-32 div.sk-parallel-item:only-child::after {width: 0;}#sk-container-id-32 div.sk-dashed-wrapped {border: 1px dashed gray;margin: 0 0.4em 0.5em 0.4em;box-sizing: border-box;padding-bottom: 0.4em;background-color: white;}#sk-container-id-32 div.sk-label label {font-family: monospace;font-weight: bold;display: inline-block;line-height: 1.2em;}#sk-container-id-32 div.sk-label-container {text-align: center;}#sk-container-id-32 div.sk-container {/* jupyter's `normalize.less` sets `[hidden] { display: none; }` but bootstrap.min.css set `[hidden] { display: none !important; }` so we also need the `!important` here to be able to override the default hidden behavior on the sphinx rendered scikit-learn.org. See: https://github.com/scikit-learn/scikit-learn/issues/21755 */display: inline-block !important;position: relative;}#sk-container-id-32 div.sk-text-repr-fallback {display: none;}</style><div id=\"sk-container-id-32\" class=\"sk-top-container\"><div class=\"sk-text-repr-fallback\"><pre>GridSearchCV(cv=5,\n",
       "             estimator=Pipeline(steps=[(&#x27;standardscaler&#x27;, StandardScaler()),\n",
       "                                       (&#x27;sgdclassifier&#x27;,\n",
       "                                        SGDClassifier(random_state=42))]),\n",
       "             param_grid={&#x27;sgdclassifier__alpha&#x27;: [0.001, 0.01, 0.1],\n",
       "                         &#x27;sgdclassifier__loss&#x27;: [&#x27;hinge&#x27;, &#x27;log_loss&#x27;],\n",
       "                         &#x27;sgdclassifier__max_iter&#x27;: [100, 150, 250]})</pre><b>In a Jupyter environment, please rerun this cell to show the HTML representation or trust the notebook. <br />On GitHub, the HTML representation is unable to render, please try loading this page with nbviewer.org.</b></div><div class=\"sk-container\" hidden><div class=\"sk-item sk-dashed-wrapped\"><div class=\"sk-label-container\"><div class=\"sk-label sk-toggleable\"><input class=\"sk-toggleable__control sk-hidden--visually\" id=\"sk-estimator-id-116\" type=\"checkbox\" ><label for=\"sk-estimator-id-116\" class=\"sk-toggleable__label sk-toggleable__label-arrow\">GridSearchCV</label><div class=\"sk-toggleable__content\"><pre>GridSearchCV(cv=5,\n",
       "             estimator=Pipeline(steps=[(&#x27;standardscaler&#x27;, StandardScaler()),\n",
       "                                       (&#x27;sgdclassifier&#x27;,\n",
       "                                        SGDClassifier(random_state=42))]),\n",
       "             param_grid={&#x27;sgdclassifier__alpha&#x27;: [0.001, 0.01, 0.1],\n",
       "                         &#x27;sgdclassifier__loss&#x27;: [&#x27;hinge&#x27;, &#x27;log_loss&#x27;],\n",
       "                         &#x27;sgdclassifier__max_iter&#x27;: [100, 150, 250]})</pre></div></div></div><div class=\"sk-parallel\"><div class=\"sk-parallel-item\"><div class=\"sk-item\"><div class=\"sk-label-container\"><div class=\"sk-label sk-toggleable\"><input class=\"sk-toggleable__control sk-hidden--visually\" id=\"sk-estimator-id-117\" type=\"checkbox\" ><label for=\"sk-estimator-id-117\" class=\"sk-toggleable__label sk-toggleable__label-arrow\">estimator: Pipeline</label><div class=\"sk-toggleable__content\"><pre>Pipeline(steps=[(&#x27;standardscaler&#x27;, StandardScaler()),\n",
       "                (&#x27;sgdclassifier&#x27;, SGDClassifier(random_state=42))])</pre></div></div></div><div class=\"sk-serial\"><div class=\"sk-item\"><div class=\"sk-serial\"><div class=\"sk-item\"><div class=\"sk-estimator sk-toggleable\"><input class=\"sk-toggleable__control sk-hidden--visually\" id=\"sk-estimator-id-118\" type=\"checkbox\" ><label for=\"sk-estimator-id-118\" class=\"sk-toggleable__label sk-toggleable__label-arrow\">StandardScaler</label><div class=\"sk-toggleable__content\"><pre>StandardScaler()</pre></div></div></div><div class=\"sk-item\"><div class=\"sk-estimator sk-toggleable\"><input class=\"sk-toggleable__control sk-hidden--visually\" id=\"sk-estimator-id-119\" type=\"checkbox\" ><label for=\"sk-estimator-id-119\" class=\"sk-toggleable__label sk-toggleable__label-arrow\">SGDClassifier</label><div class=\"sk-toggleable__content\"><pre>SGDClassifier(random_state=42)</pre></div></div></div></div></div></div></div></div></div></div></div></div>"
      ],
      "text/plain": [
       "GridSearchCV(cv=5,\n",
       "             estimator=Pipeline(steps=[('standardscaler', StandardScaler()),\n",
       "                                       ('sgdclassifier',\n",
       "                                        SGDClassifier(random_state=42))]),\n",
       "             param_grid={'sgdclassifier__alpha': [0.001, 0.01, 0.1],\n",
       "                         'sgdclassifier__loss': ['hinge', 'log_loss'],\n",
       "                         'sgdclassifier__max_iter': [100, 150, 250]})"
      ]
     },
     "execution_count": 286,
     "metadata": {},
     "output_type": "execute_result"
    }
   ],
   "source": [
    "sgd.fit(X_train, y_train)"
   ]
  },
  {
   "cell_type": "code",
   "execution_count": 287,
   "id": "25b58dd3",
   "metadata": {},
   "outputs": [
    {
     "data": {
      "text/plain": [
       "({'sgdclassifier__alpha': 0.001,\n",
       "  'sgdclassifier__loss': 'hinge',\n",
       "  'sgdclassifier__max_iter': 100},\n",
       " 0.8499949950556098)"
      ]
     },
     "execution_count": 287,
     "metadata": {},
     "output_type": "execute_result"
    }
   ],
   "source": [
    "sgd.best_params_ , sgd.best_score_"
   ]
  },
  {
   "cell_type": "code",
   "execution_count": 113,
   "id": "293335c0",
   "metadata": {},
   "outputs": [],
   "source": [
    "loss = 'hinge'\n",
    "max_iter = 100\n",
    "alpha =0.001"
   ]
  },
  {
   "cell_type": "code",
   "execution_count": 305,
   "id": "d480c33d",
   "metadata": {},
   "outputs": [
    {
     "data": {
      "text/html": [
       "<style>#sk-container-id-43 {color: black;background-color: white;}#sk-container-id-43 pre{padding: 0;}#sk-container-id-43 div.sk-toggleable {background-color: white;}#sk-container-id-43 label.sk-toggleable__label {cursor: pointer;display: block;width: 100%;margin-bottom: 0;padding: 0.3em;box-sizing: border-box;text-align: center;}#sk-container-id-43 label.sk-toggleable__label-arrow:before {content: \"▸\";float: left;margin-right: 0.25em;color: #696969;}#sk-container-id-43 label.sk-toggleable__label-arrow:hover:before {color: black;}#sk-container-id-43 div.sk-estimator:hover label.sk-toggleable__label-arrow:before {color: black;}#sk-container-id-43 div.sk-toggleable__content {max-height: 0;max-width: 0;overflow: hidden;text-align: left;background-color: #f0f8ff;}#sk-container-id-43 div.sk-toggleable__content pre {margin: 0.2em;color: black;border-radius: 0.25em;background-color: #f0f8ff;}#sk-container-id-43 input.sk-toggleable__control:checked~div.sk-toggleable__content {max-height: 200px;max-width: 100%;overflow: auto;}#sk-container-id-43 input.sk-toggleable__control:checked~label.sk-toggleable__label-arrow:before {content: \"▾\";}#sk-container-id-43 div.sk-estimator input.sk-toggleable__control:checked~label.sk-toggleable__label {background-color: #d4ebff;}#sk-container-id-43 div.sk-label input.sk-toggleable__control:checked~label.sk-toggleable__label {background-color: #d4ebff;}#sk-container-id-43 input.sk-hidden--visually {border: 0;clip: rect(1px 1px 1px 1px);clip: rect(1px, 1px, 1px, 1px);height: 1px;margin: -1px;overflow: hidden;padding: 0;position: absolute;width: 1px;}#sk-container-id-43 div.sk-estimator {font-family: monospace;background-color: #f0f8ff;border: 1px dotted black;border-radius: 0.25em;box-sizing: border-box;margin-bottom: 0.5em;}#sk-container-id-43 div.sk-estimator:hover {background-color: #d4ebff;}#sk-container-id-43 div.sk-parallel-item::after {content: \"\";width: 100%;border-bottom: 1px solid gray;flex-grow: 1;}#sk-container-id-43 div.sk-label:hover label.sk-toggleable__label {background-color: #d4ebff;}#sk-container-id-43 div.sk-serial::before {content: \"\";position: absolute;border-left: 1px solid gray;box-sizing: border-box;top: 0;bottom: 0;left: 50%;z-index: 0;}#sk-container-id-43 div.sk-serial {display: flex;flex-direction: column;align-items: center;background-color: white;padding-right: 0.2em;padding-left: 0.2em;position: relative;}#sk-container-id-43 div.sk-item {position: relative;z-index: 1;}#sk-container-id-43 div.sk-parallel {display: flex;align-items: stretch;justify-content: center;background-color: white;position: relative;}#sk-container-id-43 div.sk-item::before, #sk-container-id-43 div.sk-parallel-item::before {content: \"\";position: absolute;border-left: 1px solid gray;box-sizing: border-box;top: 0;bottom: 0;left: 50%;z-index: -1;}#sk-container-id-43 div.sk-parallel-item {display: flex;flex-direction: column;z-index: 1;position: relative;background-color: white;}#sk-container-id-43 div.sk-parallel-item:first-child::after {align-self: flex-end;width: 50%;}#sk-container-id-43 div.sk-parallel-item:last-child::after {align-self: flex-start;width: 50%;}#sk-container-id-43 div.sk-parallel-item:only-child::after {width: 0;}#sk-container-id-43 div.sk-dashed-wrapped {border: 1px dashed gray;margin: 0 0.4em 0.5em 0.4em;box-sizing: border-box;padding-bottom: 0.4em;background-color: white;}#sk-container-id-43 div.sk-label label {font-family: monospace;font-weight: bold;display: inline-block;line-height: 1.2em;}#sk-container-id-43 div.sk-label-container {text-align: center;}#sk-container-id-43 div.sk-container {/* jupyter's `normalize.less` sets `[hidden] { display: none; }` but bootstrap.min.css set `[hidden] { display: none !important; }` so we also need the `!important` here to be able to override the default hidden behavior on the sphinx rendered scikit-learn.org. See: https://github.com/scikit-learn/scikit-learn/issues/21755 */display: inline-block !important;position: relative;}#sk-container-id-43 div.sk-text-repr-fallback {display: none;}</style><div id=\"sk-container-id-43\" class=\"sk-top-container\"><div class=\"sk-text-repr-fallback\"><pre>GridSearchCV(cv=5,\n",
       "             estimator=Pipeline(steps=[(&#x27;standardscaler&#x27;, StandardScaler()),\n",
       "                                       (&#x27;sgdclassifier&#x27;,\n",
       "                                        SGDClassifier(max_iter=100,\n",
       "                                                      random_state=42))]),\n",
       "             param_grid={&#x27;sgdclassifier__eta0&#x27;: [0.01],\n",
       "                         &#x27;sgdclassifier__learning_rate&#x27;: [&#x27;constant&#x27;, &#x27;optimal&#x27;,\n",
       "                                                          &#x27;invscaling&#x27;,\n",
       "                                                          &#x27;adaptive&#x27;],\n",
       "                         &#x27;sgdclassifier__penalty&#x27;: [None, &#x27;l1&#x27;, &#x27;l2&#x27;,\n",
       "                                                    &#x27;elasticnet&#x27;]})</pre><b>In a Jupyter environment, please rerun this cell to show the HTML representation or trust the notebook. <br />On GitHub, the HTML representation is unable to render, please try loading this page with nbviewer.org.</b></div><div class=\"sk-container\" hidden><div class=\"sk-item sk-dashed-wrapped\"><div class=\"sk-label-container\"><div class=\"sk-label sk-toggleable\"><input class=\"sk-toggleable__control sk-hidden--visually\" id=\"sk-estimator-id-160\" type=\"checkbox\" ><label for=\"sk-estimator-id-160\" class=\"sk-toggleable__label sk-toggleable__label-arrow\">GridSearchCV</label><div class=\"sk-toggleable__content\"><pre>GridSearchCV(cv=5,\n",
       "             estimator=Pipeline(steps=[(&#x27;standardscaler&#x27;, StandardScaler()),\n",
       "                                       (&#x27;sgdclassifier&#x27;,\n",
       "                                        SGDClassifier(max_iter=100,\n",
       "                                                      random_state=42))]),\n",
       "             param_grid={&#x27;sgdclassifier__eta0&#x27;: [0.01],\n",
       "                         &#x27;sgdclassifier__learning_rate&#x27;: [&#x27;constant&#x27;, &#x27;optimal&#x27;,\n",
       "                                                          &#x27;invscaling&#x27;,\n",
       "                                                          &#x27;adaptive&#x27;],\n",
       "                         &#x27;sgdclassifier__penalty&#x27;: [None, &#x27;l1&#x27;, &#x27;l2&#x27;,\n",
       "                                                    &#x27;elasticnet&#x27;]})</pre></div></div></div><div class=\"sk-parallel\"><div class=\"sk-parallel-item\"><div class=\"sk-item\"><div class=\"sk-label-container\"><div class=\"sk-label sk-toggleable\"><input class=\"sk-toggleable__control sk-hidden--visually\" id=\"sk-estimator-id-161\" type=\"checkbox\" ><label for=\"sk-estimator-id-161\" class=\"sk-toggleable__label sk-toggleable__label-arrow\">estimator: Pipeline</label><div class=\"sk-toggleable__content\"><pre>Pipeline(steps=[(&#x27;standardscaler&#x27;, StandardScaler()),\n",
       "                (&#x27;sgdclassifier&#x27;,\n",
       "                 SGDClassifier(max_iter=100, random_state=42))])</pre></div></div></div><div class=\"sk-serial\"><div class=\"sk-item\"><div class=\"sk-serial\"><div class=\"sk-item\"><div class=\"sk-estimator sk-toggleable\"><input class=\"sk-toggleable__control sk-hidden--visually\" id=\"sk-estimator-id-162\" type=\"checkbox\" ><label for=\"sk-estimator-id-162\" class=\"sk-toggleable__label sk-toggleable__label-arrow\">StandardScaler</label><div class=\"sk-toggleable__content\"><pre>StandardScaler()</pre></div></div></div><div class=\"sk-item\"><div class=\"sk-estimator sk-toggleable\"><input class=\"sk-toggleable__control sk-hidden--visually\" id=\"sk-estimator-id-163\" type=\"checkbox\" ><label for=\"sk-estimator-id-163\" class=\"sk-toggleable__label sk-toggleable__label-arrow\">SGDClassifier</label><div class=\"sk-toggleable__content\"><pre>SGDClassifier(max_iter=100, random_state=42)</pre></div></div></div></div></div></div></div></div></div></div></div></div>"
      ],
      "text/plain": [
       "GridSearchCV(cv=5,\n",
       "             estimator=Pipeline(steps=[('standardscaler', StandardScaler()),\n",
       "                                       ('sgdclassifier',\n",
       "                                        SGDClassifier(max_iter=100,\n",
       "                                                      random_state=42))]),\n",
       "             param_grid={'sgdclassifier__eta0': [0.01],\n",
       "                         'sgdclassifier__learning_rate': ['constant', 'optimal',\n",
       "                                                          'invscaling',\n",
       "                                                          'adaptive'],\n",
       "                         'sgdclassifier__penalty': [None, 'l1', 'l2',\n",
       "                                                    'elasticnet']})"
      ]
     },
     "execution_count": 305,
     "metadata": {},
     "output_type": "execute_result"
    }
   ],
   "source": [
    "pipe2 = make_pipeline(StandardScaler(), SGDClassifier(loss='hinge', max_iter=max_iter, random_state=42))\n",
    "\n",
    "grid2 = {\n",
    "    'sgdclassifier__penalty': [None, 'l1', 'l2', 'elasticnet'],\n",
    "    'sgdclassifier__learning_rate': ['constant', 'optimal', 'invscaling', 'adaptive'],\n",
    "    'sgdclassifier__eta0': [0.01]  \n",
    "}\n",
    "\n",
    "sgd2 = GridSearchCV(pipe2, grid2, cv=5)\n",
    "sgd2.fit(X_train, y_train)"
   ]
  },
  {
   "cell_type": "code",
   "execution_count": 310,
   "id": "2d2e6099",
   "metadata": {},
   "outputs": [
    {
     "data": {
      "text/plain": [
       "(0.8508447011282062,\n",
       " {'sgdclassifier__eta0': 0.01,\n",
       "  'sgdclassifier__learning_rate': 'adaptive',\n",
       "  'sgdclassifier__penalty': None})"
      ]
     },
     "execution_count": 310,
     "metadata": {},
     "output_type": "execute_result"
    }
   ],
   "source": [
    "sgd2.best_score_, sgd2.best_params_"
   ]
  },
  {
   "cell_type": "code",
   "execution_count": 370,
   "id": "5d51a603",
   "metadata": {},
   "outputs": [],
   "source": [
    "penalty=None\n",
    "learning_rate = 'adaptive'"
   ]
  },
  {
   "cell_type": "code",
   "execution_count": 314,
   "id": "4355ebd3",
   "metadata": {},
   "outputs": [
    {
     "data": {
      "text/html": [
       "<style>#sk-container-id-45 {color: black;background-color: white;}#sk-container-id-45 pre{padding: 0;}#sk-container-id-45 div.sk-toggleable {background-color: white;}#sk-container-id-45 label.sk-toggleable__label {cursor: pointer;display: block;width: 100%;margin-bottom: 0;padding: 0.3em;box-sizing: border-box;text-align: center;}#sk-container-id-45 label.sk-toggleable__label-arrow:before {content: \"▸\";float: left;margin-right: 0.25em;color: #696969;}#sk-container-id-45 label.sk-toggleable__label-arrow:hover:before {color: black;}#sk-container-id-45 div.sk-estimator:hover label.sk-toggleable__label-arrow:before {color: black;}#sk-container-id-45 div.sk-toggleable__content {max-height: 0;max-width: 0;overflow: hidden;text-align: left;background-color: #f0f8ff;}#sk-container-id-45 div.sk-toggleable__content pre {margin: 0.2em;color: black;border-radius: 0.25em;background-color: #f0f8ff;}#sk-container-id-45 input.sk-toggleable__control:checked~div.sk-toggleable__content {max-height: 200px;max-width: 100%;overflow: auto;}#sk-container-id-45 input.sk-toggleable__control:checked~label.sk-toggleable__label-arrow:before {content: \"▾\";}#sk-container-id-45 div.sk-estimator input.sk-toggleable__control:checked~label.sk-toggleable__label {background-color: #d4ebff;}#sk-container-id-45 div.sk-label input.sk-toggleable__control:checked~label.sk-toggleable__label {background-color: #d4ebff;}#sk-container-id-45 input.sk-hidden--visually {border: 0;clip: rect(1px 1px 1px 1px);clip: rect(1px, 1px, 1px, 1px);height: 1px;margin: -1px;overflow: hidden;padding: 0;position: absolute;width: 1px;}#sk-container-id-45 div.sk-estimator {font-family: monospace;background-color: #f0f8ff;border: 1px dotted black;border-radius: 0.25em;box-sizing: border-box;margin-bottom: 0.5em;}#sk-container-id-45 div.sk-estimator:hover {background-color: #d4ebff;}#sk-container-id-45 div.sk-parallel-item::after {content: \"\";width: 100%;border-bottom: 1px solid gray;flex-grow: 1;}#sk-container-id-45 div.sk-label:hover label.sk-toggleable__label {background-color: #d4ebff;}#sk-container-id-45 div.sk-serial::before {content: \"\";position: absolute;border-left: 1px solid gray;box-sizing: border-box;top: 0;bottom: 0;left: 50%;z-index: 0;}#sk-container-id-45 div.sk-serial {display: flex;flex-direction: column;align-items: center;background-color: white;padding-right: 0.2em;padding-left: 0.2em;position: relative;}#sk-container-id-45 div.sk-item {position: relative;z-index: 1;}#sk-container-id-45 div.sk-parallel {display: flex;align-items: stretch;justify-content: center;background-color: white;position: relative;}#sk-container-id-45 div.sk-item::before, #sk-container-id-45 div.sk-parallel-item::before {content: \"\";position: absolute;border-left: 1px solid gray;box-sizing: border-box;top: 0;bottom: 0;left: 50%;z-index: -1;}#sk-container-id-45 div.sk-parallel-item {display: flex;flex-direction: column;z-index: 1;position: relative;background-color: white;}#sk-container-id-45 div.sk-parallel-item:first-child::after {align-self: flex-end;width: 50%;}#sk-container-id-45 div.sk-parallel-item:last-child::after {align-self: flex-start;width: 50%;}#sk-container-id-45 div.sk-parallel-item:only-child::after {width: 0;}#sk-container-id-45 div.sk-dashed-wrapped {border: 1px dashed gray;margin: 0 0.4em 0.5em 0.4em;box-sizing: border-box;padding-bottom: 0.4em;background-color: white;}#sk-container-id-45 div.sk-label label {font-family: monospace;font-weight: bold;display: inline-block;line-height: 1.2em;}#sk-container-id-45 div.sk-label-container {text-align: center;}#sk-container-id-45 div.sk-container {/* jupyter's `normalize.less` sets `[hidden] { display: none; }` but bootstrap.min.css set `[hidden] { display: none !important; }` so we also need the `!important` here to be able to override the default hidden behavior on the sphinx rendered scikit-learn.org. See: https://github.com/scikit-learn/scikit-learn/issues/21755 */display: inline-block !important;position: relative;}#sk-container-id-45 div.sk-text-repr-fallback {display: none;}</style><div id=\"sk-container-id-45\" class=\"sk-top-container\"><div class=\"sk-text-repr-fallback\"><pre>GridSearchCV(cv=5,\n",
       "             estimator=Pipeline(steps=[(&#x27;standardscaler&#x27;, StandardScaler()),\n",
       "                                       (&#x27;sgdclassifier&#x27;,\n",
       "                                        SGDClassifier(learning_rate=&#x27;adaptive&#x27;,\n",
       "                                                      max_iter=100,\n",
       "                                                      random_state=42))]),\n",
       "             param_grid={&#x27;sgdclassifier__eta0&#x27;: [0.001, 0.01, 0.1]})</pre><b>In a Jupyter environment, please rerun this cell to show the HTML representation or trust the notebook. <br />On GitHub, the HTML representation is unable to render, please try loading this page with nbviewer.org.</b></div><div class=\"sk-container\" hidden><div class=\"sk-item sk-dashed-wrapped\"><div class=\"sk-label-container\"><div class=\"sk-label sk-toggleable\"><input class=\"sk-toggleable__control sk-hidden--visually\" id=\"sk-estimator-id-168\" type=\"checkbox\" ><label for=\"sk-estimator-id-168\" class=\"sk-toggleable__label sk-toggleable__label-arrow\">GridSearchCV</label><div class=\"sk-toggleable__content\"><pre>GridSearchCV(cv=5,\n",
       "             estimator=Pipeline(steps=[(&#x27;standardscaler&#x27;, StandardScaler()),\n",
       "                                       (&#x27;sgdclassifier&#x27;,\n",
       "                                        SGDClassifier(learning_rate=&#x27;adaptive&#x27;,\n",
       "                                                      max_iter=100,\n",
       "                                                      random_state=42))]),\n",
       "             param_grid={&#x27;sgdclassifier__eta0&#x27;: [0.001, 0.01, 0.1]})</pre></div></div></div><div class=\"sk-parallel\"><div class=\"sk-parallel-item\"><div class=\"sk-item\"><div class=\"sk-label-container\"><div class=\"sk-label sk-toggleable\"><input class=\"sk-toggleable__control sk-hidden--visually\" id=\"sk-estimator-id-169\" type=\"checkbox\" ><label for=\"sk-estimator-id-169\" class=\"sk-toggleable__label sk-toggleable__label-arrow\">estimator: Pipeline</label><div class=\"sk-toggleable__content\"><pre>Pipeline(steps=[(&#x27;standardscaler&#x27;, StandardScaler()),\n",
       "                (&#x27;sgdclassifier&#x27;,\n",
       "                 SGDClassifier(learning_rate=&#x27;adaptive&#x27;, max_iter=100,\n",
       "                               random_state=42))])</pre></div></div></div><div class=\"sk-serial\"><div class=\"sk-item\"><div class=\"sk-serial\"><div class=\"sk-item\"><div class=\"sk-estimator sk-toggleable\"><input class=\"sk-toggleable__control sk-hidden--visually\" id=\"sk-estimator-id-170\" type=\"checkbox\" ><label for=\"sk-estimator-id-170\" class=\"sk-toggleable__label sk-toggleable__label-arrow\">StandardScaler</label><div class=\"sk-toggleable__content\"><pre>StandardScaler()</pre></div></div></div><div class=\"sk-item\"><div class=\"sk-estimator sk-toggleable\"><input class=\"sk-toggleable__control sk-hidden--visually\" id=\"sk-estimator-id-171\" type=\"checkbox\" ><label for=\"sk-estimator-id-171\" class=\"sk-toggleable__label sk-toggleable__label-arrow\">SGDClassifier</label><div class=\"sk-toggleable__content\"><pre>SGDClassifier(learning_rate=&#x27;adaptive&#x27;, max_iter=100, random_state=42)</pre></div></div></div></div></div></div></div></div></div></div></div></div>"
      ],
      "text/plain": [
       "GridSearchCV(cv=5,\n",
       "             estimator=Pipeline(steps=[('standardscaler', StandardScaler()),\n",
       "                                       ('sgdclassifier',\n",
       "                                        SGDClassifier(learning_rate='adaptive',\n",
       "                                                      max_iter=100,\n",
       "                                                      random_state=42))]),\n",
       "             param_grid={'sgdclassifier__eta0': [0.001, 0.01, 0.1]})"
      ]
     },
     "execution_count": 314,
     "metadata": {},
     "output_type": "execute_result"
    }
   ],
   "source": [
    "pipe3 = make_pipeline(StandardScaler(), SGDClassifier(loss=loss, max_iter=max_iter, random_state=42,learning_rate=learning_rate))\n",
    "\n",
    "grid3 = {\n",
    "    'sgdclassifier__eta0': [0.001, 0.01, 0.1]  \n",
    "}\n",
    "\n",
    "sgd3 = GridSearchCV(pipe3, grid3, cv=5)\n",
    "sgd3.fit(X_train, y_train)"
   ]
  },
  {
   "cell_type": "code",
   "execution_count": 315,
   "id": "d90d7a2c",
   "metadata": {},
   "outputs": [
    {
     "data": {
      "text/plain": [
       "(0.8508689818122059, {'sgdclassifier__eta0': 0.001})"
      ]
     },
     "execution_count": 315,
     "metadata": {},
     "output_type": "execute_result"
    }
   ],
   "source": [
    "sgd3.best_score_, sgd3.best_params_"
   ]
  },
  {
   "cell_type": "code",
   "execution_count": 371,
   "id": "90143d67",
   "metadata": {},
   "outputs": [],
   "source": [
    "eta0 = 0.001"
   ]
  },
  {
   "cell_type": "code",
   "execution_count": 59,
   "id": "f5eb2d65",
   "metadata": {},
   "outputs": [
    {
     "name": "stderr",
     "output_type": "stream",
     "text": [
      "100%|██████████████████████████████████████████████████████████████████████████████████| 49/49 [02:46<00:00,  3.40s/it]\n"
     ]
    },
    {
     "data": {
      "text/plain": [
       "([0.75663356599842,\n",
       "  0.7779969268495367,\n",
       "  0.7943957582170237,\n",
       "  0.7943593346125294,\n",
       "  0.794917695127907,\n",
       "  0.7951968896590341,\n",
       "  0.7942197332030643,\n",
       "  0.7949723253777934,\n",
       "  0.7956277690320686,\n",
       "  0.795160477289117,\n",
       "  0.7941287014494912,\n",
       "  0.7950390832617376,\n",
       "  0.7962286492914009,\n",
       "  0.8193702368949296,\n",
       "  0.8191821255017535,\n",
       "  0.8178044009305243,\n",
       "  0.8194066347151484,\n",
       "  0.8201653141890146,\n",
       "  0.819855784641744,\n",
       "  0.822514090604777,\n",
       "  0.8211788706752838,\n",
       "  0.8222166746943861,\n",
       "  0.8225929610205606,\n",
       "  0.8237036221940149,\n",
       "  0.8233152071287423,\n",
       "  0.8236186705568166,\n",
       "  0.8237461231522829,\n",
       "  0.8229207091844939,\n",
       "  0.8234547956460695,\n",
       "  0.8237582544698088,\n",
       "  0.8239888822918182,\n",
       "  0.8244440642655316,\n",
       "  0.8246140060321687,\n",
       "  0.8314782069432741,\n",
       "  0.8334992147518561,\n",
       "  0.8330136828439538,\n",
       "  0.8380389368751959,\n",
       "  0.8416804160549247,\n",
       "  0.8419474602986663,\n",
       "  0.8419353194041237,\n",
       "  0.8421356013437593,\n",
       "  0.8421416729881577,\n",
       "  0.8419353181149098,\n",
       "  0.8419110420352002,\n",
       "  0.8418503495337589,\n",
       "  0.8422873278088545,\n",
       "  0.8505413553251447,\n",
       "  0.8507173613692443,\n",
       "  0.8506688069997441],\n",
       " [0.7568702828914794,\n",
       "  0.7783305798035804,\n",
       "  0.79323639152379,\n",
       "  0.7945958976664642,\n",
       "  0.7952999461552259,\n",
       "  0.7952755918041022,\n",
       "  0.793697718626417,\n",
       "  0.7944259623453149,\n",
       "  0.7950571982489265,\n",
       "  0.795469778342402,\n",
       "  0.7935277891986375,\n",
       "  0.7942802694012611,\n",
       "  0.7970235299570747,\n",
       "  0.8181686229266056,\n",
       "  0.8195765195295523,\n",
       "  0.8174645361309396,\n",
       "  0.8192853929497202,\n",
       "  0.8196008797740459,\n",
       "  0.8200378348454395,\n",
       "  0.8218828161739177,\n",
       "  0.8206690265487768,\n",
       "  0.821615817050468,\n",
       "  0.8222956467356137,\n",
       "  0.8237521606935742,\n",
       "  0.8224411982387899,\n",
       "  0.8233393802255222,\n",
       "  0.8233151496351665,\n",
       "  0.8236793422150545,\n",
       "  0.8229995861970322,\n",
       "  0.8235579152215754,\n",
       "  0.8234122753178509,\n",
       "  0.8237279065297389,\n",
       "  0.8236065148964796,\n",
       "  0.831156407945076,\n",
       "  0.8327101241995294,\n",
       "  0.832297432132026,\n",
       "  0.8373469569186704,\n",
       "  0.8410127331855455,\n",
       "  0.8412554840385296,\n",
       "  0.8411583789826398,\n",
       "  0.8412312151412695,\n",
       "  0.8412312269280093,\n",
       "  0.8412069698174891,\n",
       "  0.8409642012843952,\n",
       "  0.8409641836042855,\n",
       "  0.8414253515859251,\n",
       "  0.85006781353413,\n",
       "  0.8498250656278306,\n",
       "  0.8499221736304051])"
      ]
     },
     "execution_count": 59,
     "metadata": {},
     "output_type": "execute_result"
    }
   ],
   "source": [
    "from sklearn.model_selection import cross_validate\n",
    "ncomp_ = np.arange(1,50,1)\n",
    "train_res = []\n",
    "test_res = []\n",
    "all_train = {nc:[] for nc in ncomp_}\n",
    "all_test = {nc:[] for nc in ncomp_}\n",
    "for nc in tqdm(ncomp_):\n",
    "    pipe = make_pipeline(StandardScaler(), PCA(n_components=nc), SGDClassifier(loss=loss, max_iter=max_iter,penalty=penalty,learning_rate=learning_rate,eta0=eta0, alpha=alpha))\n",
    "    cv = cross_validate(pipe, X_train,y_train, cv=5, return_train_score=True)\n",
    "    \n",
    "    train_res.append(cv['train_score'].mean())\n",
    "    test_res.append(cv['test_score'].mean())\n",
    "    \n",
    "    all_train[nc] = cv['train_score']\n",
    "    all_test[nc] = cv['test_score']\n",
    "\n",
    "train_res, test_res"
   ]
  },
  {
   "cell_type": "code",
   "execution_count": 61,
   "id": "61485e48",
   "metadata": {
    "scrolled": false
   },
   "outputs": [
    {
     "data": {
      "image/png": "[encoded data removed]",
      "text/plain": [
       "<Figure size 640x480 with 1 Axes>"
      ]
     },
     "metadata": {},
     "output_type": "display_data"
    }
   ],
   "source": [
    "plt.plot(ncomp_,train_res)\n",
    "plt.plot(ncomp_,test_res)\n",
    "plt.show()"
   ]
  },
  {
   "cell_type": "code",
   "execution_count": 62,
   "id": "98f2144d",
   "metadata": {},
   "outputs": [],
   "source": [
    "#PCA semble pas utile"
   ]
  },
  {
   "cell_type": "code",
   "execution_count": 408,
   "id": "8f3b5060",
   "metadata": {},
   "outputs": [
    {
     "data": {
      "text/html": [
       "<style>#sk-container-id-69 {color: black;background-color: white;}#sk-container-id-69 pre{padding: 0;}#sk-container-id-69 div.sk-toggleable {background-color: white;}#sk-container-id-69 label.sk-toggleable__label {cursor: pointer;display: block;width: 100%;margin-bottom: 0;padding: 0.3em;box-sizing: border-box;text-align: center;}#sk-container-id-69 label.sk-toggleable__label-arrow:before {content: \"▸\";float: left;margin-right: 0.25em;color: #696969;}#sk-container-id-69 label.sk-toggleable__label-arrow:hover:before {color: black;}#sk-container-id-69 div.sk-estimator:hover label.sk-toggleable__label-arrow:before {color: black;}#sk-container-id-69 div.sk-toggleable__content {max-height: 0;max-width: 0;overflow: hidden;text-align: left;background-color: #f0f8ff;}#sk-container-id-69 div.sk-toggleable__content pre {margin: 0.2em;color: black;border-radius: 0.25em;background-color: #f0f8ff;}#sk-container-id-69 input.sk-toggleable__control:checked~div.sk-toggleable__content {max-height: 200px;max-width: 100%;overflow: auto;}#sk-container-id-69 input.sk-toggleable__control:checked~label.sk-toggleable__label-arrow:before {content: \"▾\";}#sk-container-id-69 div.sk-estimator input.sk-toggleable__control:checked~label.sk-toggleable__label {background-color: #d4ebff;}#sk-container-id-69 div.sk-label input.sk-toggleable__control:checked~label.sk-toggleable__label {background-color: #d4ebff;}#sk-container-id-69 input.sk-hidden--visually {border: 0;clip: rect(1px 1px 1px 1px);clip: rect(1px, 1px, 1px, 1px);height: 1px;margin: -1px;overflow: hidden;padding: 0;position: absolute;width: 1px;}#sk-container-id-69 div.sk-estimator {font-family: monospace;background-color: #f0f8ff;border: 1px dotted black;border-radius: 0.25em;box-sizing: border-box;margin-bottom: 0.5em;}#sk-container-id-69 div.sk-estimator:hover {background-color: #d4ebff;}#sk-container-id-69 div.sk-parallel-item::after {content: \"\";width: 100%;border-bottom: 1px solid gray;flex-grow: 1;}#sk-container-id-69 div.sk-label:hover label.sk-toggleable__label {background-color: #d4ebff;}#sk-container-id-69 div.sk-serial::before {content: \"\";position: absolute;border-left: 1px solid gray;box-sizing: border-box;top: 0;bottom: 0;left: 50%;z-index: 0;}#sk-container-id-69 div.sk-serial {display: flex;flex-direction: column;align-items: center;background-color: white;padding-right: 0.2em;padding-left: 0.2em;position: relative;}#sk-container-id-69 div.sk-item {position: relative;z-index: 1;}#sk-container-id-69 div.sk-parallel {display: flex;align-items: stretch;justify-content: center;background-color: white;position: relative;}#sk-container-id-69 div.sk-item::before, #sk-container-id-69 div.sk-parallel-item::before {content: \"\";position: absolute;border-left: 1px solid gray;box-sizing: border-box;top: 0;bottom: 0;left: 50%;z-index: -1;}#sk-container-id-69 div.sk-parallel-item {display: flex;flex-direction: column;z-index: 1;position: relative;background-color: white;}#sk-container-id-69 div.sk-parallel-item:first-child::after {align-self: flex-end;width: 50%;}#sk-container-id-69 div.sk-parallel-item:last-child::after {align-self: flex-start;width: 50%;}#sk-container-id-69 div.sk-parallel-item:only-child::after {width: 0;}#sk-container-id-69 div.sk-dashed-wrapped {border: 1px dashed gray;margin: 0 0.4em 0.5em 0.4em;box-sizing: border-box;padding-bottom: 0.4em;background-color: white;}#sk-container-id-69 div.sk-label label {font-family: monospace;font-weight: bold;display: inline-block;line-height: 1.2em;}#sk-container-id-69 div.sk-label-container {text-align: center;}#sk-container-id-69 div.sk-container {/* jupyter's `normalize.less` sets `[hidden] { display: none; }` but bootstrap.min.css set `[hidden] { display: none !important; }` so we also need the `!important` here to be able to override the default hidden behavior on the sphinx rendered scikit-learn.org. See: https://github.com/scikit-learn/scikit-learn/issues/21755 */display: inline-block !important;position: relative;}#sk-container-id-69 div.sk-text-repr-fallback {display: none;}</style><div id=\"sk-container-id-69\" class=\"sk-top-container\"><div class=\"sk-text-repr-fallback\"><pre>SGDClassifier(alpha=0.001, eta0=0.001, learning_rate=&#x27;adaptive&#x27;, max_iter=100,\n",
       "              penalty=None)</pre><b>In a Jupyter environment, please rerun this cell to show the HTML representation or trust the notebook. <br />On GitHub, the HTML representation is unable to render, please try loading this page with nbviewer.org.</b></div><div class=\"sk-container\" hidden><div class=\"sk-item\"><div class=\"sk-estimator sk-toggleable\"><input class=\"sk-toggleable__control sk-hidden--visually\" id=\"sk-estimator-id-189\" type=\"checkbox\" checked><label for=\"sk-estimator-id-189\" class=\"sk-toggleable__label sk-toggleable__label-arrow\">SGDClassifier</label><div class=\"sk-toggleable__content\"><pre>SGDClassifier(alpha=0.001, eta0=0.001, learning_rate=&#x27;adaptive&#x27;, max_iter=100,\n",
       "              penalty=None)</pre></div></div></div></div></div>"
      ],
      "text/plain": [
       "SGDClassifier(alpha=0.001, eta0=0.001, learning_rate='adaptive', max_iter=100,\n",
       "              penalty=None)"
      ]
     },
     "execution_count": 408,
     "metadata": {},
     "output_type": "execute_result"
    }
   ],
   "source": [
    "sgd_opti = SGDClassifier(loss=loss, max_iter=max_iter,penalty=penalty,learning_rate=learning_rate,eta0=eta0, alpha=alpha)\n",
    "sgd_opti.fit(X_train_scaled, y_train)"
   ]
  },
  {
   "cell_type": "code",
   "execution_count": 409,
   "id": "e94188c1",
   "metadata": {},
   "outputs": [
    {
     "data": {
      "text/plain": [
       "0.8516216741114779"
      ]
     },
     "execution_count": 409,
     "metadata": {},
     "output_type": "execute_result"
    }
   ],
   "source": [
    "SGDSCORE = sgd_opti.score(X_test_scaled, y_test)\n",
    "SGDSCORE"
   ]
  },
  {
   "cell_type": "code",
   "execution_count": null,
   "id": "0ae4cbbe",
   "metadata": {},
   "outputs": [],
   "source": []
  },
  {
   "cell_type": "code",
   "execution_count": null,
   "id": "4755265b",
   "metadata": {},
   "outputs": [],
   "source": []
  },
  {
   "cell_type": "code",
   "execution_count": 118,
   "id": "155626fc",
   "metadata": {},
   "outputs": [],
   "source": [
    "from sklearn.ensemble import RandomForestClassifier"
   ]
  },
  {
   "cell_type": "code",
   "execution_count": 143,
   "id": "5a68e359",
   "metadata": {},
   "outputs": [
    {
     "data": {
      "text/plain": [
       "(0.8484412905878964, {'n_estimators': 100})"
      ]
     },
     "execution_count": 143,
     "metadata": {},
     "output_type": "execute_result"
    }
   ],
   "source": [
    "model_rf.best_score_, model_rf.best_params_"
   ]
  },
  {
   "cell_type": "code",
   "execution_count": 144,
   "id": "280faa38",
   "metadata": {},
   "outputs": [],
   "source": [
    "n_estimators = 100"
   ]
  },
  {
   "cell_type": "code",
   "execution_count": 427,
   "id": "4c1f7c37",
   "metadata": {},
   "outputs": [
    {
     "data": {
      "text/html": [
       "<style>#sk-container-id-77 {color: black;background-color: white;}#sk-container-id-77 pre{padding: 0;}#sk-container-id-77 div.sk-toggleable {background-color: white;}#sk-container-id-77 label.sk-toggleable__label {cursor: pointer;display: block;width: 100%;margin-bottom: 0;padding: 0.3em;box-sizing: border-box;text-align: center;}#sk-container-id-77 label.sk-toggleable__label-arrow:before {content: \"▸\";float: left;margin-right: 0.25em;color: #696969;}#sk-container-id-77 label.sk-toggleable__label-arrow:hover:before {color: black;}#sk-container-id-77 div.sk-estimator:hover label.sk-toggleable__label-arrow:before {color: black;}#sk-container-id-77 div.sk-toggleable__content {max-height: 0;max-width: 0;overflow: hidden;text-align: left;background-color: #f0f8ff;}#sk-container-id-77 div.sk-toggleable__content pre {margin: 0.2em;color: black;border-radius: 0.25em;background-color: #f0f8ff;}#sk-container-id-77 input.sk-toggleable__control:checked~div.sk-toggleable__content {max-height: 200px;max-width: 100%;overflow: auto;}#sk-container-id-77 input.sk-toggleable__control:checked~label.sk-toggleable__label-arrow:before {content: \"▾\";}#sk-container-id-77 div.sk-estimator input.sk-toggleable__control:checked~label.sk-toggleable__label {background-color: #d4ebff;}#sk-container-id-77 div.sk-label input.sk-toggleable__control:checked~label.sk-toggleable__label {background-color: #d4ebff;}#sk-container-id-77 input.sk-hidden--visually {border: 0;clip: rect(1px 1px 1px 1px);clip: rect(1px, 1px, 1px, 1px);height: 1px;margin: -1px;overflow: hidden;padding: 0;position: absolute;width: 1px;}#sk-container-id-77 div.sk-estimator {font-family: monospace;background-color: #f0f8ff;border: 1px dotted black;border-radius: 0.25em;box-sizing: border-box;margin-bottom: 0.5em;}#sk-container-id-77 div.sk-estimator:hover {background-color: #d4ebff;}#sk-container-id-77 div.sk-parallel-item::after {content: \"\";width: 100%;border-bottom: 1px solid gray;flex-grow: 1;}#sk-container-id-77 div.sk-label:hover label.sk-toggleable__label {background-color: #d4ebff;}#sk-container-id-77 div.sk-serial::before {content: \"\";position: absolute;border-left: 1px solid gray;box-sizing: border-box;top: 0;bottom: 0;left: 50%;z-index: 0;}#sk-container-id-77 div.sk-serial {display: flex;flex-direction: column;align-items: center;background-color: white;padding-right: 0.2em;padding-left: 0.2em;position: relative;}#sk-container-id-77 div.sk-item {position: relative;z-index: 1;}#sk-container-id-77 div.sk-parallel {display: flex;align-items: stretch;justify-content: center;background-color: white;position: relative;}#sk-container-id-77 div.sk-item::before, #sk-container-id-77 div.sk-parallel-item::before {content: \"\";position: absolute;border-left: 1px solid gray;box-sizing: border-box;top: 0;bottom: 0;left: 50%;z-index: -1;}#sk-container-id-77 div.sk-parallel-item {display: flex;flex-direction: column;z-index: 1;position: relative;background-color: white;}#sk-container-id-77 div.sk-parallel-item:first-child::after {align-self: flex-end;width: 50%;}#sk-container-id-77 div.sk-parallel-item:last-child::after {align-self: flex-start;width: 50%;}#sk-container-id-77 div.sk-parallel-item:only-child::after {width: 0;}#sk-container-id-77 div.sk-dashed-wrapped {border: 1px dashed gray;margin: 0 0.4em 0.5em 0.4em;box-sizing: border-box;padding-bottom: 0.4em;background-color: white;}#sk-container-id-77 div.sk-label label {font-family: monospace;font-weight: bold;display: inline-block;line-height: 1.2em;}#sk-container-id-77 div.sk-label-container {text-align: center;}#sk-container-id-77 div.sk-container {/* jupyter's `normalize.less` sets `[hidden] { display: none; }` but bootstrap.min.css set `[hidden] { display: none !important; }` so we also need the `!important` here to be able to override the default hidden behavior on the sphinx rendered scikit-learn.org. See: https://github.com/scikit-learn/scikit-learn/issues/21755 */display: inline-block !important;position: relative;}#sk-container-id-77 div.sk-text-repr-fallback {display: none;}</style><div id=\"sk-container-id-77\" class=\"sk-top-container\"><div class=\"sk-text-repr-fallback\"><pre>RandomizedSearchCV(cv=5, estimator=RandomForestClassifier(random_state=42),\n",
       "                   n_iter=8,\n",
       "                   param_distributions={&#x27;max_depth&#x27;: [10],\n",
       "                                        &#x27;max_leaf_nodes&#x27;: [400, 600, 800],\n",
       "                                        &#x27;n_estimators&#x27;: [500, 800, 1000]},\n",
       "                   random_state=42, verbose=2)</pre><b>In a Jupyter environment, please rerun this cell to show the HTML representation or trust the notebook. <br />On GitHub, the HTML representation is unable to render, please try loading this page with nbviewer.org.</b></div><div class=\"sk-container\" hidden><div class=\"sk-item sk-dashed-wrapped\"><div class=\"sk-label-container\"><div class=\"sk-label sk-toggleable\"><input class=\"sk-toggleable__control sk-hidden--visually\" id=\"sk-estimator-id-207\" type=\"checkbox\" ><label for=\"sk-estimator-id-207\" class=\"sk-toggleable__label sk-toggleable__label-arrow\">RandomizedSearchCV</label><div class=\"sk-toggleable__content\"><pre>RandomizedSearchCV(cv=5, estimator=RandomForestClassifier(random_state=42),\n",
       "                   n_iter=8,\n",
       "                   param_distributions={&#x27;max_depth&#x27;: [10],\n",
       "                                        &#x27;max_leaf_nodes&#x27;: [400, 600, 800],\n",
       "                                        &#x27;n_estimators&#x27;: [500, 800, 1000]},\n",
       "                   random_state=42, verbose=2)</pre></div></div></div><div class=\"sk-parallel\"><div class=\"sk-parallel-item\"><div class=\"sk-item\"><div class=\"sk-label-container\"><div class=\"sk-label sk-toggleable\"><input class=\"sk-toggleable__control sk-hidden--visually\" id=\"sk-estimator-id-208\" type=\"checkbox\" ><label for=\"sk-estimator-id-208\" class=\"sk-toggleable__label sk-toggleable__label-arrow\">estimator: RandomForestClassifier</label><div class=\"sk-toggleable__content\"><pre>RandomForestClassifier(random_state=42)</pre></div></div></div><div class=\"sk-serial\"><div class=\"sk-item\"><div class=\"sk-estimator sk-toggleable\"><input class=\"sk-toggleable__control sk-hidden--visually\" id=\"sk-estimator-id-209\" type=\"checkbox\" ><label for=\"sk-estimator-id-209\" class=\"sk-toggleable__label sk-toggleable__label-arrow\">RandomForestClassifier</label><div class=\"sk-toggleable__content\"><pre>RandomForestClassifier(random_state=42)</pre></div></div></div></div></div></div></div></div></div></div>"
      ],
      "text/plain": [
       "RandomizedSearchCV(cv=5, estimator=RandomForestClassifier(random_state=42),\n",
       "                   n_iter=8,\n",
       "                   param_distributions={'max_depth': [10],\n",
       "                                        'max_leaf_nodes': [400, 600, 800],\n",
       "                                        'n_estimators': [500, 800, 1000]},\n",
       "                   random_state=42, verbose=2)"
      ]
     },
     "execution_count": 427,
     "metadata": {},
     "output_type": "execute_result"
    }
   ],
   "source": [
    "grid_rf2 = {\n",
    "    'n_estimators':[500, 800, 1000],\n",
    "    'max_depth' :[10],\n",
    "    'max_leaf_nodes' :[400, 600, 800]\n",
    "}\n",
    "model_rf2= RandomizedSearchCV(RandomForestClassifier(random_state=42), grid_rf2,random_state=42, n_iter=8, cv=5, verbose=2)\n",
    "model_rf2"
   ]
  },
  {
   "cell_type": "code",
   "execution_count": 428,
   "id": "0e4ac786",
   "metadata": {
    "scrolled": false
   },
   "outputs": [
    {
     "name": "stdout",
     "output_type": "stream",
     "text": [
      "Fitting 5 folds for each of 8 candidates, totalling 40 fits\n",
      "[CV] END .max_depth=10, max_leaf_nodes=800, n_estimators=800; total time= 1.1min\n",
      "[CV] END .max_depth=10, max_leaf_nodes=800, n_estimators=800; total time= 1.2min\n",
      "[CV] END .max_depth=10, max_leaf_nodes=800, n_estimators=800; total time= 1.2min\n",
      "[CV] END .max_depth=10, max_leaf_nodes=800, n_estimators=800; total time= 1.2min\n",
      "[CV] END .max_depth=10, max_leaf_nodes=800, n_estimators=800; total time= 1.2min\n",
      "[CV] END .max_depth=10, max_leaf_nodes=400, n_estimators=800; total time= 1.1min\n",
      "[CV] END .max_depth=10, max_leaf_nodes=400, n_estimators=800; total time= 1.1min\n",
      "[CV] END .max_depth=10, max_leaf_nodes=400, n_estimators=800; total time=  53.2s\n",
      "[CV] END .max_depth=10, max_leaf_nodes=400, n_estimators=800; total time=  46.9s\n",
      "[CV] END .max_depth=10, max_leaf_nodes=400, n_estimators=800; total time=  46.0s\n",
      "[CV] END max_depth=10, max_leaf_nodes=600, n_estimators=1000; total time= 1.0min\n",
      "[CV] END max_depth=10, max_leaf_nodes=600, n_estimators=1000; total time= 1.0min\n",
      "[CV] END max_depth=10, max_leaf_nodes=600, n_estimators=1000; total time= 1.1min\n",
      "[CV] END max_depth=10, max_leaf_nodes=600, n_estimators=1000; total time= 1.1min\n",
      "[CV] END max_depth=10, max_leaf_nodes=600, n_estimators=1000; total time= 1.0min\n",
      "[CV] END .max_depth=10, max_leaf_nodes=400, n_estimators=500; total time=  28.6s\n",
      "[CV] END .max_depth=10, max_leaf_nodes=400, n_estimators=500; total time=  30.2s\n",
      "[CV] END .max_depth=10, max_leaf_nodes=400, n_estimators=500; total time=  29.1s\n",
      "[CV] END .max_depth=10, max_leaf_nodes=400, n_estimators=500; total time=  35.8s\n",
      "[CV] END .max_depth=10, max_leaf_nodes=400, n_estimators=500; total time=  37.5s\n",
      "[CV] END max_depth=10, max_leaf_nodes=800, n_estimators=1000; total time= 1.2min\n",
      "[CV] END max_depth=10, max_leaf_nodes=800, n_estimators=1000; total time= 1.1min\n",
      "[CV] END max_depth=10, max_leaf_nodes=800, n_estimators=1000; total time= 1.1min\n",
      "[CV] END max_depth=10, max_leaf_nodes=800, n_estimators=1000; total time= 1.1min\n",
      "[CV] END max_depth=10, max_leaf_nodes=800, n_estimators=1000; total time= 1.2min\n",
      "[CV] END max_depth=10, max_leaf_nodes=400, n_estimators=1000; total time= 1.3min\n",
      "[CV] END max_depth=10, max_leaf_nodes=400, n_estimators=1000; total time= 1.0min\n",
      "[CV] END max_depth=10, max_leaf_nodes=400, n_estimators=1000; total time= 1.0min\n",
      "[CV] END max_depth=10, max_leaf_nodes=400, n_estimators=1000; total time= 1.1min\n",
      "[CV] END max_depth=10, max_leaf_nodes=400, n_estimators=1000; total time= 1.1min\n",
      "[CV] END .max_depth=10, max_leaf_nodes=600, n_estimators=800; total time= 1.0min\n",
      "[CV] END .max_depth=10, max_leaf_nodes=600, n_estimators=800; total time= 1.1min\n",
      "[CV] END .max_depth=10, max_leaf_nodes=600, n_estimators=800; total time= 1.1min\n",
      "[CV] END .max_depth=10, max_leaf_nodes=600, n_estimators=800; total time= 1.1min\n",
      "[CV] END .max_depth=10, max_leaf_nodes=600, n_estimators=800; total time=  53.0s\n",
      "[CV] END .max_depth=10, max_leaf_nodes=600, n_estimators=500; total time=  35.4s\n",
      "[CV] END .max_depth=10, max_leaf_nodes=600, n_estimators=500; total time=  32.9s\n",
      "[CV] END .max_depth=10, max_leaf_nodes=600, n_estimators=500; total time=  31.4s\n",
      "[CV] END .max_depth=10, max_leaf_nodes=600, n_estimators=500; total time=  31.8s\n",
      "[CV] END .max_depth=10, max_leaf_nodes=600, n_estimators=500; total time=  31.2s\n"
     ]
    },
    {
     "data": {
      "text/html": [
       "<style>#sk-container-id-78 {color: black;background-color: white;}#sk-container-id-78 pre{padding: 0;}#sk-container-id-78 div.sk-toggleable {background-color: white;}#sk-container-id-78 label.sk-toggleable__label {cursor: pointer;display: block;width: 100%;margin-bottom: 0;padding: 0.3em;box-sizing: border-box;text-align: center;}#sk-container-id-78 label.sk-toggleable__label-arrow:before {content: \"▸\";float: left;margin-right: 0.25em;color: #696969;}#sk-container-id-78 label.sk-toggleable__label-arrow:hover:before {color: black;}#sk-container-id-78 div.sk-estimator:hover label.sk-toggleable__label-arrow:before {color: black;}#sk-container-id-78 div.sk-toggleable__content {max-height: 0;max-width: 0;overflow: hidden;text-align: left;background-color: #f0f8ff;}#sk-container-id-78 div.sk-toggleable__content pre {margin: 0.2em;color: black;border-radius: 0.25em;background-color: #f0f8ff;}#sk-container-id-78 input.sk-toggleable__control:checked~div.sk-toggleable__content {max-height: 200px;max-width: 100%;overflow: auto;}#sk-container-id-78 input.sk-toggleable__control:checked~label.sk-toggleable__label-arrow:before {content: \"▾\";}#sk-container-id-78 div.sk-estimator input.sk-toggleable__control:checked~label.sk-toggleable__label {background-color: #d4ebff;}#sk-container-id-78 div.sk-label input.sk-toggleable__control:checked~label.sk-toggleable__label {background-color: #d4ebff;}#sk-container-id-78 input.sk-hidden--visually {border: 0;clip: rect(1px 1px 1px 1px);clip: rect(1px, 1px, 1px, 1px);height: 1px;margin: -1px;overflow: hidden;padding: 0;position: absolute;width: 1px;}#sk-container-id-78 div.sk-estimator {font-family: monospace;background-color: #f0f8ff;border: 1px dotted black;border-radius: 0.25em;box-sizing: border-box;margin-bottom: 0.5em;}#sk-container-id-78 div.sk-estimator:hover {background-color: #d4ebff;}#sk-container-id-78 div.sk-parallel-item::after {content: \"\";width: 100%;border-bottom: 1px solid gray;flex-grow: 1;}#sk-container-id-78 div.sk-label:hover label.sk-toggleable__label {background-color: #d4ebff;}#sk-container-id-78 div.sk-serial::before {content: \"\";position: absolute;border-left: 1px solid gray;box-sizing: border-box;top: 0;bottom: 0;left: 50%;z-index: 0;}#sk-container-id-78 div.sk-serial {display: flex;flex-direction: column;align-items: center;background-color: white;padding-right: 0.2em;padding-left: 0.2em;position: relative;}#sk-container-id-78 div.sk-item {position: relative;z-index: 1;}#sk-container-id-78 div.sk-parallel {display: flex;align-items: stretch;justify-content: center;background-color: white;position: relative;}#sk-container-id-78 div.sk-item::before, #sk-container-id-78 div.sk-parallel-item::before {content: \"\";position: absolute;border-left: 1px solid gray;box-sizing: border-box;top: 0;bottom: 0;left: 50%;z-index: -1;}#sk-container-id-78 div.sk-parallel-item {display: flex;flex-direction: column;z-index: 1;position: relative;background-color: white;}#sk-container-id-78 div.sk-parallel-item:first-child::after {align-self: flex-end;width: 50%;}#sk-container-id-78 div.sk-parallel-item:last-child::after {align-self: flex-start;width: 50%;}#sk-container-id-78 div.sk-parallel-item:only-child::after {width: 0;}#sk-container-id-78 div.sk-dashed-wrapped {border: 1px dashed gray;margin: 0 0.4em 0.5em 0.4em;box-sizing: border-box;padding-bottom: 0.4em;background-color: white;}#sk-container-id-78 div.sk-label label {font-family: monospace;font-weight: bold;display: inline-block;line-height: 1.2em;}#sk-container-id-78 div.sk-label-container {text-align: center;}#sk-container-id-78 div.sk-container {/* jupyter's `normalize.less` sets `[hidden] { display: none; }` but bootstrap.min.css set `[hidden] { display: none !important; }` so we also need the `!important` here to be able to override the default hidden behavior on the sphinx rendered scikit-learn.org. See: https://github.com/scikit-learn/scikit-learn/issues/21755 */display: inline-block !important;position: relative;}#sk-container-id-78 div.sk-text-repr-fallback {display: none;}</style><div id=\"sk-container-id-78\" class=\"sk-top-container\"><div class=\"sk-text-repr-fallback\"><pre>RandomizedSearchCV(cv=5, estimator=RandomForestClassifier(random_state=42),\n",
       "                   n_iter=8,\n",
       "                   param_distributions={&#x27;max_depth&#x27;: [10],\n",
       "                                        &#x27;max_leaf_nodes&#x27;: [400, 600, 800],\n",
       "                                        &#x27;n_estimators&#x27;: [500, 800, 1000]},\n",
       "                   random_state=42, verbose=2)</pre><b>In a Jupyter environment, please rerun this cell to show the HTML representation or trust the notebook. <br />On GitHub, the HTML representation is unable to render, please try loading this page with nbviewer.org.</b></div><div class=\"sk-container\" hidden><div class=\"sk-item sk-dashed-wrapped\"><div class=\"sk-label-container\"><div class=\"sk-label sk-toggleable\"><input class=\"sk-toggleable__control sk-hidden--visually\" id=\"sk-estimator-id-210\" type=\"checkbox\" ><label for=\"sk-estimator-id-210\" class=\"sk-toggleable__label sk-toggleable__label-arrow\">RandomizedSearchCV</label><div class=\"sk-toggleable__content\"><pre>RandomizedSearchCV(cv=5, estimator=RandomForestClassifier(random_state=42),\n",
       "                   n_iter=8,\n",
       "                   param_distributions={&#x27;max_depth&#x27;: [10],\n",
       "                                        &#x27;max_leaf_nodes&#x27;: [400, 600, 800],\n",
       "                                        &#x27;n_estimators&#x27;: [500, 800, 1000]},\n",
       "                   random_state=42, verbose=2)</pre></div></div></div><div class=\"sk-parallel\"><div class=\"sk-parallel-item\"><div class=\"sk-item\"><div class=\"sk-label-container\"><div class=\"sk-label sk-toggleable\"><input class=\"sk-toggleable__control sk-hidden--visually\" id=\"sk-estimator-id-211\" type=\"checkbox\" ><label for=\"sk-estimator-id-211\" class=\"sk-toggleable__label sk-toggleable__label-arrow\">estimator: RandomForestClassifier</label><div class=\"sk-toggleable__content\"><pre>RandomForestClassifier(random_state=42)</pre></div></div></div><div class=\"sk-serial\"><div class=\"sk-item\"><div class=\"sk-estimator sk-toggleable\"><input class=\"sk-toggleable__control sk-hidden--visually\" id=\"sk-estimator-id-212\" type=\"checkbox\" ><label for=\"sk-estimator-id-212\" class=\"sk-toggleable__label sk-toggleable__label-arrow\">RandomForestClassifier</label><div class=\"sk-toggleable__content\"><pre>RandomForestClassifier(random_state=42)</pre></div></div></div></div></div></div></div></div></div></div>"
      ],
      "text/plain": [
       "RandomizedSearchCV(cv=5, estimator=RandomForestClassifier(random_state=42),\n",
       "                   n_iter=8,\n",
       "                   param_distributions={'max_depth': [10],\n",
       "                                        'max_leaf_nodes': [400, 600, 800],\n",
       "                                        'n_estimators': [500, 800, 1000]},\n",
       "                   random_state=42, verbose=2)"
      ]
     },
     "execution_count": 428,
     "metadata": {},
     "output_type": "execute_result"
    }
   ],
   "source": [
    "model_rf2.fit(X_train, y_train)"
   ]
  },
  {
   "cell_type": "code",
   "execution_count": 430,
   "id": "8d7c14f3",
   "metadata": {},
   "outputs": [
    {
     "data": {
      "text/plain": [
       "(0.8584442438934993,\n",
       " {'n_estimators': 500, 'max_leaf_nodes': 600, 'max_depth': 10})"
      ]
     },
     "execution_count": 430,
     "metadata": {},
     "output_type": "execute_result"
    }
   ],
   "source": [
    "model_rf2.best_score_, model_rf2.best_params_"
   ]
  },
  {
   "cell_type": "code",
   "execution_count": 431,
   "id": "873074ff",
   "metadata": {},
   "outputs": [],
   "source": [
    "max_depth = 10\n",
    "max_leaf_nodes = 600\n",
    "n_estimators = 500"
   ]
  },
  {
   "cell_type": "code",
   "execution_count": 432,
   "id": "88a3c414",
   "metadata": {},
   "outputs": [
    {
     "data": {
      "text/html": [
       "<style>#sk-container-id-79 {color: black;background-color: white;}#sk-container-id-79 pre{padding: 0;}#sk-container-id-79 div.sk-toggleable {background-color: white;}#sk-container-id-79 label.sk-toggleable__label {cursor: pointer;display: block;width: 100%;margin-bottom: 0;padding: 0.3em;box-sizing: border-box;text-align: center;}#sk-container-id-79 label.sk-toggleable__label-arrow:before {content: \"▸\";float: left;margin-right: 0.25em;color: #696969;}#sk-container-id-79 label.sk-toggleable__label-arrow:hover:before {color: black;}#sk-container-id-79 div.sk-estimator:hover label.sk-toggleable__label-arrow:before {color: black;}#sk-container-id-79 div.sk-toggleable__content {max-height: 0;max-width: 0;overflow: hidden;text-align: left;background-color: #f0f8ff;}#sk-container-id-79 div.sk-toggleable__content pre {margin: 0.2em;color: black;border-radius: 0.25em;background-color: #f0f8ff;}#sk-container-id-79 input.sk-toggleable__control:checked~div.sk-toggleable__content {max-height: 200px;max-width: 100%;overflow: auto;}#sk-container-id-79 input.sk-toggleable__control:checked~label.sk-toggleable__label-arrow:before {content: \"▾\";}#sk-container-id-79 div.sk-estimator input.sk-toggleable__control:checked~label.sk-toggleable__label {background-color: #d4ebff;}#sk-container-id-79 div.sk-label input.sk-toggleable__control:checked~label.sk-toggleable__label {background-color: #d4ebff;}#sk-container-id-79 input.sk-hidden--visually {border: 0;clip: rect(1px 1px 1px 1px);clip: rect(1px, 1px, 1px, 1px);height: 1px;margin: -1px;overflow: hidden;padding: 0;position: absolute;width: 1px;}#sk-container-id-79 div.sk-estimator {font-family: monospace;background-color: #f0f8ff;border: 1px dotted black;border-radius: 0.25em;box-sizing: border-box;margin-bottom: 0.5em;}#sk-container-id-79 div.sk-estimator:hover {background-color: #d4ebff;}#sk-container-id-79 div.sk-parallel-item::after {content: \"\";width: 100%;border-bottom: 1px solid gray;flex-grow: 1;}#sk-container-id-79 div.sk-label:hover label.sk-toggleable__label {background-color: #d4ebff;}#sk-container-id-79 div.sk-serial::before {content: \"\";position: absolute;border-left: 1px solid gray;box-sizing: border-box;top: 0;bottom: 0;left: 50%;z-index: 0;}#sk-container-id-79 div.sk-serial {display: flex;flex-direction: column;align-items: center;background-color: white;padding-right: 0.2em;padding-left: 0.2em;position: relative;}#sk-container-id-79 div.sk-item {position: relative;z-index: 1;}#sk-container-id-79 div.sk-parallel {display: flex;align-items: stretch;justify-content: center;background-color: white;position: relative;}#sk-container-id-79 div.sk-item::before, #sk-container-id-79 div.sk-parallel-item::before {content: \"\";position: absolute;border-left: 1px solid gray;box-sizing: border-box;top: 0;bottom: 0;left: 50%;z-index: -1;}#sk-container-id-79 div.sk-parallel-item {display: flex;flex-direction: column;z-index: 1;position: relative;background-color: white;}#sk-container-id-79 div.sk-parallel-item:first-child::after {align-self: flex-end;width: 50%;}#sk-container-id-79 div.sk-parallel-item:last-child::after {align-self: flex-start;width: 50%;}#sk-container-id-79 div.sk-parallel-item:only-child::after {width: 0;}#sk-container-id-79 div.sk-dashed-wrapped {border: 1px dashed gray;margin: 0 0.4em 0.5em 0.4em;box-sizing: border-box;padding-bottom: 0.4em;background-color: white;}#sk-container-id-79 div.sk-label label {font-family: monospace;font-weight: bold;display: inline-block;line-height: 1.2em;}#sk-container-id-79 div.sk-label-container {text-align: center;}#sk-container-id-79 div.sk-container {/* jupyter's `normalize.less` sets `[hidden] { display: none; }` but bootstrap.min.css set `[hidden] { display: none !important; }` so we also need the `!important` here to be able to override the default hidden behavior on the sphinx rendered scikit-learn.org. See: https://github.com/scikit-learn/scikit-learn/issues/21755 */display: inline-block !important;position: relative;}#sk-container-id-79 div.sk-text-repr-fallback {display: none;}</style><div id=\"sk-container-id-79\" class=\"sk-top-container\"><div class=\"sk-text-repr-fallback\"><pre>RandomForestClassifier(max_depth=10, max_leaf_nodes=600, n_estimators=500)</pre><b>In a Jupyter environment, please rerun this cell to show the HTML representation or trust the notebook. <br />On GitHub, the HTML representation is unable to render, please try loading this page with nbviewer.org.</b></div><div class=\"sk-container\" hidden><div class=\"sk-item\"><div class=\"sk-estimator sk-toggleable\"><input class=\"sk-toggleable__control sk-hidden--visually\" id=\"sk-estimator-id-213\" type=\"checkbox\" checked><label for=\"sk-estimator-id-213\" class=\"sk-toggleable__label sk-toggleable__label-arrow\">RandomForestClassifier</label><div class=\"sk-toggleable__content\"><pre>RandomForestClassifier(max_depth=10, max_leaf_nodes=600, n_estimators=500)</pre></div></div></div></div></div>"
      ],
      "text/plain": [
       "RandomForestClassifier(max_depth=10, max_leaf_nodes=600, n_estimators=500)"
      ]
     },
     "execution_count": 432,
     "metadata": {},
     "output_type": "execute_result"
    }
   ],
   "source": [
    "rdf = RandomForestClassifier(n_estimators = n_estimators, max_leaf_nodes = max_leaf_nodes, max_depth=max_depth)\n",
    "rdf.fit(X_train, y_train)"
   ]
  },
  {
   "cell_type": "code",
   "execution_count": 433,
   "id": "e0c7ba4c",
   "metadata": {},
   "outputs": [
    {
     "data": {
      "text/plain": [
       "0.8578364731015731"
      ]
     },
     "execution_count": 433,
     "metadata": {},
     "output_type": "execute_result"
    }
   ],
   "source": [
    "rdf.score(X_test, y_test)"
   ]
  },
  {
   "cell_type": "code",
   "execution_count": 434,
   "id": "0cd6ac64",
   "metadata": {},
   "outputs": [
    {
     "data": {
      "text/plain": [
       "<BarContainer object of 52 artists>"
      ]
     },
     "execution_count": 434,
     "metadata": {},
     "output_type": "execute_result"
    },
    {
     "data": {
      "image/png": "[encoded data removed]",
      "text/plain": [
       "<Figure size 640x480 with 1 Axes>"
      ]
     },
     "metadata": {},
     "output_type": "display_data"
    }
   ],
   "source": [
    "plt.barh(X_train.columns, rdf.feature_importances_)"
   ]
  },
  {
   "cell_type": "code",
   "execution_count": null,
   "id": "df1b436f",
   "metadata": {},
   "outputs": [],
   "source": []
  },
  {
   "cell_type": "code",
   "execution_count": null,
   "id": "6ca80a60",
   "metadata": {},
   "outputs": [],
   "source": []
  },
  {
   "cell_type": "code",
   "execution_count": 267,
   "id": "9fe47041",
   "metadata": {},
   "outputs": [],
   "source": [
    "from sklearn.ensemble import AdaBoostClassifier"
   ]
  },
  {
   "cell_type": "code",
   "execution_count": 275,
   "id": "607c0d16",
   "metadata": {},
   "outputs": [
    {
     "data": {
      "text/html": [
       "<style>#sk-container-id-60 {color: black;background-color: white;}#sk-container-id-60 pre{padding: 0;}#sk-container-id-60 div.sk-toggleable {background-color: white;}#sk-container-id-60 label.sk-toggleable__label {cursor: pointer;display: block;width: 100%;margin-bottom: 0;padding: 0.3em;box-sizing: border-box;text-align: center;}#sk-container-id-60 label.sk-toggleable__label-arrow:before {content: \"▸\";float: left;margin-right: 0.25em;color: #696969;}#sk-container-id-60 label.sk-toggleable__label-arrow:hover:before {color: black;}#sk-container-id-60 div.sk-estimator:hover label.sk-toggleable__label-arrow:before {color: black;}#sk-container-id-60 div.sk-toggleable__content {max-height: 0;max-width: 0;overflow: hidden;text-align: left;background-color: #f0f8ff;}#sk-container-id-60 div.sk-toggleable__content pre {margin: 0.2em;color: black;border-radius: 0.25em;background-color: #f0f8ff;}#sk-container-id-60 input.sk-toggleable__control:checked~div.sk-toggleable__content {max-height: 200px;max-width: 100%;overflow: auto;}#sk-container-id-60 input.sk-toggleable__control:checked~label.sk-toggleable__label-arrow:before {content: \"▾\";}#sk-container-id-60 div.sk-estimator input.sk-toggleable__control:checked~label.sk-toggleable__label {background-color: #d4ebff;}#sk-container-id-60 div.sk-label input.sk-toggleable__control:checked~label.sk-toggleable__label {background-color: #d4ebff;}#sk-container-id-60 input.sk-hidden--visually {border: 0;clip: rect(1px 1px 1px 1px);clip: rect(1px, 1px, 1px, 1px);height: 1px;margin: -1px;overflow: hidden;padding: 0;position: absolute;width: 1px;}#sk-container-id-60 div.sk-estimator {font-family: monospace;background-color: #f0f8ff;border: 1px dotted black;border-radius: 0.25em;box-sizing: border-box;margin-bottom: 0.5em;}#sk-container-id-60 div.sk-estimator:hover {background-color: #d4ebff;}#sk-container-id-60 div.sk-parallel-item::after {content: \"\";width: 100%;border-bottom: 1px solid gray;flex-grow: 1;}#sk-container-id-60 div.sk-label:hover label.sk-toggleable__label {background-color: #d4ebff;}#sk-container-id-60 div.sk-serial::before {content: \"\";position: absolute;border-left: 1px solid gray;box-sizing: border-box;top: 0;bottom: 0;left: 50%;z-index: 0;}#sk-container-id-60 div.sk-serial {display: flex;flex-direction: column;align-items: center;background-color: white;padding-right: 0.2em;padding-left: 0.2em;position: relative;}#sk-container-id-60 div.sk-item {position: relative;z-index: 1;}#sk-container-id-60 div.sk-parallel {display: flex;align-items: stretch;justify-content: center;background-color: white;position: relative;}#sk-container-id-60 div.sk-item::before, #sk-container-id-60 div.sk-parallel-item::before {content: \"\";position: absolute;border-left: 1px solid gray;box-sizing: border-box;top: 0;bottom: 0;left: 50%;z-index: -1;}#sk-container-id-60 div.sk-parallel-item {display: flex;flex-direction: column;z-index: 1;position: relative;background-color: white;}#sk-container-id-60 div.sk-parallel-item:first-child::after {align-self: flex-end;width: 50%;}#sk-container-id-60 div.sk-parallel-item:last-child::after {align-self: flex-start;width: 50%;}#sk-container-id-60 div.sk-parallel-item:only-child::after {width: 0;}#sk-container-id-60 div.sk-dashed-wrapped {border: 1px dashed gray;margin: 0 0.4em 0.5em 0.4em;box-sizing: border-box;padding-bottom: 0.4em;background-color: white;}#sk-container-id-60 div.sk-label label {font-family: monospace;font-weight: bold;display: inline-block;line-height: 1.2em;}#sk-container-id-60 div.sk-label-container {text-align: center;}#sk-container-id-60 div.sk-container {/* jupyter's `normalize.less` sets `[hidden] { display: none; }` but bootstrap.min.css set `[hidden] { display: none !important; }` so we also need the `!important` here to be able to override the default hidden behavior on the sphinx rendered scikit-learn.org. See: https://github.com/scikit-learn/scikit-learn/issues/21755 */display: inline-block !important;position: relative;}#sk-container-id-60 div.sk-text-repr-fallback {display: none;}</style><div id=\"sk-container-id-60\" class=\"sk-top-container\"><div class=\"sk-text-repr-fallback\"><pre>GridSearchCV(cv=5, estimator=AdaBoostClassifier(),\n",
       "             param_grid={&#x27;learning_rate&#x27;: [0.001, 0.01, 0.1],\n",
       "                         &#x27;n_estimators&#x27;: [500, 600, 800]},\n",
       "             verbose=2)</pre><b>In a Jupyter environment, please rerun this cell to show the HTML representation or trust the notebook. <br />On GitHub, the HTML representation is unable to render, please try loading this page with nbviewer.org.</b></div><div class=\"sk-container\" hidden><div class=\"sk-item sk-dashed-wrapped\"><div class=\"sk-label-container\"><div class=\"sk-label sk-toggleable\"><input class=\"sk-toggleable__control sk-hidden--visually\" id=\"sk-estimator-id-176\" type=\"checkbox\" ><label for=\"sk-estimator-id-176\" class=\"sk-toggleable__label sk-toggleable__label-arrow\">GridSearchCV</label><div class=\"sk-toggleable__content\"><pre>GridSearchCV(cv=5, estimator=AdaBoostClassifier(),\n",
       "             param_grid={&#x27;learning_rate&#x27;: [0.001, 0.01, 0.1],\n",
       "                         &#x27;n_estimators&#x27;: [500, 600, 800]},\n",
       "             verbose=2)</pre></div></div></div><div class=\"sk-parallel\"><div class=\"sk-parallel-item\"><div class=\"sk-item\"><div class=\"sk-label-container\"><div class=\"sk-label sk-toggleable\"><input class=\"sk-toggleable__control sk-hidden--visually\" id=\"sk-estimator-id-177\" type=\"checkbox\" ><label for=\"sk-estimator-id-177\" class=\"sk-toggleable__label sk-toggleable__label-arrow\">estimator: AdaBoostClassifier</label><div class=\"sk-toggleable__content\"><pre>AdaBoostClassifier()</pre></div></div></div><div class=\"sk-serial\"><div class=\"sk-item\"><div class=\"sk-estimator sk-toggleable\"><input class=\"sk-toggleable__control sk-hidden--visually\" id=\"sk-estimator-id-178\" type=\"checkbox\" ><label for=\"sk-estimator-id-178\" class=\"sk-toggleable__label sk-toggleable__label-arrow\">AdaBoostClassifier</label><div class=\"sk-toggleable__content\"><pre>AdaBoostClassifier()</pre></div></div></div></div></div></div></div></div></div></div>"
      ],
      "text/plain": [
       "GridSearchCV(cv=5, estimator=AdaBoostClassifier(),\n",
       "             param_grid={'learning_rate': [0.001, 0.01, 0.1],\n",
       "                         'n_estimators': [500, 600, 800]},\n",
       "             verbose=2)"
      ]
     },
     "execution_count": 275,
     "metadata": {},
     "output_type": "execute_result"
    }
   ],
   "source": [
    "ada = AdaBoostClassifier()\n",
    "\n",
    "ada_grid= {\n",
    "    'n_estimators':[500, 600, 800],\n",
    "    'learning_rate':[0.001, 0.01, 0.1]\n",
    "}\n",
    "\n",
    "mod = GridSearchCV(ada, ada_grid, cv=5, verbose=2)\n",
    "mod"
   ]
  },
  {
   "cell_type": "code",
   "execution_count": 276,
   "id": "38b6ca52",
   "metadata": {
    "scrolled": false
   },
   "outputs": [
    {
     "name": "stdout",
     "output_type": "stream",
     "text": [
      "Fitting 5 folds for each of 9 candidates, totalling 45 fits\n",
      "[CV] END ..............learning_rate=0.001, n_estimators=500; total time=  36.7s\n",
      "[CV] END ..............learning_rate=0.001, n_estimators=500; total time=  40.3s\n",
      "[CV] END ..............learning_rate=0.001, n_estimators=500; total time=  51.8s\n",
      "[CV] END ..............learning_rate=0.001, n_estimators=500; total time=  50.0s\n",
      "[CV] END ..............learning_rate=0.001, n_estimators=500; total time=  47.0s\n",
      "[CV] END ..............learning_rate=0.001, n_estimators=600; total time=  58.3s\n",
      "[CV] END ..............learning_rate=0.001, n_estimators=600; total time=  56.6s\n",
      "[CV] END ..............learning_rate=0.001, n_estimators=600; total time=  57.2s\n",
      "[CV] END ..............learning_rate=0.001, n_estimators=600; total time=  56.8s\n",
      "[CV] END ..............learning_rate=0.001, n_estimators=600; total time=  59.0s\n",
      "[CV] END ..............learning_rate=0.001, n_estimators=800; total time= 1.3min\n",
      "[CV] END ..............learning_rate=0.001, n_estimators=800; total time= 1.4min\n",
      "[CV] END ..............learning_rate=0.001, n_estimators=800; total time= 1.3min\n",
      "[CV] END ..............learning_rate=0.001, n_estimators=800; total time= 1.2min\n",
      "[CV] END ..............learning_rate=0.001, n_estimators=800; total time= 1.0min\n",
      "[CV] END ...............learning_rate=0.01, n_estimators=500; total time=  39.2s\n",
      "[CV] END ...............learning_rate=0.01, n_estimators=500; total time=  39.1s\n",
      "[CV] END ...............learning_rate=0.01, n_estimators=500; total time=  37.4s\n",
      "[CV] END ...............learning_rate=0.01, n_estimators=500; total time=  36.2s\n",
      "[CV] END ...............learning_rate=0.01, n_estimators=500; total time=  35.4s\n",
      "[CV] END ...............learning_rate=0.01, n_estimators=600; total time=  44.4s\n",
      "[CV] END ...............learning_rate=0.01, n_estimators=600; total time=  54.2s\n",
      "[CV] END ...............learning_rate=0.01, n_estimators=600; total time=  51.6s\n",
      "[CV] END ...............learning_rate=0.01, n_estimators=600; total time=  45.1s\n",
      "[CV] END ...............learning_rate=0.01, n_estimators=600; total time=  47.8s\n",
      "[CV] END ...............learning_rate=0.01, n_estimators=800; total time=  57.3s\n",
      "[CV] END ...............learning_rate=0.01, n_estimators=800; total time= 1.1min\n",
      "[CV] END ...............learning_rate=0.01, n_estimators=800; total time= 1.0min\n",
      "[CV] END ...............learning_rate=0.01, n_estimators=800; total time= 1.1min\n",
      "[CV] END ...............learning_rate=0.01, n_estimators=800; total time= 1.0min\n",
      "[CV] END ................learning_rate=0.1, n_estimators=500; total time=  41.5s\n",
      "[CV] END ................learning_rate=0.1, n_estimators=500; total time=  36.5s\n",
      "[CV] END ................learning_rate=0.1, n_estimators=500; total time=  39.7s\n",
      "[CV] END ................learning_rate=0.1, n_estimators=500; total time=  44.7s\n",
      "[CV] END ................learning_rate=0.1, n_estimators=500; total time=  49.1s\n",
      "[CV] END ................learning_rate=0.1, n_estimators=600; total time=  58.3s\n",
      "[CV] END ................learning_rate=0.1, n_estimators=600; total time= 1.0min\n",
      "[CV] END ................learning_rate=0.1, n_estimators=600; total time=  58.8s\n",
      "[CV] END ................learning_rate=0.1, n_estimators=600; total time=  56.6s\n",
      "[CV] END ................learning_rate=0.1, n_estimators=600; total time= 1.0min\n",
      "[CV] END ................learning_rate=0.1, n_estimators=800; total time= 1.1min\n",
      "[CV] END ................learning_rate=0.1, n_estimators=800; total time= 1.1min\n",
      "[CV] END ................learning_rate=0.1, n_estimators=800; total time= 1.1min\n",
      "[CV] END ................learning_rate=0.1, n_estimators=800; total time=  59.8s\n",
      "[CV] END ................learning_rate=0.1, n_estimators=800; total time=  59.2s\n"
     ]
    },
    {
     "data": {
      "text/html": [
       "<style>#sk-container-id-61 {color: black;background-color: white;}#sk-container-id-61 pre{padding: 0;}#sk-container-id-61 div.sk-toggleable {background-color: white;}#sk-container-id-61 label.sk-toggleable__label {cursor: pointer;display: block;width: 100%;margin-bottom: 0;padding: 0.3em;box-sizing: border-box;text-align: center;}#sk-container-id-61 label.sk-toggleable__label-arrow:before {content: \"▸\";float: left;margin-right: 0.25em;color: #696969;}#sk-container-id-61 label.sk-toggleable__label-arrow:hover:before {color: black;}#sk-container-id-61 div.sk-estimator:hover label.sk-toggleable__label-arrow:before {color: black;}#sk-container-id-61 div.sk-toggleable__content {max-height: 0;max-width: 0;overflow: hidden;text-align: left;background-color: #f0f8ff;}#sk-container-id-61 div.sk-toggleable__content pre {margin: 0.2em;color: black;border-radius: 0.25em;background-color: #f0f8ff;}#sk-container-id-61 input.sk-toggleable__control:checked~div.sk-toggleable__content {max-height: 200px;max-width: 100%;overflow: auto;}#sk-container-id-61 input.sk-toggleable__control:checked~label.sk-toggleable__label-arrow:before {content: \"▾\";}#sk-container-id-61 div.sk-estimator input.sk-toggleable__control:checked~label.sk-toggleable__label {background-color: #d4ebff;}#sk-container-id-61 div.sk-label input.sk-toggleable__control:checked~label.sk-toggleable__label {background-color: #d4ebff;}#sk-container-id-61 input.sk-hidden--visually {border: 0;clip: rect(1px 1px 1px 1px);clip: rect(1px, 1px, 1px, 1px);height: 1px;margin: -1px;overflow: hidden;padding: 0;position: absolute;width: 1px;}#sk-container-id-61 div.sk-estimator {font-family: monospace;background-color: #f0f8ff;border: 1px dotted black;border-radius: 0.25em;box-sizing: border-box;margin-bottom: 0.5em;}#sk-container-id-61 div.sk-estimator:hover {background-color: #d4ebff;}#sk-container-id-61 div.sk-parallel-item::after {content: \"\";width: 100%;border-bottom: 1px solid gray;flex-grow: 1;}#sk-container-id-61 div.sk-label:hover label.sk-toggleable__label {background-color: #d4ebff;}#sk-container-id-61 div.sk-serial::before {content: \"\";position: absolute;border-left: 1px solid gray;box-sizing: border-box;top: 0;bottom: 0;left: 50%;z-index: 0;}#sk-container-id-61 div.sk-serial {display: flex;flex-direction: column;align-items: center;background-color: white;padding-right: 0.2em;padding-left: 0.2em;position: relative;}#sk-container-id-61 div.sk-item {position: relative;z-index: 1;}#sk-container-id-61 div.sk-parallel {display: flex;align-items: stretch;justify-content: center;background-color: white;position: relative;}#sk-container-id-61 div.sk-item::before, #sk-container-id-61 div.sk-parallel-item::before {content: \"\";position: absolute;border-left: 1px solid gray;box-sizing: border-box;top: 0;bottom: 0;left: 50%;z-index: -1;}#sk-container-id-61 div.sk-parallel-item {display: flex;flex-direction: column;z-index: 1;position: relative;background-color: white;}#sk-container-id-61 div.sk-parallel-item:first-child::after {align-self: flex-end;width: 50%;}#sk-container-id-61 div.sk-parallel-item:last-child::after {align-self: flex-start;width: 50%;}#sk-container-id-61 div.sk-parallel-item:only-child::after {width: 0;}#sk-container-id-61 div.sk-dashed-wrapped {border: 1px dashed gray;margin: 0 0.4em 0.5em 0.4em;box-sizing: border-box;padding-bottom: 0.4em;background-color: white;}#sk-container-id-61 div.sk-label label {font-family: monospace;font-weight: bold;display: inline-block;line-height: 1.2em;}#sk-container-id-61 div.sk-label-container {text-align: center;}#sk-container-id-61 div.sk-container {/* jupyter's `normalize.less` sets `[hidden] { display: none; }` but bootstrap.min.css set `[hidden] { display: none !important; }` so we also need the `!important` here to be able to override the default hidden behavior on the sphinx rendered scikit-learn.org. See: https://github.com/scikit-learn/scikit-learn/issues/21755 */display: inline-block !important;position: relative;}#sk-container-id-61 div.sk-text-repr-fallback {display: none;}</style><div id=\"sk-container-id-61\" class=\"sk-top-container\"><div class=\"sk-text-repr-fallback\"><pre>GridSearchCV(cv=5, estimator=AdaBoostClassifier(),\n",
       "             param_grid={&#x27;learning_rate&#x27;: [0.001, 0.01, 0.1],\n",
       "                         &#x27;n_estimators&#x27;: [500, 600, 800]},\n",
       "             verbose=2)</pre><b>In a Jupyter environment, please rerun this cell to show the HTML representation or trust the notebook. <br />On GitHub, the HTML representation is unable to render, please try loading this page with nbviewer.org.</b></div><div class=\"sk-container\" hidden><div class=\"sk-item sk-dashed-wrapped\"><div class=\"sk-label-container\"><div class=\"sk-label sk-toggleable\"><input class=\"sk-toggleable__control sk-hidden--visually\" id=\"sk-estimator-id-179\" type=\"checkbox\" ><label for=\"sk-estimator-id-179\" class=\"sk-toggleable__label sk-toggleable__label-arrow\">GridSearchCV</label><div class=\"sk-toggleable__content\"><pre>GridSearchCV(cv=5, estimator=AdaBoostClassifier(),\n",
       "             param_grid={&#x27;learning_rate&#x27;: [0.001, 0.01, 0.1],\n",
       "                         &#x27;n_estimators&#x27;: [500, 600, 800]},\n",
       "             verbose=2)</pre></div></div></div><div class=\"sk-parallel\"><div class=\"sk-parallel-item\"><div class=\"sk-item\"><div class=\"sk-label-container\"><div class=\"sk-label sk-toggleable\"><input class=\"sk-toggleable__control sk-hidden--visually\" id=\"sk-estimator-id-180\" type=\"checkbox\" ><label for=\"sk-estimator-id-180\" class=\"sk-toggleable__label sk-toggleable__label-arrow\">estimator: AdaBoostClassifier</label><div class=\"sk-toggleable__content\"><pre>AdaBoostClassifier()</pre></div></div></div><div class=\"sk-serial\"><div class=\"sk-item\"><div class=\"sk-estimator sk-toggleable\"><input class=\"sk-toggleable__control sk-hidden--visually\" id=\"sk-estimator-id-181\" type=\"checkbox\" ><label for=\"sk-estimator-id-181\" class=\"sk-toggleable__label sk-toggleable__label-arrow\">AdaBoostClassifier</label><div class=\"sk-toggleable__content\"><pre>AdaBoostClassifier()</pre></div></div></div></div></div></div></div></div></div></div>"
      ],
      "text/plain": [
       "GridSearchCV(cv=5, estimator=AdaBoostClassifier(),\n",
       "             param_grid={'learning_rate': [0.001, 0.01, 0.1],\n",
       "                         'n_estimators': [500, 600, 800]},\n",
       "             verbose=2)"
      ]
     },
     "execution_count": 276,
     "metadata": {},
     "output_type": "execute_result"
    }
   ],
   "source": [
    "mod.fit(X_train, y_train)"
   ]
  },
  {
   "cell_type": "code",
   "execution_count": 280,
   "id": "06601f59",
   "metadata": {
    "scrolled": false
   },
   "outputs": [
    {
     "data": {
      "text/plain": [
       "(0.8472032232254408, {'learning_rate': 0.1, 'n_estimators': 800})"
      ]
     },
     "execution_count": 280,
     "metadata": {},
     "output_type": "execute_result"
    }
   ],
   "source": [
    "mod.best_score_, mod.best_params_"
   ]
  },
  {
   "cell_type": "code",
   "execution_count": 435,
   "id": "b3430e67",
   "metadata": {},
   "outputs": [
    {
     "data": {
      "text/html": [
       "<style>#sk-container-id-80 {color: black;background-color: white;}#sk-container-id-80 pre{padding: 0;}#sk-container-id-80 div.sk-toggleable {background-color: white;}#sk-container-id-80 label.sk-toggleable__label {cursor: pointer;display: block;width: 100%;margin-bottom: 0;padding: 0.3em;box-sizing: border-box;text-align: center;}#sk-container-id-80 label.sk-toggleable__label-arrow:before {content: \"▸\";float: left;margin-right: 0.25em;color: #696969;}#sk-container-id-80 label.sk-toggleable__label-arrow:hover:before {color: black;}#sk-container-id-80 div.sk-estimator:hover label.sk-toggleable__label-arrow:before {color: black;}#sk-container-id-80 div.sk-toggleable__content {max-height: 0;max-width: 0;overflow: hidden;text-align: left;background-color: #f0f8ff;}#sk-container-id-80 div.sk-toggleable__content pre {margin: 0.2em;color: black;border-radius: 0.25em;background-color: #f0f8ff;}#sk-container-id-80 input.sk-toggleable__control:checked~div.sk-toggleable__content {max-height: 200px;max-width: 100%;overflow: auto;}#sk-container-id-80 input.sk-toggleable__control:checked~label.sk-toggleable__label-arrow:before {content: \"▾\";}#sk-container-id-80 div.sk-estimator input.sk-toggleable__control:checked~label.sk-toggleable__label {background-color: #d4ebff;}#sk-container-id-80 div.sk-label input.sk-toggleable__control:checked~label.sk-toggleable__label {background-color: #d4ebff;}#sk-container-id-80 input.sk-hidden--visually {border: 0;clip: rect(1px 1px 1px 1px);clip: rect(1px, 1px, 1px, 1px);height: 1px;margin: -1px;overflow: hidden;padding: 0;position: absolute;width: 1px;}#sk-container-id-80 div.sk-estimator {font-family: monospace;background-color: #f0f8ff;border: 1px dotted black;border-radius: 0.25em;box-sizing: border-box;margin-bottom: 0.5em;}#sk-container-id-80 div.sk-estimator:hover {background-color: #d4ebff;}#sk-container-id-80 div.sk-parallel-item::after {content: \"\";width: 100%;border-bottom: 1px solid gray;flex-grow: 1;}#sk-container-id-80 div.sk-label:hover label.sk-toggleable__label {background-color: #d4ebff;}#sk-container-id-80 div.sk-serial::before {content: \"\";position: absolute;border-left: 1px solid gray;box-sizing: border-box;top: 0;bottom: 0;left: 50%;z-index: 0;}#sk-container-id-80 div.sk-serial {display: flex;flex-direction: column;align-items: center;background-color: white;padding-right: 0.2em;padding-left: 0.2em;position: relative;}#sk-container-id-80 div.sk-item {position: relative;z-index: 1;}#sk-container-id-80 div.sk-parallel {display: flex;align-items: stretch;justify-content: center;background-color: white;position: relative;}#sk-container-id-80 div.sk-item::before, #sk-container-id-80 div.sk-parallel-item::before {content: \"\";position: absolute;border-left: 1px solid gray;box-sizing: border-box;top: 0;bottom: 0;left: 50%;z-index: -1;}#sk-container-id-80 div.sk-parallel-item {display: flex;flex-direction: column;z-index: 1;position: relative;background-color: white;}#sk-container-id-80 div.sk-parallel-item:first-child::after {align-self: flex-end;width: 50%;}#sk-container-id-80 div.sk-parallel-item:last-child::after {align-self: flex-start;width: 50%;}#sk-container-id-80 div.sk-parallel-item:only-child::after {width: 0;}#sk-container-id-80 div.sk-dashed-wrapped {border: 1px dashed gray;margin: 0 0.4em 0.5em 0.4em;box-sizing: border-box;padding-bottom: 0.4em;background-color: white;}#sk-container-id-80 div.sk-label label {font-family: monospace;font-weight: bold;display: inline-block;line-height: 1.2em;}#sk-container-id-80 div.sk-label-container {text-align: center;}#sk-container-id-80 div.sk-container {/* jupyter's `normalize.less` sets `[hidden] { display: none; }` but bootstrap.min.css set `[hidden] { display: none !important; }` so we also need the `!important` here to be able to override the default hidden behavior on the sphinx rendered scikit-learn.org. See: https://github.com/scikit-learn/scikit-learn/issues/21755 */display: inline-block !important;position: relative;}#sk-container-id-80 div.sk-text-repr-fallback {display: none;}</style><div id=\"sk-container-id-80\" class=\"sk-top-container\"><div class=\"sk-text-repr-fallback\"><pre>AdaBoostClassifier(learning_rate=0.1, n_estimators=800)</pre><b>In a Jupyter environment, please rerun this cell to show the HTML representation or trust the notebook. <br />On GitHub, the HTML representation is unable to render, please try loading this page with nbviewer.org.</b></div><div class=\"sk-container\" hidden><div class=\"sk-item\"><div class=\"sk-estimator sk-toggleable\"><input class=\"sk-toggleable__control sk-hidden--visually\" id=\"sk-estimator-id-214\" type=\"checkbox\" checked><label for=\"sk-estimator-id-214\" class=\"sk-toggleable__label sk-toggleable__label-arrow\">AdaBoostClassifier</label><div class=\"sk-toggleable__content\"><pre>AdaBoostClassifier(learning_rate=0.1, n_estimators=800)</pre></div></div></div></div></div>"
      ],
      "text/plain": [
       "AdaBoostClassifier(learning_rate=0.1, n_estimators=800)"
      ]
     },
     "execution_count": 435,
     "metadata": {},
     "output_type": "execute_result"
    }
   ],
   "source": [
    "ada_opti = AdaBoostClassifier(n_estimators=800, learning_rate=0.1)\n",
    "ada_opti.fit(X_train, y_train)"
   ]
  },
  {
   "cell_type": "code",
   "execution_count": 436,
   "id": "e4f3187f",
   "metadata": {},
   "outputs": [
    {
     "data": {
      "text/plain": [
       "0.8491940182559721"
      ]
     },
     "execution_count": 436,
     "metadata": {},
     "output_type": "execute_result"
    }
   ],
   "source": [
    "ada_opti.score(X_test, y_test)"
   ]
  },
  {
   "cell_type": "code",
   "execution_count": null,
   "id": "70105705",
   "metadata": {},
   "outputs": [],
   "source": []
  },
  {
   "cell_type": "code",
   "execution_count": null,
   "id": "e8ecb606",
   "metadata": {},
   "outputs": [],
   "source": []
  },
  {
   "cell_type": "code",
   "execution_count": null,
   "id": "8546d73d",
   "metadata": {},
   "outputs": [],
   "source": []
  },
  {
   "cell_type": "code",
   "execution_count": null,
   "id": "66f027cc",
   "metadata": {},
   "outputs": [],
   "source": []
  },
  {
   "cell_type": "code",
   "execution_count": null,
   "id": "e7bf70b6",
   "metadata": {},
   "outputs": [],
   "source": []
  },
  {
   "cell_type": "code",
   "execution_count": null,
   "id": "f64da0d7",
   "metadata": {},
   "outputs": [],
   "source": []
  },
  {
   "cell_type": "code",
   "execution_count": null,
   "id": "90fd5a3e",
   "metadata": {},
   "outputs": [],
   "source": []
  },
  {
   "cell_type": "code",
   "execution_count": null,
   "id": "f7f5a673",
   "metadata": {},
   "outputs": [],
   "source": []
  },
  {
   "cell_type": "code",
   "execution_count": null,
   "id": "5b563b71",
   "metadata": {},
   "outputs": [],
   "source": []
  },
  {
   "cell_type": "code",
   "execution_count": null,
   "id": "9a340748",
   "metadata": {},
   "outputs": [],
   "source": []
  }
 ],
 "metadata": {
  "kernelspec": {
   "display_name": "Python 3 (ipykernel)",
   "language": "python",
   "name": "python3"
  },
  "language_info": {
   "codemirror_mode": {
    "name": "ipython",
    "version": 3
   },
   "file_extension": ".py",
   "mimetype": "text/x-python",
   "name": "python",
   "nbconvert_exporter": "python",
   "pygments_lexer": "ipython3",
   "version": "3.10.9"
  }
 },
 "nbformat": 4,
 "nbformat_minor": 5
}
